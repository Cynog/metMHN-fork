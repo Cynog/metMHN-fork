{
 "cells": [
  {
   "cell_type": "code",
   "execution_count": 1,
   "metadata": {},
   "outputs": [],
   "source": [
    "import metmhn.Utilityfunctions as utils\n",
    "import metmhn.regularized_optimization as reg_opt\n",
    "\n",
    "import pandas as pd\n",
    "import numpy as np\n",
    "import jax as jax\n",
    "jax.config.update(\"jax_enable_x64\", True)\n",
    "import jax.numpy as jnp\n",
    "import matplotlib.pyplot as plt\n",
    "from sklearn.metrics import (roc_curve, roc_auc_score, \n",
    "                             precision_recall_curve)\n",
    "from sklearn.linear_model import LogisticRegression\n",
    "import warnings\n",
    "warnings.simplefilter(action='ignore', category=pd.errors.PerformanceWarning)"
   ]
  },
  {
   "attachments": {},
   "cell_type": "markdown",
   "metadata": {},
   "source": [
    "Read the data and split it in  training and test sets:"
   ]
  },
  {
   "cell_type": "code",
   "execution_count": 2,
   "metadata": {},
   "outputs": [],
   "source": [
    "mut_handle = \"../data/paad/G12_PAADPANET_PM_z10_Events_30and5_Full.csv\"\n",
    "annot_handle = \"../data/paad/G12_PAADPANET_PM_z10_sampleSelection.csv\"\n",
    "\n",
    "annot_data = pd.read_csv(annot_handle)\n",
    "mut_data = pd.read_csv(mut_handle)\n",
    "mut_data.rename(columns={\"Unnamed: 0\":\"patientID\"}, inplace = True)\n",
    "dat = pd.merge(mut_data, annot_data.loc[:, ['patientID', 'metaStatus']], on=[\"patientID\", \"patientID\"])\n",
    "\n",
    "# Remove datapoints, that consist solely of NaNs\n",
    "dat = dat.loc[dat.iloc[:,1:-3].isna().all(axis=1) == False, :]\n",
    "dat = dat.loc[(dat.iloc[:,1:-3].sum(axis=1) > 0), :]"
   ]
  },
  {
   "cell_type": "code",
   "execution_count": 3,
   "metadata": {},
   "outputs": [],
   "source": [
    "# Split the dataset into a training and a test set\n",
    "n_dat = dat.shape[0]\n",
    "start = 'P.Mut.KRAS'\n",
    "stop = 'M.Mut.PTPRT'\n",
    "shuffled = dat.sample(frac=1)\n",
    "train = shuffled.iloc[:int(0.8*n_dat), :]\n",
    "test = shuffled.iloc[int(0.8*n_dat):, :]\n",
    "\n",
    "train = train.set_index([\"paired\", \"metaStatus\"])\n",
    "train = train.loc[zip(*[[0,0,0,1],[\"present\", \"absent\", \"isMetastasis\", \"isPaired\"]]), start:stop]\n",
    "train.loc[(0, [\"present\", \"isMetastasis\"]), \"Seeding\"] = 1\n",
    "train.loc[(0, \"absent\"), \"Seeding\"] = 0\n",
    "train.loc[(1, \"isPaired\"), \"Seeding\"] = 1\n",
    "train = train.astype('int8')\n",
    "train_po, train_mo, train_pm, train_c = utils.split_data(train)\n",
    "\n",
    "test = test.set_index([\"paired\", \"metaStatus\"])\n",
    "test = test.loc[zip(*[[0,0,0,1],[\"present\", \"absent\", \"isMetastasis\", \"isPaired\"]]), start:stop]\n",
    "test.loc[(0, [\"present\", \"isMetastasis\"]), \"Seeding\"] = 1\n",
    "test.loc[(0, \"absent\"), \"Seeding\"] = 0\n",
    "test.loc[(1, \"isPaired\"), \"Seeding\"] = 1\n",
    "test = test.astype('int8')\n",
    "test_po, test_mo, test_pm, test_c = utils.split_data(train)\n",
    "test = np.row_stack((test_po, test_pm, test_c))"
   ]
  },
  {
   "attachments": {},
   "cell_type": "markdown",
   "metadata": {},
   "source": [
    "Learn the metMHN:"
   ]
  },
  {
   "cell_type": "code",
   "execution_count": 18,
   "metadata": {},
   "outputs": [
    {
     "name": "stderr",
     "output_type": "stream",
     "text": [
      " This problem is unconstrained.\n"
     ]
    },
    {
     "name": "stdout",
     "output_type": "stream",
     "text": [
      "RUNNING THE L-BFGS-B CODE\n",
      "\n",
      "           * * *\n",
      "\n",
      "Machine precision = 2.220D-16\n",
      " N =         1368     M =           10\n",
      "\n",
      "At X0         0 variables are exactly at the bounds\n",
      "\n",
      "At iterate    0    f=  1.25486D+01    |proj g|=  1.62380D+00\n",
      "\n",
      "At iterate    1    f=  1.07677D+01    |proj g|=  8.87181D-01\n",
      "\n",
      "At iterate    2    f=  9.85037D+00    |proj g|=  1.39903D-01\n",
      "\n",
      "At iterate    3    f=  9.69766D+00    |proj g|=  6.39289D-02\n",
      "\n",
      "At iterate    4    f=  9.44507D+00    |proj g|=  1.13613D-01\n",
      "\n",
      "At iterate    5    f=  9.27966D+00    |proj g|=  1.79059D-01\n",
      "\n",
      "At iterate    6    f=  9.09239D+00    |proj g|=  1.31595D-01\n",
      "\n",
      "At iterate    7    f=  8.92350D+00    |proj g|=  3.80361D-02\n",
      "\n",
      "At iterate    8    f=  8.84825D+00    |proj g|=  7.93927D-02\n",
      "\n",
      "At iterate    9    f=  8.74266D+00    |proj g|=  6.45697D-02\n",
      "\n",
      "At iterate   10    f=  8.62303D+00    |proj g|=  6.40047D-02\n",
      "\n",
      "At iterate   11    f=  8.60385D+00    |proj g|=  1.55994D-01\n",
      "\n",
      "At iterate   12    f=  8.53313D+00    |proj g|=  2.19583D-02\n",
      "\n",
      "At iterate   13    f=  8.51183D+00    |proj g|=  1.77993D-02\n",
      "\n",
      "At iterate   14    f=  8.47927D+00    |proj g|=  4.19434D-02\n",
      "\n",
      "At iterate   15    f=  8.43553D+00    |proj g|=  5.03520D-02\n",
      "\n",
      "At iterate   16    f=  8.41301D+00    |proj g|=  1.14483D-01\n",
      "\n",
      "At iterate   17    f=  8.37098D+00    |proj g|=  3.30456D-02\n",
      "\n",
      "At iterate   18    f=  8.36285D+00    |proj g|=  1.78182D-02\n",
      "\n",
      "At iterate   19    f=  8.34721D+00    |proj g|=  1.67571D-02\n",
      "\n",
      "At iterate   20    f=  8.33303D+00    |proj g|=  2.95225D-02\n",
      "\n",
      "At iterate   21    f=  8.31722D+00    |proj g|=  4.05737D-02\n",
      "\n",
      "At iterate   22    f=  8.30298D+00    |proj g|=  1.46855D-02\n",
      "\n",
      "At iterate   23    f=  8.29442D+00    |proj g|=  9.27050D-03\n",
      "\n",
      "At iterate   24    f=  8.28197D+00    |proj g|=  2.15920D-02\n",
      "\n",
      "At iterate   25    f=  8.26591D+00    |proj g|=  2.91070D-02\n",
      "\n",
      "At iterate   26    f=  8.25610D+00    |proj g|=  4.80600D-02\n",
      "\n",
      "At iterate   27    f=  8.24595D+00    |proj g|=  1.02454D-02\n",
      "\n",
      "At iterate   28    f=  8.23898D+00    |proj g|=  1.96397D-02\n",
      "\n",
      "At iterate   29    f=  8.23270D+00    |proj g|=  2.56889D-02\n",
      "\n",
      "At iterate   30    f=  8.22674D+00    |proj g|=  3.99597D-02\n",
      "\n",
      "At iterate   31    f=  8.21834D+00    |proj g|=  1.20664D-02\n",
      "\n",
      "At iterate   32    f=  8.21180D+00    |proj g|=  1.04123D-02\n",
      "\n",
      "At iterate   33    f=  8.20465D+00    |proj g|=  1.92192D-02\n",
      "\n",
      "At iterate   34    f=  8.19689D+00    |proj g|=  1.49547D-02\n",
      "\n",
      "At iterate   35    f=  8.19308D+00    |proj g|=  5.98158D-02\n",
      "\n",
      "At iterate   36    f=  8.18321D+00    |proj g|=  8.70350D-03\n",
      "\n",
      "At iterate   37    f=  8.18072D+00    |proj g|=  7.98376D-03\n",
      "\n",
      "At iterate   38    f=  8.17382D+00    |proj g|=  8.41940D-03\n",
      "\n",
      "At iterate   39    f=  8.17147D+00    |proj g|=  3.51749D-02\n",
      "\n",
      "At iterate   40    f=  8.16665D+00    |proj g|=  5.62836D-03\n",
      "\n",
      "At iterate   41    f=  8.16377D+00    |proj g|=  9.80389D-03\n",
      "\n",
      "At iterate   42    f=  8.16015D+00    |proj g|=  1.48209D-02\n",
      "\n",
      "At iterate   43    f=  8.15685D+00    |proj g|=  2.27107D-02\n",
      "\n",
      "At iterate   44    f=  8.15285D+00    |proj g|=  5.21091D-03\n",
      "\n",
      "At iterate   45    f=  8.15040D+00    |proj g|=  6.91739D-03\n",
      "\n",
      "At iterate   46    f=  8.14732D+00    |proj g|=  1.24069D-02\n",
      "\n",
      "At iterate   47    f=  8.14358D+00    |proj g|=  7.18835D-03\n",
      "\n",
      "At iterate   48    f=  8.14033D+00    |proj g|=  1.37490D-02\n",
      "\n",
      "At iterate   49    f=  8.13700D+00    |proj g|=  7.57483D-03\n",
      "\n",
      "At iterate   50    f=  8.13515D+00    |proj g|=  9.75289D-03\n",
      "\n",
      "At iterate   51    f=  8.13273D+00    |proj g|=  1.14010D-02\n",
      "\n",
      "At iterate   52    f=  8.13031D+00    |proj g|=  9.54652D-03\n",
      "\n",
      "At iterate   53    f=  8.12800D+00    |proj g|=  5.76269D-03\n",
      "\n",
      "At iterate   54    f=  8.12468D+00    |proj g|=  4.25166D-03\n",
      "\n",
      "At iterate   55    f=  8.12365D+00    |proj g|=  2.13446D-02\n",
      "\n",
      "At iterate   56    f=  8.12153D+00    |proj g|=  6.99622D-03\n",
      "\n",
      "At iterate   57    f=  8.12022D+00    |proj g|=  7.43798D-03\n",
      "\n",
      "At iterate   58    f=  8.11873D+00    |proj g|=  5.65256D-03\n",
      "\n",
      "At iterate   59    f=  8.11677D+00    |proj g|=  9.32865D-03\n",
      "\n",
      "At iterate   60    f=  8.11512D+00    |proj g|=  1.09259D-02\n",
      "\n",
      "At iterate   61    f=  8.11394D+00    |proj g|=  5.58986D-03\n",
      "\n",
      "At iterate   62    f=  8.11247D+00    |proj g|=  5.86870D-03\n",
      "\n",
      "At iterate   63    f=  8.11135D+00    |proj g|=  5.65297D-03\n",
      "\n",
      "At iterate   64    f=  8.10966D+00    |proj g|=  9.95961D-03\n",
      "\n",
      "At iterate   65    f=  8.10852D+00    |proj g|=  5.37481D-03\n",
      "\n",
      "At iterate   66    f=  8.10767D+00    |proj g|=  3.55216D-03\n",
      "\n",
      "At iterate   67    f=  8.10632D+00    |proj g|=  4.82546D-03\n",
      "\n",
      "At iterate   68    f=  8.10559D+00    |proj g|=  1.71260D-02\n",
      "\n",
      "           * * *\n",
      "\n",
      "Tit   = total number of iterations\n",
      "Tnf   = total number of function evaluations\n",
      "Tnint = total number of segments explored during Cauchy searches\n",
      "Skip  = number of BFGS updates skipped\n",
      "Nact  = number of active bounds at final generalized Cauchy point\n",
      "Projg = norm of the final projected gradient\n",
      "F     = final function value\n",
      "\n",
      "           * * *\n",
      "\n",
      "   N    Tit     Tnf  Tnint  Skip  Nact     Projg        F\n",
      " 1368     68     71      1     0     0   1.713D-02   8.106D+00\n",
      "  F =   8.1055907341382891     \n",
      "\n",
      "CONVERGENCE: REL_REDUCTION_OF_F_<=_FACTR*EPSMCH             \n"
     ]
    }
   ],
   "source": [
    "penal1 = 0.001 #L1 penalty on off-diagonals\n",
    "m_p_corr = 0.5\n",
    "th_init, fd_init, sd_init = utils.indep(jnp.array(train.to_numpy()), train_c.shape[0])\n",
    "theta, fd_effects, sd_effects = reg_opt.learn_mhn(th_init, fd_init, sd_init, train_po, train_pm, \n",
    "                                                  train_mo, train_c, m_p_corr, penal1)"
   ]
  },
  {
   "attachments": {},
   "cell_type": "markdown",
   "metadata": {},
   "source": [
    "Calculate the probability that a MT is present given the PT-genotype:"
   ]
  },
  {
   "cell_type": "code",
   "execution_count": 21,
   "metadata": {},
   "outputs": [],
   "source": [
    "mhn_probs = reg_opt.p_unobs_seeding(theta, fd_effects, jnp.array(test))"
   ]
  },
  {
   "attachments": {},
   "cell_type": "markdown",
   "metadata": {},
   "source": [
    "Learn a standard logistic regression model as baseline :"
   ]
  },
  {
   "cell_type": "code",
   "execution_count": 22,
   "metadata": {},
   "outputs": [],
   "source": [
    "train_labels = train.loc[:, 'Seeding']\n",
    "logReg = LogisticRegression(C=1, max_iter=1000)\n",
    "logReg.fit(train.iloc[:,:-1].to_numpy(), train_labels)\n",
    "reg_probs = logReg.predict_proba(test[:, :-1])"
   ]
  },
  {
   "attachments": {},
   "cell_type": "markdown",
   "metadata": {},
   "source": [
    "Compare both models:"
   ]
  },
  {
   "cell_type": "code",
   "execution_count": 23,
   "metadata": {},
   "outputs": [
    {
     "data": {
      "text/plain": [
       "<matplotlib.legend.Legend at 0x143562850>"
      ]
     },
     "execution_count": 23,
     "metadata": {},
     "output_type": "execute_result"
    },
    {
     "data": {
      "image/png": "[encoded data removed]",
      "text/plain": [
       "<Figure size 640x480 with 1 Axes>"
      ]
     },
     "metadata": {},
     "output_type": "display_data"
    }
   ],
   "source": [
    "test_labels = test[:, -1]\n",
    "mhn_auc = roc_auc_score(test_labels, mhn_probs)\n",
    "mhn_fpr, mhn_tpr, _ = roc_curve(test_labels, mhn_probs)\n",
    "mhn_precision, mhn_recall, _ = precision_recall_curve(test_labels, mhn_probs)\n",
    "\n",
    "reg_auc = roc_auc_score(test_labels, reg_probs[:,1])\n",
    "reg_fpr, reg_tpr, _ = roc_curve(test_labels, reg_probs[:, 1])\n",
    "reg_precision, reg_recall, _ = precision_recall_curve(test_labels, reg_probs[:,1])\n",
    "\n",
    "plt.plot(reg_recall, reg_precision, linestyle=\"--\", label=\"LR\")\n",
    "plt.plot(mhn_recall, mhn_precision, linestyle=\"-\", label=\"metMHN\")\n",
    "plt.legend()"
   ]
  },
  {
   "cell_type": "code",
   "execution_count": 24,
   "metadata": {},
   "outputs": [
    {
     "name": "stdout",
     "output_type": "stream",
     "text": [
      "0.6858880778588807 0.643588807785888\n"
     ]
    }
   ],
   "source": [
    "print(reg_auc, mhn_auc)"
   ]
  }
 ],
 "metadata": {
  "kernelspec": {
   "display_name": "Python 3",
   "language": "python",
   "name": "python3"
  },
  "language_info": {
   "codemirror_mode": {
    "name": "ipython",
    "version": 3
   },
   "file_extension": ".py",
   "mimetype": "text/x-python",
   "name": "python",
   "nbconvert_exporter": "python",
   "pygments_lexer": "ipython3",
   "version": "3.11.1"
  },
  "orig_nbformat": 4
 },
 "nbformat": 4,
 "nbformat_minor": 2
}
