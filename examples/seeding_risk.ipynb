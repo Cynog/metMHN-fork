{
 "cells": [
  {
   "cell_type": "code",
   "execution_count": null,
   "metadata": {},
   "outputs": [],
   "source": [
    "import metmhn.Utilityfunctions as utils\n",
    "import metmhn.regularized_optimization as reg_opt\n",
    "\n",
    "import pandas as pd\n",
    "import numpy as np\n",
    "import jax as jax\n",
    "jax.config.update(\"jax_enable_x64\", True)\n",
    "import jax.numpy as jnp\n",
    "import matplotlib.pyplot as plt\n",
    "from sklearn.metrics import (roc_curve, roc_auc_score, \n",
    "                             precision_recall_curve)\n",
    "from sklearn.linear_model import LogisticRegression\n",
    "import warnings\n",
    "warnings.simplefilter(action='ignore', category=pd.errors.PerformanceWarning)"
   ]
  },
  {
   "attachments": {},
   "cell_type": "markdown",
   "metadata": {},
   "source": [
    "Read the data and split it in  training and test sets:"
   ]
  },
  {
   "cell_type": "code",
   "execution_count": null,
   "metadata": {},
   "outputs": [],
   "source": [
    "mut_handle = \"../data/paad/G12_PAADPANET_PM_z10_Events_30and5_Full.csv\"\n",
    "annot_handle = \"../data/paad/G12_PAADPANET_PM_z10_sampleSelection.csv\"\n",
    "\n",
    "annot_data = pd.read_csv(annot_handle)\n",
    "mut_data = pd.read_csv(mut_handle)\n",
    "mut_data.rename(columns={\"Unnamed: 0\":\"patientID\"}, inplace = True)\n",
    "dat = pd.merge(mut_data, annot_data.loc[:, ['patientID', 'metaStatus']], on=[\"patientID\", \"patientID\"])\n",
    "\n",
    "# Remove datapoints, that consist solely of NaNs\n",
    "dat = dat.loc[dat.iloc[:,1:-3].isna().all(axis=1) == False, :]\n",
    "dat = dat.loc[(dat.iloc[:,1:-3].sum(axis=1) > 0), :]"
   ]
  },
  {
   "cell_type": "code",
   "execution_count": null,
   "metadata": {},
   "outputs": [],
   "source": [
    "# Split the dataset into a training and a test set\n",
    "n_dat = dat.shape[0]\n",
    "start = 'P.Mut.KRAS'\n",
    "stop = 'M.Mut.PTPRT'\n",
    "shuffled = dat.sample(frac=1)\n",
    "train = shuffled.iloc[:int(0.8*n_dat), :]\n",
    "test = shuffled.iloc[int(0.8*n_dat):, :]\n",
    "\n",
    "train = train.set_index([\"paired\", \"metaStatus\"])\n",
    "train = train.loc[zip(*[[0,0,0,1],[\"present\", \"absent\", \"isMetastasis\", \"isPaired\"]]), start:stop]\n",
    "train.loc[(0, [\"present\", \"isMetastasis\"]), \"Seeding\"] = 1\n",
    "train.loc[(0, \"absent\"), \"Seeding\"] = 0\n",
    "train.loc[(1, \"isPaired\"), \"Seeding\"] = 1\n",
    "train = train.astype('int8')\n",
    "train_po, train_mo, train_pm, train_c = utils.split_data(train)\n",
    "\n",
    "test = test.set_index([\"paired\", \"metaStatus\"])\n",
    "test = test.loc[zip(*[[0,0,0,1],[\"present\", \"absent\", \"isMetastasis\", \"isPaired\"]]), start:stop]\n",
    "test.loc[(0, [\"present\", \"isMetastasis\"]), \"Seeding\"] = 1\n",
    "test.loc[(0, \"absent\"), \"Seeding\"] = 0\n",
    "test.loc[(1, \"isPaired\"), \"Seeding\"] = 1\n",
    "test = test.astype('int8')\n",
    "test_po, test_mo, test_pm, test_c = utils.split_data(train)\n",
    "test = np.row_stack((test_po, test_pm, test_c))"
   ]
  },
  {
   "attachments": {},
   "cell_type": "markdown",
   "metadata": {},
   "source": [
    "Learn the metMHN:"
   ]
  },
  {
   "cell_type": "code",
   "execution_count": null,
   "metadata": {},
   "outputs": [],
   "source": [
    "penal1 = 1/train.shape[0] #L1 penalty on off-diagonals\n",
    "m_p_corr = 0.83\n",
    "th_init, fd_init, sd_init = utils.indep(jnp.array(train.to_numpy()), train_c.shape[0])\n",
    "theta, fd_effects, sd_effects = reg_opt.learn_mhn(th_init, fd_init, sd_init, train_po, train_pm, \n",
    "                                                  train_mo, train_c, m_p_corr, penal1)"
   ]
  },
  {
   "attachments": {},
   "cell_type": "markdown",
   "metadata": {},
   "source": [
    "Calculate the probability that a MT is present given the PT-genotype:"
   ]
  },
  {
   "cell_type": "code",
   "execution_count": null,
   "metadata": {},
   "outputs": [],
   "source": [
    "mhn_probs = reg_opt.p_unobs_seeding(theta, fd_effects, jnp.array(test))"
   ]
  },
  {
   "attachments": {},
   "cell_type": "markdown",
   "metadata": {},
   "source": [
    "Learn a standard logistic regression model as baseline :"
   ]
  },
  {
   "cell_type": "code",
   "execution_count": null,
   "metadata": {},
   "outputs": [],
   "source": [
    "train_labels = train.loc[:, 'Seeding']\n",
    "logReg = LogisticRegression(C=1, max_iter=1000)\n",
    "logReg.fit(train.iloc[:,:-1].to_numpy(), train_labels)\n",
    "reg_probs = logReg.predict_proba(test[:, :-1])"
   ]
  },
  {
   "attachments": {},
   "cell_type": "markdown",
   "metadata": {},
   "source": [
    "Compare both models:"
   ]
  },
  {
   "cell_type": "code",
   "execution_count": null,
   "metadata": {},
   "outputs": [],
   "source": [
    "test_labels = test[:, -1]\n",
    "mhn_auc = roc_auc_score(test_labels, mhn_probs)\n",
    "mhn_fpr, mhn_tpr, _ = roc_curve(test_labels, mhn_probs)\n",
    "mhn_precision, mhn_recall, _ = precision_recall_curve(test_labels, mhn_probs)\n",
    "\n",
    "reg_auc = roc_auc_score(test_labels, reg_probs[:,1])\n",
    "reg_fpr, reg_tpr, _ = roc_curve(test_labels, reg_probs[:, 1])\n",
    "reg_precision, reg_recall, _ = precision_recall_curve(test_labels, reg_probs[:,1])\n",
    "\n",
    "plt.plot(reg_recall, reg_precision, linestyle=\"--\", label=\"LR\")\n",
    "plt.plot(mhn_recall, mhn_precision, linestyle=\"-\", label=\"metMHN\")\n",
    "plt.legend()"
   ]
  },
  {
   "cell_type": "code",
   "execution_count": null,
   "metadata": {},
   "outputs": [],
   "source": [
    "print(reg_auc, mhn_auc)"
   ]
  }
 ],
 "metadata": {
  "kernelspec": {
   "display_name": "Python 3",
   "language": "python",
   "name": "python3"
  },
  "language_info": {
   "codemirror_mode": {
    "name": "ipython",
    "version": 3
   },
   "file_extension": ".py",
   "mimetype": "text/x-python",
   "name": "python",
   "nbconvert_exporter": "python",
   "pygments_lexer": "ipython3",
   "version": "3.11.1"
  },
  "orig_nbformat": 4
 },
 "nbformat": 4,
 "nbformat_minor": 2
}
