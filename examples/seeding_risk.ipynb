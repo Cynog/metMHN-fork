{
 "cells": [
  {
   "cell_type": "code",
   "execution_count": null,
   "metadata": {},
   "outputs": [],
   "source": [
    "import metmhn.Utilityfunctions as utils\n",
    "\n",
    "import pandas as pd\n",
    "import numpy as np\n",
    "import jax as jax\n",
    "jax.config.update(\"jax_enable_x64\", True)\n",
    "import jax.numpy as jnp\n",
    "import matplotlib.pyplot as plt\n",
    "from sklearn.metrics import (roc_curve, roc_auc_score, \n",
    "                             precision_recall_curve)\n",
    "from sklearn.linear_model import LogisticRegression"
   ]
  },
  {
   "cell_type": "code",
   "execution_count": null,
   "metadata": {},
   "outputs": [],
   "source": [
    "mut_handle = \"../data/paad/G12_PAADPANET_PM_z10_Events_30and5_Full.csv\"\n",
    "annot_handle = \"../data/paad/G12_PAADPANET_PM_z10_sampleSelection.csv\"\n",
    "\n",
    "annot_data = pd.read_csv(annot_handle)\n",
    "mut_data = pd.read_csv(mut_handle)\n",
    "mut_data.rename(columns={\"Unnamed: 0\":\"patientID\"}, inplace = True)\n",
    "dat = pd.merge(mut_data, annot_data.loc[:, ['patientID', 'metaStatus']], on=[\"patientID\", \"patientID\"])\n",
    "\n",
    "# Remove datapoints, that consist solely of NaNs\n",
    "dat = dat.loc[dat.iloc[:,1:-3].isna().all(axis=1) == False, :]\n",
    "dat = dat.loc[(dat.iloc[:,1:-3].sum(axis=1) > 0), :]\n",
    "dat.columns"
   ]
  },
  {
   "cell_type": "code",
   "execution_count": null,
   "metadata": {},
   "outputs": [],
   "source": [
    "start = 'P.Mut.KRAS'\n",
    "stop = 'M.Mut.PTPRT'\n",
    "mult = dat.set_index([\"paired\", \"metaStatus\"])\n",
    "cleaned = mult.loc[zip(*[[0,0,0,1],[\"present\", \"absent\", \"isMetastasis\", \"isPaired\"]]), start:stop]\n",
    "cleaned = cleaned.sort_index()\n",
    "cleaned.loc[(0, [\"present\", \"isMetastasis\"]), \"Seeding\"] = 1\n",
    "cleaned.loc[(0, \"absent\"), \"Seeding\"] = 0\n",
    "cleaned.loc[(1, \"isPaired\"), \"Seeding\"] = 1\n",
    "dat_prim_nomet, dat_met_only, dat_prim_met, dat_coupled = utils.split_data(cleaned)\n",
    "print(dat_prim_nomet.shape[0], dat_prim_met.shape[0], dat_coupled.shape[0], dat_met_only.shape[0])"
   ]
  },
  {
   "cell_type": "code",
   "execution_count": null,
   "metadata": {},
   "outputs": [],
   "source": [
    "params = pd.read_csv(\"../results/luad/paired_20_8_0011.csv\", index_col=0)\n",
    "th_learned = params.iloc[:,:-1].to_numpy()\n",
    "lam1 = np.exp(params.iloc[0,-1])\n",
    "events = params.columns[:-1]\n",
    "n = th_learned.shape[0]\n",
    "prim_probs = np.zeros(dat_prim_nomet.shape[0])\n",
    "em_probs = np.zeros(dat_prim_met.shape[0])\n",
    "for i in range(dat_prim_nomet.shape[0]):\n",
    "    prim_probs[i] = utils.p_unobs_seeding(jnp.array(th_learned), lam1, dat_prim_nomet.at[i,:].get())\n",
    "\n",
    "for i in range(dat_prim_met.shape[0]):\n",
    "    em_probs[i] = utils.p_unobs_seeding(jnp.array(th_learned), lam1, dat_prim_met.at[i,:].get())\n",
    "\n",
    "mhn_probs = np.concatenate((prim_probs, em_probs))\n",
    "plots = {\"NM\": prim_probs, \"EM\": em_probs}\n",
    "fig, ax = plt.subplots()\n",
    "ax.boxplot(plots.values())\n",
    "ax.set_xticklabels(plots.keys())\n",
    "ax.axhline(0.5)\n",
    "plt.show()"
   ]
  },
  {
   "cell_type": "code",
   "execution_count": null,
   "metadata": {},
   "outputs": [],
   "source": [
    "utils.plot_theta(params, 0.01)"
   ]
  },
  {
   "cell_type": "code",
   "execution_count": null,
   "metadata": {},
   "outputs": [],
   "source": [
    "data_train = np.vstack((dat_prim_nomet.at[:,:-1:2].get(), dat_coupled.at[:,:-1:2].get()))\n",
    "labels_train = np.concatenate((dat_prim_nomet.at[:, -1].get(), dat_coupled.at[:, -1].get()))\n",
    "\n",
    "data_test = np.vstack((dat_prim_nomet.at[:,:-1:2].get(), dat_prim_met.at[:,:-1:2].get()))\n",
    "labels_test = np.concatenate((dat_prim_nomet.at[:, -1].get(), dat_prim_met.at[:, -1].get()))\n",
    "logReg = LogisticRegression(C=1, max_iter=1000)\n",
    "logReg.fit(data_train, labels_train)\n",
    "reg_probs = logReg.predict_proba(data_test)\n",
    "mhn_probs = np.concatenate((prim_probs, em_probs))\n",
    "mhn_auc = roc_auc_score(labels_test, mhn_probs)\n",
    "reg_auc = roc_auc_score(labels_test, reg_probs[:,1])\n",
    "print(reg_auc, mhn_auc)\n",
    "fpr, tpr, _ = roc_curve(labels_test, mhn_probs)\n",
    "reg_fpr, reg_tpr, _ = roc_curve(labels_test, reg_probs[:, 1])\n",
    "lr_precision, lr_recall, _ = precision_recall_curve(labels_test, reg_probs[:,1])\n",
    "mhn_precision, mhn_recall, _ = precision_recall_curve(labels_test, mhn_probs)\n",
    "plt.plot(lr_recall, lr_precision, linestyle=\"--\")\n",
    "plt.plot(mhn_recall, mhn_precision, linestyle=\"--\")"
   ]
  }
 ],
 "metadata": {
  "kernelspec": {
   "display_name": "Python 3",
   "language": "python",
   "name": "python3"
  },
  "language_info": {
   "codemirror_mode": {
    "name": "ipython",
    "version": 3
   },
   "file_extension": ".py",
   "mimetype": "text/x-python",
   "name": "python",
   "nbconvert_exporter": "python",
   "pygments_lexer": "ipython3",
   "version": "3.11.1"
  },
  "orig_nbformat": 4
 },
 "nbformat": 4,
 "nbformat_minor": 2
}
