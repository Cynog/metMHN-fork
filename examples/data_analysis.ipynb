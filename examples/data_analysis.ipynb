{
 "cells": [
  {
   "cell_type": "code",
   "execution_count": null,
   "metadata": {},
   "outputs": [],
   "source": [
    "import metmhn.regularized_optimization as reg_opt\n",
    "import metmhn.Utilityfunctions as utils\n",
    "\n",
    "import pandas as pd\n",
    "import warnings\n",
    "warnings.simplefilter(action='ignore', \n",
    "                      category=pd.errors.PerformanceWarning)\n",
    "\n",
    "import jax.numpy as jnp\n",
    "import numpy as np\n",
    "import jax as jax\n",
    "jax.config.update(\"jax_enable_x64\", True)\n",
    "\n",
    "import logging\n",
    "# Adapt path to where logs should be kept\n",
    "logging.basicConfig(filename='../logs/paad.log',\n",
    "                    format='%(asctime)s %(levelname)-8s %(message)s',\n",
    "                    filemode='w', \n",
    "                    level=logging.INFO, \n",
    "                    force=True,\n",
    "                    datefmt='%Y-%m-%d %H:%M:%S'\n",
    "                    )"
   ]
  },
  {
   "attachments": {},
   "cell_type": "markdown",
   "metadata": {},
   "source": [
    "In the following example, we have information about the genotypes of Primary Tumors (PTs) and Metastases (MTs) for patients suffering from lung adenocarcinomas (LUADs). \\\n",
    "For some patients we only know the status of either the PT or the MT. This is indicated in our data in the column 'isPaired'. \\\n",
    "Additionally, the column 'metaStatus' indicates wether a metastasis was observed or not ('present', 'isMetastasis', 'absent')."
   ]
  },
  {
   "cell_type": "code",
   "execution_count": null,
   "metadata": {},
   "outputs": [],
   "source": [
    "mut_handle = \"../data/luad/G14_LUAD_Events.csv\"\n",
    "annot_handle = \"../data/luad/G14_LUAD_sampleSelection.csv\"\n",
    "annot_data = pd.read_csv(annot_handle)\n",
    "mut_data = pd.read_csv(mut_handle)\n",
    "mut_data.rename(columns={\"Unnamed: 0\":\"patientID\"}, inplace = True)\n",
    "dat = pd.merge(mut_data, annot_data.loc[:, ['patientID', 'metaStatus']], \n",
    "               on=[\"patientID\", \"patientID\"])\n",
    "muts = ['P.TP53 (M)', 'M.TP53 (M)', 'P.KRAS (M)', 'M.KRAS (M)', 'P.EGFR (M)', 'M.EGFR (M)', 'P.STK11 (M)', 'M.STK11 (M)', 'P.KEAP1 (M)', 'M.KEAP1 (M)', \n",
    "        'P.RBM10 (M)', 'M.RBM10 (M)', 'P.SMARCA4 (M)', 'M.SMARCA4 (M)', 'P.ATM (M)', 'M.ATM (M)', 'P.NF1 (M)', 'M.NF1 (M)', 'P.PTPRD (M)', 'M.PTPRD (M)', \n",
    "        'P.PTPRT (M)', 'M.PTPRT (M)', 'P.ARID1A (M)', 'M.ARID1A (M)', 'P.BRAF (M)', 'M.BRAF (M)', 'P.PIK3CA (M)', 'M.PIK3CA (M)', 'P.EPHA3 (M)', 'M.EPHA3 (M)', \n",
    "        'P.FAT1 (M)', 'M.FAT1 (M)', 'P.SETD2 (M)', 'M.SETD2 (M)', 'P.RB1 (M)', 'M.RB1 (M)', 'P.MET (M)', 'M.MET (M)', 'P.KMT2C (M)', 'M.KMT2C (M)']\n"
   ]
  },
  {
   "cell_type": "markdown",
   "metadata": {},
   "source": [
    "Next, we clean the dataset and split it into 4 smaller datasets that contain only the never metastatsizing primary tumors, the metastasized unpaired primary tumors, the unpaired metastases and the paired data respectively."
   ]
  },
  {
   "cell_type": "code",
   "execution_count": null,
   "metadata": {},
   "outputs": [],
   "source": [
    "# Label each datapoint with a numeric value according to its sequencetype\n",
    "dat[\"type\"] = dat.apply(utils.categorize, axis=1)\n",
    "dat[\"Seeding\"] = dat.apply(utils.add_seeding, axis=1)\n",
    "dat.loc[dat[\"M.AgeAtSeqRep\"] == \"No metastasis included\", \"M.AgeAtSeqRep\"] = pd.NA\n",
    "dat.loc[dat[\"P.AgeAtSeqRep\"] == \"No primary included\", \"P.AgeAtSeqRep\"] = pd.NA\n",
    "dat[\"P.AgeAtSeqRep\"] = dat[\"P.AgeAtSeqRep\"].astype(pd.Int64Dtype())\n",
    "dat[\"M.AgeAtSeqRep\"] = dat[\"M.AgeAtSeqRep\"].astype(pd.Int64Dtype())\n",
    "dat[\"diag_order\"] = dat[\"M.AgeAtSeqRep\"] - dat[\"P.AgeAtSeqRep\"]\n",
    "dat[\"diag_order\"] = dat[\"diag_order\"].apply(lambda x: pd.NA if pd.isna(x) else 2 if x < 0 else 1 if x > 0 else 0) \n",
    "dat[\"diag_order\"] = dat[\"diag_order\"].astype(pd.Int64Dtype())\n",
    "events_data = muts+[\"Seeding\"]\n",
    "# Only use datapoints where the state of the metastasis is known\n",
    "cleaned = dat.loc[dat[\"type\"].isin([0,1,2,3]), muts+[\"Seeding\", \"type\", \"diag_order\"]]\n",
    "# Remove completely empty datapoints\n",
    "cleaned.drop(cleaned[cleaned.iloc[:,:-2].sum(axis=1)<1].index, inplace=True)\n",
    "# Remove coupled datapoints where the diagnosis_order is unknown \n",
    "cleaned.drop(cleaned[(cleaned[\"type\"] == 3) & (pd.isna(cleaned[\"diag_order\"]) == True)].index, inplace=True)\n",
    "dat_prim_nomet, dat_prim_met, dat_met_only, dat_coupled = utils.split_data(cleaned, events_data+[\"diag_order\"])"
   ]
  },
  {
   "attachments": {},
   "cell_type": "markdown",
   "metadata": {},
   "source": [
    "Retrieve the event names and trim the PT/MT identifier:"
   ]
  },
  {
   "cell_type": "code",
   "execution_count": null,
   "metadata": {},
   "outputs": [],
   "source": [
    "events_plot = []\n",
    "for elem in cleaned.columns[:-3].to_list()[::2]:\n",
    "    full_mut_id = elem.split(\".\")\n",
    "    events_plot.append(full_mut_id[1])\n",
    "events_plot.append(\"Seeding\")"
   ]
  },
  {
   "attachments": {},
   "cell_type": "markdown",
   "metadata": {},
   "source": [
    "Enumerate the frequencies of SNVs and CNVs in all subgroups. 'NM/EM' refer to Never Metastasizing/ Ever Metastasizing tumors, where only a single genotype is known. A Mutation is referred to as 'MT/PT-private' if happens exclusively in the MT or PT, otherwise it is called 'shared':"
   ]
  },
  {
   "cell_type": "code",
   "execution_count": null,
   "metadata": {},
   "outputs": [],
   "source": [
    "n_tot = (cleaned.shape[1]-1)//2 + 1\n",
    "n_mut = n_tot-1\n",
    "utils.marg_frequs(dat_prim_nomet[:,:-1], dat_prim_met[:,:-1], dat_met_only[:,:-1], dat_coupled[:,:-1], events_plot)"
   ]
  },
  {
   "attachments": {},
   "cell_type": "markdown",
   "metadata": {},
   "source": [
    "Optional: We use a  sparsity and symmetry promoting penalty. The weight of the penalization can be determined in a k-fold crossvalidation:"
   ]
  },
  {
   "cell_type": "code",
   "execution_count": null,
   "metadata": {},
   "outputs": [],
   "source": [
    "log_lams = np.linspace(-4, -2, 5)\n",
    "lams = 10**log_lams\n",
    "utils.cross_val(cleaned.copy(), events_data, lams, 5, 0.83)"
   ]
  },
  {
   "attachments": {},
   "cell_type": "markdown",
   "metadata": {},
   "source": [
    "Train an MHN on the full dataset:"
   ]
  },
  {
   "cell_type": "code",
   "execution_count": null,
   "metadata": {},
   "outputs": [],
   "source": [
    "penal = 0.0005\n",
    "m_p_corr = 0.65\n",
    "th_init, dp_init, dm_init = utils.indep(jnp.array(cleaned[events_data].to_numpy()), dat_coupled.shape[0])\n",
    "theta, d_p, d_m= reg_opt.learn_mhn(th_init, dp_init, dm_init, dat_prim_nomet, dat_prim_met, dat_met_only,\n",
    "                                    dat_coupled, m_p_corr, penal)"
   ]
  },
  {
   "cell_type": "code",
   "execution_count": null,
   "metadata": {},
   "outputs": [],
   "source": [
    "th_plot = np.row_stack((d_p.reshape((1,-1)), \n",
    "                        d_m.reshape((1,-1)), \n",
    "                        theta))"
   ]
  },
  {
   "attachments": {},
   "cell_type": "markdown",
   "metadata": {},
   "source": [
    "Visualize the results:"
   ]
  },
  {
   "cell_type": "code",
   "execution_count": null,
   "metadata": {},
   "outputs": [],
   "source": [
    "utils.plot_theta(th_plot, events_plot, 0.3)"
   ]
  },
  {
   "cell_type": "code",
   "execution_count": null,
   "metadata": {},
   "outputs": [],
   "source": [
    "df2 = pd.DataFrame(th_plot, columns=events_plot)\n",
    "df2.to_csv(\"../results/luad/luad_g14_19muts.csv\")\n"
   ]
  }
 ],
 "metadata": {
  "kernelspec": {
   "display_name": "Python 3",
   "language": "python",
   "name": "python3"
  },
  "language_info": {
   "codemirror_mode": {
    "name": "ipython",
    "version": 3
   },
   "file_extension": ".py",
   "mimetype": "text/x-python",
   "name": "python",
   "nbconvert_exporter": "python",
   "pygments_lexer": "ipython3",
   "version": "3.11.1"
  },
  "orig_nbformat": 4,
  "vscode": {
   "interpreter": {
    "hash": "aee8b7b246df8f9039afb4144a1f6fd8d2ca17a180786b69acc140d282b71a49"
   }
  }
 },
 "nbformat": 4,
 "nbformat_minor": 2
}
