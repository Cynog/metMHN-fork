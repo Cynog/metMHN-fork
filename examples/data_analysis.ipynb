{
 "cells": [
  {
   "cell_type": "code",
   "execution_count": null,
   "metadata": {},
   "outputs": [],
   "source": [
    "import metmhn.regularized_optimization as reg_opt\n",
    "import metmhn.Utilityfunctions as utils\n",
    "\n",
    "import pandas as pd\n",
    "import warnings\n",
    "warnings.simplefilter(action='ignore', category=pd.errors.PerformanceWarning)\n",
    "\n",
    "import jax.numpy as jnp\n",
    "import numpy as np\n",
    "import jax as jax\n",
    "jax.config.update(\"jax_enable_x64\", True)\n",
    "\n",
    "import logging\n",
    "# Adapt path to where logs should be kept\n",
    "logging.basicConfig(filename='../logs/paad.log', filemode='w', level=logging.INFO, force=True)"
   ]
  },
  {
   "attachments": {},
   "cell_type": "markdown",
   "metadata": {},
   "source": [
    "In the following example, we have information about the genotypes of Primary Tumors (PTs) and Metastases (MTs) for patients suffering from Pancreatic adenocarcinomas (PAADs) and Pancreatic neuroendocrine tumors (PANETs). For some patients we only know the status of either the PT or the MT. This is indicated in our data in the column 'isPaired'. The column 'metaStatus' indicates the type of the tumor ('present', 'isMetastasis', 'absent') if only a single genotype is available."
   ]
  },
  {
   "cell_type": "code",
   "execution_count": null,
   "metadata": {},
   "outputs": [],
   "source": [
    "mut_handle = \"../data/luad/G13_LUAD_PM_v2_Events_20and15_Full.csv\"\n",
    "annot_handle = \"../data/luad/G13_LUAD_PM_v2_sampleSelection_20and15.csv\"\n",
    "#annot_handle = \"../data/paad/G13_PAADPANET_PM_v2_sampleSelection_30and15.csv\"\n",
    "#mut_handle = \"../data/paad/G13_PAADPANET_PM_v2_Events_30and15_Full.csv\"\n",
    "\n",
    "annot_data = pd.read_csv(annot_handle)\n",
    "mut_data = pd.read_csv(mut_handle)\n",
    "mut_data.rename(columns={\"Unnamed: 0\":\"patientID\"}, inplace = True)\n",
    "dat = pd.merge(mut_data, annot_data.loc[:, ['patientID', 'metaStatus']], \n",
    "               on=[\"patientID\", \"patientID\"])"
   ]
  },
  {
   "cell_type": "code",
   "execution_count": null,
   "metadata": {},
   "outputs": [],
   "source": [
    "#muts = dat.columns[np.concatenate([np.arange(1,9), [15, 16], np.arange(19,25), np.arange(27, 31), np.arange(41, 63) ])]\n",
    "muts = ['P.TP53 (M)', 'M.TP53 (M)', 'P.TERT/5p (Amp)', 'M.TERT/5p (Amp)',\n",
    "       'P.MCL1/1q (Amp)', 'M.MCL1/1q (Amp)', 'P.KRAS (M)', 'M.KRAS (M)',\n",
    "       'P.EGFR (M)', 'M.EGFR (M)', 'P.TP53/17p (Del)', 'M.TP53/17p (Del)',\n",
    "       'P.STK11/19p (Del)', 'M.STK11/19p (Del)', 'P.STK11 (M)', 'M.STK11 (M)',\n",
    "       'P.KRAS/12p (Amp)', 'M.KRAS/12p (Amp)', 'P.KEAP1 (M)', 'M.KEAP1 (M)',\n",
    "       'P.SMARCA4 (M)', 'M.SMARCA4 (M)', 'P.ATM (M)', 'M.ATM (M)', 'P.NF1 (M)',\n",
    "       'M.NF1 (M)', 'P.PTPRD (M)', 'M.PTPRD (M)', 'P.PTPRT (M)', 'M.PTPRT (M)',\n",
    "       'P.ARID1A (M)', 'M.ARID1A (M)', 'P.PIK3CA (M)', 'M.PIK3CA (M)',\n",
    "       'P.BRAF (M)', 'M.BRAF (M)', 'P.SETD2 (M)', 'M.SETD2 (M)', 'P.EPHA3 (M)',\n",
    "       'M.EPHA3 (M)', 'P.FAT1 (M)', 'M.FAT1 (M)']\n",
    "mult = dat.set_index([\"paired\", \"metaStatus\"])\n",
    "cleaned = mult.loc[zip(*[[0,0,0,1],[\"present\", \"absent\", \"isMetastasis\", \"isPaired\"]]), \n",
    "                   muts]\n",
    "cleaned = cleaned.sort_index()\n",
    "cleaned.loc[(0, [\"present\", \"isMetastasis\"]), \"Seeding\"] = 1\n",
    "cleaned.loc[(0, \"absent\"), \"Seeding\"] = 0\n",
    "cleaned.loc[(1, \"isPaired\"), \"Seeding\"] = 1\n",
    "dat_prim_nomet, dat_met_only, dat_prim_met, dat_coupled = utils.split_data(cleaned)\n",
    "dat_prim_nomet = dat_prim_nomet.at[jnp.sum(dat_prim_nomet, axis=1)>0,:].get()\n",
    "jnp.max(dat_coupled.sum(axis=1))"
   ]
  },
  {
   "attachments": {},
   "cell_type": "markdown",
   "metadata": {},
   "source": [
    "Retrieve the event names and trim the PT/MT identifier:"
   ]
  },
  {
   "cell_type": "code",
   "execution_count": null,
   "metadata": {},
   "outputs": [],
   "source": [
    "events = []\n",
    "for elem in cleaned.columns[:-1].to_list()[::2]:\n",
    "    full_mut_id = elem.split(\".\")\n",
    "    events.append(full_mut_id[1])\n",
    "events.append(\"Seeding\")"
   ]
  },
  {
   "attachments": {},
   "cell_type": "markdown",
   "metadata": {},
   "source": [
    "Enumerate the frequencies of SNVs and CNVs in all subgroups. 'NM/EM' refer to Never Metastasizing/ Ever Metastasizing tumors, where only a single genotype is known. A Mutation is referred to as 'MT/PT-private' if happens exclusively in the MT or PT, otherwise it is called 'shared':"
   ]
  },
  {
   "cell_type": "code",
   "execution_count": null,
   "metadata": {},
   "outputs": [],
   "source": [
    "n_tot = (cleaned.shape[1]-1)//2 + 1\n",
    "n_mut = n_tot-1\n",
    "arr = dat_coupled * np.array([1,2]*n_mut+[1])\n",
    "arr = arr @ (np.diag([1,0]*n_mut+[1]) + np.diag([1,0]*n_mut, -1))\n",
    "counts = np.zeros((6, n_tot))\n",
    "for i in range(0,2*n_tot,2):\n",
    "    i_h = int(i/2)\n",
    "    for j in range(1,4):\n",
    "        counts[j-1, i_h] = np.count_nonzero(arr[:,i]==j)/dat_coupled.shape[0]\n",
    "    counts[3, i_h] = np.sum(dat_prim_nomet[:, i], axis=0)/dat_prim_nomet.shape[0]\n",
    "    counts[4, i_h] = (np.sum(dat_prim_met[:, i], axis=0))/dat_prim_met.shape[0]\n",
    "    counts[5, i_h] = (np.sum(dat_met_only[:, i+1], axis=0))/dat_met_only.shape[0]\n",
    "\n",
    "labels = [[\"Coupled (\"+str(dat_coupled.shape[0])+\")\"]*3 +\\\n",
    "          [\"NM (\"+str(dat_prim_nomet.shape[0])+\")\"] +\\\n",
    "          [\"EM-PT (\"+str(dat_prim_met.shape[0])+\")\"] +\\\n",
    "          [\"EM-MT (\"+str(dat_met_only.shape[0])+\")\"],\n",
    "          [\"PT-Private\", \"MT-Private\", \"Shared\"] + [\"Present\"]*3]\n",
    "       \n",
    "inds =  pd.MultiIndex.from_tuples(list(zip(*labels)))\n",
    "counts = pd.DataFrame(np.around(counts, 2), columns=events, index=inds).T\n",
    "counts"
   ]
  },
  {
   "attachments": {},
   "cell_type": "markdown",
   "metadata": {},
   "source": [
    "Optional: We use a  sparsity promoting L1 penalty. The weight of the penalization can be determined in a k-fold crossvalidation:"
   ]
  },
  {
   "cell_type": "code",
   "execution_count": null,
   "metadata": {},
   "outputs": [],
   "source": [
    "log_lams = np.linspace(-4.5, -2, 8)\n",
    "lams = 10**log_lams\n",
    "utils.cross_val(cleaned, lams, 3, 0.65)"
   ]
  },
  {
   "attachments": {},
   "cell_type": "markdown",
   "metadata": {},
   "source": [
    "Learn the MHN on the full dataset:"
   ]
  },
  {
   "cell_type": "code",
   "execution_count": null,
   "metadata": {},
   "outputs": [],
   "source": [
    "penal1 = 0.005 #L1 penalty on off-diagonals\n",
    "m_p_corr = 0.65\n",
    "th_init, fd_init, sd_init = utils.indep(jnp.array(cleaned.to_numpy()), dat_coupled.shape[0])\n",
    "theta, fd_effects, sd_effects = reg_opt.learn_mhn(th_init, fd_init, sd_init, dat_prim_nomet, dat_prim_met, \n",
    "                                                  dat_met_only, dat_coupled, m_p_corr, penal1)"
   ]
  },
  {
   "cell_type": "code",
   "execution_count": null,
   "metadata": {},
   "outputs": [],
   "source": [
    "th_plot = np.row_stack((fd_effects.reshape((1,-1)), \n",
    "                    sd_effects.reshape((1,-1)), \n",
    "                    theta))"
   ]
  },
  {
   "cell_type": "code",
   "execution_count": null,
   "metadata": {},
   "outputs": [],
   "source": [
    "utils.plot_theta(th_plot, events, 0.1)"
   ]
  },
  {
   "cell_type": "code",
   "execution_count": null,
   "metadata": {},
   "outputs": [],
   "source": [
    "df2 = pd.DataFrame(th_plot, columns=events)\n",
    "df2.to_csv(\"../results/luad/paired_20_8_001.csv\")"
   ]
  }
 ],
 "metadata": {
  "kernelspec": {
   "display_name": "Python 3",
   "language": "python",
   "name": "python3"
  },
  "language_info": {
   "codemirror_mode": {
    "name": "ipython",
    "version": 3
   },
   "file_extension": ".py",
   "mimetype": "text/x-python",
   "name": "python",
   "nbconvert_exporter": "python",
   "pygments_lexer": "ipython3",
   "version": "3.11.1"
  },
  "orig_nbformat": 4,
  "vscode": {
   "interpreter": {
    "hash": "aee8b7b246df8f9039afb4144a1f6fd8d2ca17a180786b69acc140d282b71a49"
   }
  }
 },
 "nbformat": 4,
 "nbformat_minor": 2
}
