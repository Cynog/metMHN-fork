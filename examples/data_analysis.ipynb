{
 "cells": [
  {
   "cell_type": "code",
   "execution_count": null,
   "metadata": {},
   "outputs": [],
   "source": [
    "import metmhn.regularized_optimization as reg_opt\n",
    "import metmhn.Utilityfunctions as utils\n",
    "\n",
    "import pandas as pd\n",
    "import scipy.optimize as opt\n",
    "import jax.numpy as jnp\n",
    "import numpy as np\n",
    "import jax as jax\n",
    "jax.config.update(\"jax_enable_x64\", True)\n",
    "import logging\n",
    "logging.basicConfig(filename='example.log', filemode='w', level=logging.INFO, force=True)"
   ]
  },
  {
   "cell_type": "code",
   "execution_count": null,
   "metadata": {},
   "outputs": [],
   "source": [
    "#mut_handle = \"../data/paad/G12_PAADPANET_PM_z10_EventsAEP.csv\"\n",
    "#mut_handle = \"../data/paad/G12_PAADPANET_PM_z10_Events_Mut50_Full.csv\"\n",
    "mut_handle = \"../data/paad/G12_PAADPANET_PM_z10_Events_30and5_Full.csv\"\n",
    "annot_handle = \"../data/paad/G12_PAADPANET_PM_z10_sampleSelection.csv\"\n",
    "#paads_only =  pd.read_csv(\"../data/paad/ptMap.csv\")\n",
    "#mut_handle = \"../data/luad/G13_LUAD_PM_v2_Events_20and15_Full.csv\"\n",
    "#annot_handle = \"../data/luad/G13_LUAD_PM_v2_sampleSelection_20and15.csv\"\n",
    "#annot_handle = \"../data/luad/G13_LUAD_PM_z1_sampleSelection_20and8.csv\"\n",
    "#mut_handle = \"../data/luad/G13_LUAD_PM_z1_Events_20and8_Full.csv\"\n",
    "#annot_handle = \"../data/paad/G13_PAADPANET_PM_v2_sampleSelection_30and15.csv\"\n",
    "#mut_handle = \"../data/paad/G13_PAADPANET_PM_v2_Events_30and15_Full.csv\"\n",
    "\n",
    "annot_data = pd.read_csv(annot_handle)\n",
    "mut_data = pd.read_csv(mut_handle)\n",
    "mut_data.rename(columns={\"Unnamed: 0\":\"patientID\"}, inplace = True)\n",
    "dat = pd.merge(mut_data, annot_data.loc[:, ['patientID', 'metaStatus']], on=[\"patientID\", \"patientID\"])\n",
    "\n",
    "# Remove datapoints, that consist solely of NaNs\n",
    "dat = dat.loc[dat.iloc[:,1:-3].isna().all(axis=1) == False, :]\n",
    "dat = dat.loc[(dat.iloc[:,1:-3].sum(axis=1) > 0), :]\n",
    "dat.columns"
   ]
  },
  {
   "cell_type": "code",
   "execution_count": null,
   "metadata": {},
   "outputs": [],
   "source": [
    "start = 'P.Mut.KRAS'\n",
    "stop = 'M.Mut.PTPRT'\n",
    "mult = dat.set_index([\"paired\", \"metaStatus\"])\n",
    "cleaned = mult.loc[zip(*[[0,0,0,1],[\"present\", \"absent\", \"isMetastasis\", \"isPaired\"]]), start:stop]\n",
    "cleaned = cleaned.sort_index()\n",
    "cleaned.loc[(0, [\"present\", \"isMetastasis\"]), \"Seeding\"] = 1\n",
    "cleaned.loc[(0, \"absent\"), \"Seeding\"] = 0\n",
    "cleaned.loc[(1, \"isPaired\"), \"Seeding\"] = 1\n",
    "dat_prim_nomet, dat_met_only, dat_prim_met, dat_coupled = utils.split_data(cleaned)\n",
    "print(dat_prim_nomet.shape[0], dat_prim_met.shape[0], dat_coupled.shape[0], dat_met_only.shape[0])"
   ]
  },
  {
   "cell_type": "code",
   "execution_count": null,
   "metadata": {},
   "outputs": [],
   "source": [
    "events = []\n",
    "for elem in cleaned.columns.to_list()[::2]:\n",
    "    iwas = elem.split(\".\")\n",
    "    if len(iwas) > 2:\n",
    "        if iwas[1]  == 'Mut':\n",
    "            events.append(iwas[2] + \" (M)\")\n",
    "        else:\n",
    "            events.append(iwas[1] + \" (\" + iwas[2] + \")\")\n",
    "    elif len(iwas) == 2:\n",
    "        events.append(iwas[1])\n",
    "    else:\n",
    "        events.append(\"Seeding\")"
   ]
  },
  {
   "cell_type": "code",
   "execution_count": null,
   "metadata": {},
   "outputs": [],
   "source": [
    "n = (cleaned.shape[1]-1)//2\n",
    "n += 1\n",
    "indep = utils.indep(jnp.vstack((dat_met_only, dat_prim_met, dat_prim_nomet)), dat_coupled)\n",
    "start_params = np.concatenate((indep.flatten(), np.zeros(n), np.zeros(n)))"
   ]
  },
  {
   "cell_type": "code",
   "execution_count": null,
   "metadata": {},
   "outputs": [],
   "source": [
    "n_mod = n-1\n",
    "arr = dat_coupled * np.array([1,2]*n_mod+[1])\n",
    "arr = arr @ (np.diag([1,0]*n_mod+[1]) + np.diag([1,0]*n_mod, -1))\n",
    "counts = np.zeros((6, n))\n",
    "for i in range(0,2*n,2):\n",
    "    i_h = int(i/2)\n",
    "    for j in range(1,4):\n",
    "        counts[j-1, i_h] = np.count_nonzero(arr[:,i]==j)/dat_coupled.shape[0]\n",
    "    counts[3, i_h] = np.sum(dat_prim_nomet[:, i], axis=0)/dat_prim_nomet.shape[0]\n",
    "    counts[4, i_h] = (np.sum(dat_prim_met[:, i], axis=0))/dat_prim_met.shape[0]\n",
    "    counts[5, i_h] = (np.sum(dat_met_only[:, i+1], axis=0))/dat_met_only.shape[0]\n",
    "\n",
    "labels = [[\"Coupled (\"+str(dat_coupled.shape[0])+\")\"]*3 +\\\n",
    "          [\"NM (\"+str(dat_prim_nomet.shape[0])+\")\"] +\\\n",
    "          [\"EM-PT (\"+str(dat_prim_met.shape[0])+\")\"] +\\\n",
    "          [\"EM-MT (\"+str(dat_met_only.shape[0])+\")\"],\n",
    "          [\"PT-Private\", \"MT-Private\", \"Shared\"] + [\"Present\"]*3]\n",
    "       \n",
    "inds =  pd.MultiIndex.from_tuples(list(zip(*labels)))\n",
    "counts = pd.DataFrame(np.around(counts, 2), columns=events, index=inds).T\n",
    "counts"
   ]
  },
  {
   "cell_type": "code",
   "execution_count": null,
   "metadata": {},
   "outputs": [],
   "source": [
    "#utils.cross_val(cleaned, jnp.linspace(1e-04, 1e-03, 5), 3, start_params, 0.8, n)"
   ]
  },
  {
   "cell_type": "code",
   "execution_count": 16,
   "metadata": {},
   "outputs": [],
   "source": [
    "penal1 = 0.0004 #L1 penalty on off-diagonals\n",
    "m_p_corr = 0.8\n",
    "x = opt.minimize(reg_opt.log_lik, x0 = start_params, args = (dat_prim_nomet, dat_prim_met, dat_met_only, dat_coupled, penal1, m_p_corr), \n",
    "                method = \"L-BFGS-B\", jac = reg_opt.grad, options={\"maxiter\":10000, \"disp\":True, \"ftol\":1e-04})"
   ]
  },
  {
   "cell_type": "code",
   "execution_count": null,
   "metadata": {},
   "outputs": [],
   "source": [
    "df2 = pd.DataFrame(x.x[:n**2].reshape((n, n)), columns=events, index=events)\n",
    "theta = df2.copy()\n",
    "df2[\"fd_effects\"] = np.array(x.x[n**2:n*(n+1)])\n",
    "df2[\"sd_effects\"] = np.array(x.x[n*(n+1):])\n",
    "df2.to_csv(\"../results/luad/paired_20_8_0011.csv\")\n",
    "df2"
   ]
  },
  {
   "cell_type": "code",
   "execution_count": null,
   "metadata": {},
   "outputs": [],
   "source": [
    "utils.plot_theta(df2, .3)"
   ]
  }
 ],
 "metadata": {
  "kernelspec": {
   "display_name": "Python 3",
   "language": "python",
   "name": "python3"
  },
  "language_info": {
   "codemirror_mode": {
    "name": "ipython",
    "version": 3
   },
   "file_extension": ".py",
   "mimetype": "text/x-python",
   "name": "python",
   "nbconvert_exporter": "python",
   "pygments_lexer": "ipython3",
   "version": "3.11.1"
  },
  "orig_nbformat": 4,
  "vscode": {
   "interpreter": {
    "hash": "aee8b7b246df8f9039afb4144a1f6fd8d2ca17a180786b69acc140d282b71a49"
   }
  }
 },
 "nbformat": 4,
 "nbformat_minor": 2
}
