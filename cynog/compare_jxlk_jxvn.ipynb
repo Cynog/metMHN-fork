{
 "cells": [
  {
   "cell_type": "markdown",
   "metadata": {},
   "source": [
    "# Compare metmhn.jx.likelihood with metmhn.jx.vanilla"
   ]
  },
  {
   "cell_type": "code",
   "execution_count": null,
   "metadata": {},
   "outputs": [],
   "source": [
    "# import required packages\n",
    "import numpy as np"
   ]
  },
  {
   "cell_type": "code",
   "execution_count": null,
   "metadata": {},
   "outputs": [],
   "source": [
    "# import metMHN\n",
    "from metmhn.jx import likelihood as jxlk\n",
    "from metmhn.jx import vanilla as jxvn"
   ]
  },
  {
   "cell_type": "code",
   "execution_count": null,
   "metadata": {},
   "outputs": [],
   "source": [
    "# global testing parameters\n",
    "transpose = False\n",
    "lam = 0.01"
   ]
  },
  {
   "cell_type": "markdown",
   "metadata": {},
   "source": [
    "## Unseeded Example"
   ]
  },
  {
   "cell_type": "code",
   "execution_count": null,
   "metadata": {},
   "outputs": [],
   "source": [
    "# testing parameters\n",
    "n_half = 13\n",
    "\n",
    "log_theta = np.random.randn(n_half*2 + 1, n_half*2 + 1)\n",
    "state = np.array([1, 1, 0, 0] * n_half + [0])\n",
    "k = sum(state)\n",
    "\n",
    "x_van = np.random.rand(2**(k//2))\n",
    "x = np.zeros(2**k)\n",
    "for i in range(2**(k//2)):\n",
    "    ind = 0\n",
    "    for pow in range(k//2):\n",
    "        if i & (1 << pow):\n",
    "            ind += 1 << (2*pow)\n",
    "            ind += 1 << (2*pow+1)\n",
    "    x[ind] = x_van[i]"
   ]
  },
  {
   "cell_type": "code",
   "execution_count": null,
   "metadata": {},
   "outputs": [],
   "source": [
    "# apply jax likelihood version\n",
    "y_jxlk = jxlk.R_i_inv_vec(log_theta, log_d_p, log_d_m, x, state, k, transpose)"
   ]
  },
  {
   "cell_type": "code",
   "execution_count": null,
   "metadata": {},
   "outputs": [],
   "source": [
    "# apply jax vanilla version\n",
    "y_jxvn = jxvn.R_inv_vec(log_theta, x, state, d_rates, transpose)"
   ]
  },
  {
   "cell_type": "code",
   "execution_count": null,
   "metadata": {},
   "outputs": [],
   "source": [
    "# calculate norm of difference\n",
    "norm = np.linalg.norm(y_jxlk - y_jxvn)\n",
    "print(norm)"
   ]
  }
 ],
 "metadata": {
  "kernelspec": {
   "display_name": ".venv",
   "language": "python",
   "name": "python3"
  },
  "language_info": {
   "codemirror_mode": {
    "name": "ipython",
    "version": 3
   },
   "file_extension": ".py",
   "mimetype": "text/x-python",
   "name": "python",
   "nbconvert_exporter": "python",
   "pygments_lexer": "ipython3",
   "version": "3.10.12"
  }
 },
 "nbformat": 4,
 "nbformat_minor": 2
}
