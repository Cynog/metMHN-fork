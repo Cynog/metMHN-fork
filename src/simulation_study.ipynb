{
 "cells": [
  {
   "cell_type": "code",
   "execution_count": null,
   "metadata": {},
   "outputs": [],
   "source": [
    "import pandas as pd\n",
    "import scipy.optimize as opt\n",
    "import regularized_optimization as reg_opt\n",
    "import Utilityfunctions as utils\n",
    "import jax.numpy as jnp\n",
    "import numpy as np\n",
    "import jax as jax\n",
    "import matplotlib.pyplot as plt\n",
    "import simulations as simul\n",
    "jax.config.update(\"jax_enable_x64\", True)\n",
    "plt.rcParams['text.usetex'] = True\n",
    "from matplotlib.backends.backend_pdf import PdfPages"
   ]
  },
  {
   "cell_type": "code",
   "execution_count": null,
   "metadata": {},
   "outputs": [],
   "source": [
    "params = pd.read_csv(\"../results/luad/luad_diag_unpenal_002.csv\", index_col=0)\n",
    "th_learned = params.iloc[:,:-1].to_numpy()\n",
    "lam1 = np.exp(params.iloc[0,-1])\n",
    "lam2 = np.exp(params.iloc[1, -1])\n",
    "events = params.columns[:-1]\n",
    "n_sim = 100000\n",
    "n = th_learned.shape[0]\n",
    "rng = np.random.default_rng(42)"
   ]
  },
  {
   "cell_type": "code",
   "execution_count": null,
   "metadata": {},
   "outputs": [],
   "source": [
    "utils.plot_theta(params.iloc[:,:-1], 1)"
   ]
  },
  {
   "cell_type": "code",
   "execution_count": null,
   "metadata": {},
   "outputs": [],
   "source": [
    "probs_prim, probs_met = simul.p_full_orders(th_learned, n_sim, lam1, lam2, rng)\n",
    "cum_probs_prim = np.cumsum(probs_prim, axis=0)\n",
    "cum_probs_met = np.cumsum(probs_met, axis=0)"
   ]
  },
  {
   "cell_type": "code",
   "execution_count": null,
   "metadata": {},
   "outputs": [],
   "source": [
    "with PdfPages('paad_orders.pdf') as pdf:\n",
    "    for i in range(n):\n",
    "        fig,ax = plt.subplots(ncols=1, nrows=2, figsize=(11.69,8.27))\n",
    "        \n",
    "        ax[0].set_title(events[i]+\": Order of accumulation\")\n",
    "        ax[0].bar(np.arange(1,21), probs_met[:20,i], color=\"#D55E00\", label=\"MT\")\n",
    "        ax[0].bar(np.arange(1,21), probs_prim[:20,i], label=\"PT\", color=\"#56B4E9\", alpha=0.8)\n",
    "        ax[0].set_xticks(np.arange(0,21))\n",
    "        ax[0].legend()\n",
    "\n",
    "        ax[1].set_title(events[i]+\": Cumulative probability\")\n",
    "        ax[1].plot(np.arange(1,21), cum_probs_prim[:20,i], label=\"PT\", linewidth=\"4\", color=\"#56B4E9\", alpha=0.8)\n",
    "        ax[1].plot(np.arange(1,21), cum_probs_met[:20,i], color=\"#D55E00\", label=\"MT\", linewidth=\"4\")\n",
    "        ax[1].set_xticks(np.arange(0,21))\n",
    "        ax[1].legend()\n",
    "\n",
    "        pdf.savefig()\n",
    "        plt.close()"
   ]
  },
  {
   "attachments": {},
   "cell_type": "markdown",
   "metadata": {},
   "source": [
    "Calculate $P(t_{mut} < t_{seed}| x[mut] = 1)$ i.e. the probability that a mutation happend prior to the seeding for both primary tumors and metastases:"
   ]
  },
  {
   "cell_type": "code",
   "execution_count": null,
   "metadata": {},
   "outputs": [],
   "source": [
    "mut_ps, mut_total_prim, mut_total_met = simul.p_any_mut_pre_seed(th_learned, n_sim, lam1, lam2, rng)"
   ]
  },
  {
   "cell_type": "code",
   "execution_count": null,
   "metadata": {},
   "outputs": [],
   "source": [
    "psp = pd.DataFrame(np.column_stack((mut_ps/mut_total_prim, mut_ps/mut_total_met)), \n",
    "                  index=events[:-1], columns=[\"Prim\", \"Met\"])\n",
    "psp.sort_values(by=[\"Prim\"], inplace=True)\n",
    "fig, ax = plt.subplots(figsize=(8.27, 11.69))\n",
    "plt.style.use(\"default\")\n",
    "ax.set_xlim(0,1)\n",
    "ax.axvline(0.5, color = \"#D55E00\", linestyle=\"dashed\")\n",
    "psp[\"Prim\"].plot(kind=\"barh\", color=\"#56B4E9\", ax=ax, position=0, width=0.4)\n",
    "psp[\"Met\"].plot(kind=\"barh\", ax=ax, color=\"#D55E00\", position=1, width=0.4)\n",
    "ax.legend()"
   ]
  },
  {
   "attachments": {},
   "cell_type": "markdown",
   "metadata": {},
   "source": [
    "Calculate $P(t_{mut} < t_{seed} | x[mut] = z[mut] = 1)$ ie. the probability that a **shared** mutation between the primary tumor and the metastasis happened prior to the seeding"
   ]
  },
  {
   "cell_type": "code",
   "execution_count": null,
   "metadata": {},
   "outputs": [],
   "source": [
    "mut_ps, mut_total = simul.p_shared_mut_pre_seed(th_learned, n_sim, lam1, lam2, rng)\n",
    "psp = pd.DataFrame(mut_ps/mut_total, index=events[:-1], columns=[\"Shared\"])\n",
    "psp.sort_values(by=[\"Shared\"], inplace=True)\n",
    "fig, ax = plt.subplots(figsize=(8.27, 11.69))\n",
    "plt.style.use(\"default\")\n",
    "ax.set_xlim(0,1)\n",
    "ax.axvline(0.5, color = \"#D55E00\", linestyle=\"dashed\")\n",
    "psp[\"Prim\"].plot(kind=\"barh\", color=\"#56B4E9\", ax=ax)\n",
    "ax.legend()"
   ]
  },
  {
   "cell_type": "code",
   "execution_count": null,
   "metadata": {},
   "outputs": [],
   "source": [
    "res, iwas1, iwas2 = simul.simulate_dat(th_learned, 100000, lam1, lam2, rng)\n",
    "res[:, -1].sum()/100000"
   ]
  }
 ],
 "metadata": {
  "kernelspec": {
   "display_name": "Python 3",
   "language": "python",
   "name": "python3"
  },
  "language_info": {
   "codemirror_mode": {
    "name": "ipython",
    "version": 3
   },
   "file_extension": ".py",
   "mimetype": "text/x-python",
   "name": "python",
   "nbconvert_exporter": "python",
   "pygments_lexer": "ipython3",
   "version": "3.11.1"
  },
  "orig_nbformat": 4,
  "vscode": {
   "interpreter": {
    "hash": "aee8b7b246df8f9039afb4144a1f6fd8d2ca17a180786b69acc140d282b71a49"
   }
  }
 },
 "nbformat": 4,
 "nbformat_minor": 2
}
