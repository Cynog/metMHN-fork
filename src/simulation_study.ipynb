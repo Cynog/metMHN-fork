{
 "cells": [
  {
   "cell_type": "code",
   "execution_count": null,
   "metadata": {},
   "outputs": [],
   "source": [
    "import pandas as pd\n",
    "import scipy.optimize as opt\n",
    "import regularized_optimization as reg_opt\n",
    "import Utilityfunctions as utils\n",
    "import jax.numpy as jnp\n",
    "import numpy as np\n",
    "import jax as jax\n",
    "import matplotlib.pyplot as plt\n",
    "import simulations as simul\n",
    "jax.config.update(\"jax_enable_x64\", True)"
   ]
  },
  {
   "cell_type": "code",
   "execution_count": null,
   "metadata": {},
   "outputs": [],
   "source": [
    "#params = pd.read_csv(\"../results/paad_panet_\" + \"muts_30_5_08_008\" + \".csv\")\n",
    "params = pd.read_csv(\"../results/paad_mixed_08_003.csv\")\n",
    "th_learned = params.iloc[:,1:-1].to_numpy()\n",
    "lam1 = np.exp(params.iloc[0,-1])\n",
    "lam2 = np.exp(params.iloc[1, -1])\n",
    "events = params.columns[1:-1]\n",
    "n_sim = 100000\n",
    "n = th_learned.shape[0]\n",
    "rng = np.random.default_rng(42)\n"
   ]
  },
  {
   "cell_type": "code",
   "execution_count": null,
   "metadata": {},
   "outputs": [],
   "source": [
    "probs_prim, probs_met = simul.p_full_orders(th_learned, n_sim, lam1, lam2, rng)\n",
    "cum_probs_prim = np.cumsum(probs_prim, axis=0)\n",
    "cum_probs_met = np.cumsum(probs_met, axis=0)"
   ]
  },
  {
   "cell_type": "code",
   "execution_count": null,
   "metadata": {},
   "outputs": [],
   "source": [
    "print(probs_prim)"
   ]
  },
  {
   "cell_type": "code",
   "execution_count": null,
   "metadata": {},
   "outputs": [],
   "source": [
    "fig,ax = plt.subplots(ncols=2, nrows=n,figsize=(16,150))\n",
    "for i in range(n):\n",
    "    ax[i, 0].bar(np.arange(1,n+1), probs_prim[:,i], alpha=0.4, label=\"PT\")\n",
    "    ax[i, 0].bar(np.arange(1,n+1), probs_met[:,i], color=\"red\", alpha=0.4, label=\"MT\")\n",
    "    ax[i, 1].plot(np.arange(1,n+1), cum_probs_prim[:,i],alpha=0.4, label=\"PT\" )\n",
    "    ax[i, 1].plot(np.arange(1,n+1), cum_probs_met[:,i], color=\"red\", alpha=0.4, label=\"MT\" )\n",
    "    ax[i, 0].set_title(events[i]+\" Order of accumulation\")\n",
    "    ax[i, 1].set_title(events[i]+\" Cummulative probability\")\n",
    "    ax[i,0].legend()\n",
    "    ax[i,1].legend()"
   ]
  },
  {
   "cell_type": "code",
   "execution_count": null,
   "metadata": {},
   "outputs": [],
   "source": [
    "probs_pre_seed = simul.p_mut_pre_seed(th_learned, n_sim, lam1, lam2, rng)\n",
    "iwas = pd.DataFrame(probs_pre_seed[:-1], index=events[:-1], columns=[\"probs\"])\n",
    "iwas2 = iwas.sort_values(by=[\"probs\"])"
   ]
  },
  {
   "cell_type": "code",
   "execution_count": null,
   "metadata": {},
   "outputs": [],
   "source": [
    "fig, ax = plt.subplots()\n",
    "plt.style.use(\"default\")\n",
    "ax.set_ylim(0,1)\n",
    "ax.axhline(0.5, color =\"r\", linestyle=\"dashed\")\n",
    "iwas2.plot(kind=\"bar\", ax=ax, alpha=0.4)"
   ]
  }
 ],
 "metadata": {
  "kernelspec": {
   "display_name": "Python 3",
   "language": "python",
   "name": "python3"
  },
  "language_info": {
   "codemirror_mode": {
    "name": "ipython",
    "version": 3
   },
   "file_extension": ".py",
   "mimetype": "text/x-python",
   "name": "python",
   "nbconvert_exporter": "python",
   "pygments_lexer": "ipython3",
   "version": "3.11.1"
  },
  "orig_nbformat": 4,
  "vscode": {
   "interpreter": {
    "hash": "aee8b7b246df8f9039afb4144a1f6fd8d2ca17a180786b69acc140d282b71a49"
   }
  }
 },
 "nbformat": 4,
 "nbformat_minor": 2
}
