{
 "cells": [
  {
   "cell_type": "code",
   "execution_count": null,
   "metadata": {},
   "outputs": [],
   "source": [
    "import numpy as np\n",
    "import Utilityfunctions as utils\n",
    "import jax.numpy as jnp\n",
    "import scipy.optimize as opt\n",
    "import regularized_optimization as reg_opt\n",
    "import jax as jax\n",
    "import matplotlib.pyplot as plt\n",
    "import simulations as simul\n",
    "jax.config.update(\"jax_enable_x64\", True)"
   ]
  },
  {
   "cell_type": "code",
   "execution_count": null,
   "metadata": {},
   "outputs": [],
   "source": [
    "n = 8\n",
    "theta = utils.random_theta(n, 0.0)\n",
    "lam1 = 0.4\n",
    "lam2 = 1\n",
    "rng = np.random.default_rng(42)\n"
   ]
  },
  {
   "cell_type": "code",
   "execution_count": null,
   "metadata": {},
   "outputs": [],
   "source": [
    "# Sample datapoints according to the model\n",
    "n_dat = 100\n",
    "dat_full, ages, psp = simul.simulate_dat(theta, n_dat, lam1, lam2, rng)\n",
    "lam2_start = np.log(1/np.mean(ages))\n",
    "dat_prim = np.zeros(shape=(1, 2*n+1), dtype = int)\n",
    "dat_coupled = np.zeros(shape=(1, 2*n+1), dtype = int)\n",
    "for i in range(dat_full.shape[0]):\n",
    "    state = dat_full[i, :]\n",
    "    if state[-1] == 0:\n",
    "        state[1::2] = 0\n",
    "        dat_prim = np.vstack((dat_prim, state))\n",
    "    else:\n",
    "        dat_coupled = np.vstack((dat_coupled, state))\n",
    "dat_prim = jnp.array(np.delete(dat_prim, 0, 0), jnp.int32)\n",
    "dat_coupled = jnp.array(np.delete(dat_coupled, 0, 0), jnp.int32)\n",
    "print(dat_prim.shape[0], dat_coupled.shape[0])\n",
    "dat_coupled = dat_coupled.at[dat_coupled.sum(axis=1)>1,:].get()\n",
    "dat_coupled\n"
   ]
  },
  {
   "cell_type": "code",
   "execution_count": null,
   "metadata": {},
   "outputs": [],
   "source": [
    "#prim, met = simul.p_full_orders(theta, n_dat, lam1, lam2, rng)"
   ]
  },
  {
   "cell_type": "code",
   "execution_count": null,
   "metadata": {},
   "outputs": [],
   "source": [
    "#fig,ax = plt.subplots(10, figsize=(8,25))\n",
    "#for i in range(n+1):\n",
    "#    ax[i].bar(np.arange(0,n+1), prim[:,i])"
   ]
  },
  {
   "cell_type": "code",
   "execution_count": null,
   "metadata": {},
   "outputs": [],
   "source": [
    "#print(dat_prim.shape[0], dat_coupled.shape[0])"
   ]
  },
  {
   "cell_type": "code",
   "execution_count": null,
   "metadata": {},
   "outputs": [],
   "source": [
    "#Initial parameters for learning\n",
    "indep = np.array(utils.indep(jnp.array(dat_prim), jnp.array(dat_coupled)))\n",
    "lam1_start = np.log(1.5)\n",
    "start_params = np.append(indep, [lam1_start, lam2_start])\n",
    "indep"
   ]
  },
  {
   "cell_type": "code",
   "execution_count": null,
   "metadata": {},
   "outputs": [],
   "source": [
    "#reg_opt.log_lik(start_params, dat_prim, dat_coupled, n, 0.01, 0.8)"
   ]
  },
  {
   "cell_type": "code",
   "execution_count": null,
   "metadata": {},
   "outputs": [],
   "source": [
    "#g_prim_no_met, dlam1_prim_no_met = reg_opt.grad_prim_only(jnp.array(indep), dat_prim_nomet, jnp.exp(lam1_start), n)"
   ]
  },
  {
   "cell_type": "code",
   "execution_count": null,
   "metadata": {},
   "outputs": [],
   "source": [
    "#g_prim_met, dlam1_prim_met = reg_opt.grad_prim_only(jnp.array(indep), dat_prim_met, jnp.exp(lam1_start), n)"
   ]
  },
  {
   "cell_type": "code",
   "execution_count": null,
   "metadata": {},
   "outputs": [],
   "source": [
    "#g_met, dlam1_met = reg_opt.grad_met_only(jnp.array(indep), dat_met_only, jnp.exp(lam1_start), lam2_start, n)"
   ]
  },
  {
   "cell_type": "code",
   "execution_count": null,
   "metadata": {},
   "outputs": [],
   "source": [
    "lik, grad = reg_opt.value_grad(start_params, dat_prim, dat_coupled, dat_prim, dat_prim, n, 0., 0., 0.8)\n",
    "print(lik)\n",
    "print(np.around(grad[:-2].reshape((n+1, n+1)), 3))"
   ]
  },
  {
   "cell_type": "code",
   "execution_count": null,
   "metadata": {},
   "outputs": [],
   "source": [
    "x = opt.minimize(reg_opt.value_grad, x0 = start_params, args = (dat_prim, dat_coupled, dat_prim, dat_prim, n, 0.05, 0., 0.8), \n",
    "                method = \"L-BFGS-B\", jac = True, options={\"maxiter\":1000, \"disp\":True, \"ftol\":1e-05})"
   ]
  },
  {
   "cell_type": "code",
   "execution_count": null,
   "metadata": {},
   "outputs": [],
   "source": [
    "print(jnp.around(jnp.reshape(x.x[:-2], (n+1, n+1)),2))\n",
    "print(jnp.exp(x.x[-2:]))\n",
    "print(jnp.around(theta, 2))"
   ]
  },
  {
   "cell_type": "code",
   "execution_count": null,
   "metadata": {},
   "outputs": [],
   "source": [
    "grad_num = np.zeros((n+1, n+1))\n",
    "h = 1e-08\n",
    "val_org, grad_org = reg_opt.value_grad(start_params, dat_prim, dat_coupled, dat_prim, dat_prim, n, 0., 0., 0.8)\n",
    "for i in range(n+1):\n",
    "    for j in range(n+1):\n",
    "        th_next =  indep.copy()\n",
    "        th_next[i,j] += h\n",
    "        perturbed_params = np.append(th_next, [lam1_start, lam2_start])\n",
    "        val_perturbed, grad = reg_opt.value_grad(perturbed_params, dat_prim, dat_coupled, dat_prim, dat_prim, n, 0., 0., 0.8)\n",
    "        grad_num[i,j] = (val_perturbed - val_org)/h\n",
    "        "
   ]
  },
  {
   "cell_type": "code",
   "execution_count": null,
   "metadata": {},
   "outputs": [],
   "source": [
    "lam1_next =  lam1_start + h\n",
    "perturbed_params = np.append(indep, [lam1_next, lam2_start])\n",
    "val_perturbed, grad = reg_opt.value_grad(perturbed_params, dat_prim, dat_coupled, dat_prim, dat_prim, n, 0., 0., 0.8)\n",
    "lam_num = (val_perturbed - val_org)/h\n",
    "print(lam_num, grad_org[-2])"
   ]
  },
  {
   "cell_type": "code",
   "execution_count": null,
   "metadata": {},
   "outputs": [],
   "source": [
    "print(np.round(grad_num, 5))\n",
    "print(np.round(grad_org[0:(n+1)**2].reshape((n+1, n+1)), 5))"
   ]
  }
 ],
 "metadata": {
  "kernelspec": {
   "display_name": "Python 3",
   "language": "python",
   "name": "python3"
  },
  "language_info": {
   "codemirror_mode": {
    "name": "ipython",
    "version": 3
   },
   "file_extension": ".py",
   "mimetype": "text/x-python",
   "name": "python",
   "nbconvert_exporter": "python",
   "pygments_lexer": "ipython3",
   "version": "3.11.1"
  },
  "orig_nbformat": 4,
  "vscode": {
   "interpreter": {
    "hash": "aee8b7b246df8f9039afb4144a1f6fd8d2ca17a180786b69acc140d282b71a49"
   }
  }
 },
 "nbformat": 4,
 "nbformat_minor": 2
}
