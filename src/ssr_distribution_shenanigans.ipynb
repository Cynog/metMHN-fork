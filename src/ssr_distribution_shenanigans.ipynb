{
 "cells": [
  {
   "cell_type": "code",
   "execution_count": null,
   "metadata": {},
   "outputs": [],
   "source": [
    "import numpy as np\n",
    "import Utilityfunctions as utils\n",
    "import jax.numpy as jnp\n",
    "import ssr_kronvec_jax as ssr\n",
    "import ssr_likelihood_jax as jax_lik\n",
    "import vanilla as mhn\n",
    "import scipy.optimize as opt\n",
    "import regularized_optimization as reg_opt"
   ]
  },
  {
   "cell_type": "code",
   "execution_count": null,
   "metadata": {},
   "outputs": [],
   "source": [
    "n = 10\n",
    "theta = utils.random_theta(n, 0.0)\n",
    "n_dat = 50\n",
    "dat = np.random.binomial(n=1, p=0.6, size=n_dat*(2*n+1))\n",
    "dat = jnp.array(dat).reshape((n_dat, -1))\n",
    "dat = dat.at[:,-1].set(1)\n",
    "dat = jnp.column_stack((dat, jnp.ones(n_dat, dtype=int)))\n",
    "lam1 = 1\n",
    "lam2 = 1\n",
    "indep = np.eye(n+1)\n",
    "dat"
   ]
  },
  {
   "cell_type": "code",
   "execution_count": null,
   "metadata": {},
   "outputs": [],
   "source": [
    "reg_opt.log_prob_coupled(theta.flatten(), dat, lam1, lam2, 1/n_dat)"
   ]
  },
  {
   "cell_type": "code",
   "execution_count": null,
   "metadata": {},
   "outputs": [],
   "source": [
    "reg_opt.log_prob_single(theta.flatten(), dat, lam1, 1/n_dat)"
   ]
  },
  {
   "cell_type": "code",
   "execution_count": null,
   "metadata": {},
   "outputs": [],
   "source": [
    "reg_opt.grad_single(indep.flatten(), dat, lam1, 1/n_dat)"
   ]
  },
  {
   "cell_type": "code",
   "execution_count": null,
   "metadata": {},
   "outputs": [],
   "source": [
    "reg_opt.grad_coupled(indep.flatten(), dat, lam1, lam2, 1/n_dat)"
   ]
  },
  {
   "cell_type": "code",
   "execution_count": null,
   "metadata": {},
   "outputs": [],
   "source": [
    "reg_opt.grad_coupled_2(indep.flatten(), dat, lam1, lam2, 1/n_dat)"
   ]
  },
  {
   "cell_type": "code",
   "execution_count": null,
   "metadata": {},
   "outputs": [],
   "source": [
    "x = opt.minimize(reg_opt.log_prob_coupled, x0 = indep.flatten(), args = (dat, lam1, lam2, 0.07), \n",
    "                method = \"L-BFGS-B\", jac = reg_opt.grad_coupled_2, options={\"maxiter\":100, \"disp\":True})"
   ]
  },
  {
   "cell_type": "code",
   "execution_count": null,
   "metadata": {},
   "outputs": [],
   "source": [
    "jnp.around(jnp.exp(jnp.reshape(x.x, (n+1, n+1))),2)"
   ]
  }
 ],
 "metadata": {
  "kernelspec": {
   "display_name": "Python 3",
   "language": "python",
   "name": "python3"
  },
  "language_info": {
   "codemirror_mode": {
    "name": "ipython",
    "version": 3
   },
   "file_extension": ".py",
   "mimetype": "text/x-python",
   "name": "python",
   "nbconvert_exporter": "python",
   "pygments_lexer": "ipython3",
   "version": "3.11.1"
  },
  "orig_nbformat": 4,
  "vscode": {
   "interpreter": {
    "hash": "aee8b7b246df8f9039afb4144a1f6fd8d2ca17a180786b69acc140d282b71a49"
   }
  }
 },
 "nbformat": 4,
 "nbformat_minor": 2
}
