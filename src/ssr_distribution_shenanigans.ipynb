{
 "cells": [
  {
   "cell_type": "code",
   "execution_count": 1,
   "metadata": {},
   "outputs": [],
   "source": [
    "import numpy as np\n",
    "import Utilityfunctions as utils\n",
    "import jax.numpy as jnp\n",
    "import ssr_kronvec_jax as ssr\n",
    "import ssr_likelihood_jax as jax_lik\n",
    "import vanilla as mhn\n",
    "import scipy.optimize as opt\n",
    "import regularized_optimization as reg_opt\n",
    "from jax import lax"
   ]
  },
  {
   "cell_type": "code",
   "execution_count": 2,
   "metadata": {},
   "outputs": [
    {
     "data": {
      "text/plain": [
       "Array([[0, 0, 0, ..., 0, 1, 1],\n",
       "       [1, 0, 0, ..., 0, 1, 1],\n",
       "       [1, 1, 1, ..., 0, 1, 1],\n",
       "       ...,\n",
       "       [0, 1, 1, ..., 0, 1, 1],\n",
       "       [0, 0, 1, ..., 1, 1, 1],\n",
       "       [1, 0, 1, ..., 0, 1, 1]], dtype=int32)"
      ]
     },
     "execution_count": 2,
     "metadata": {},
     "output_type": "execute_result"
    }
   ],
   "source": [
    "n = 10\n",
    "theta = utils.random_theta(n, 0.0)\n",
    "n_dat = 50\n",
    "dat = np.random.binomial(n=1, p=0.6, size=n_dat*(2*n+1))\n",
    "dat = jnp.array(dat).reshape((n_dat, -1))\n",
    "dat = dat.at[:,-1].set(1)\n",
    "dat = jnp.column_stack((dat, jnp.ones(n_dat, dtype=int)))\n",
    "lam1 = 1\n",
    "lam2 = 1\n",
    "indep = np.eye(n+1)\n",
    "dat"
   ]
  },
  {
   "cell_type": "code",
   "execution_count": 3,
   "metadata": {},
   "outputs": [
    {
     "data": {
      "text/plain": [
       "20.053835737757005"
      ]
     },
     "execution_count": 3,
     "metadata": {},
     "output_type": "execute_result"
    }
   ],
   "source": [
    "reg_opt.log_prob_coupled(theta.flatten(), dat, lam1, lam2, 1/n_dat)"
   ]
  },
  {
   "cell_type": "code",
   "execution_count": 4,
   "metadata": {},
   "outputs": [
    {
     "data": {
      "text/plain": [
       "10.26188078170232"
      ]
     },
     "execution_count": 4,
     "metadata": {},
     "output_type": "execute_result"
    }
   ],
   "source": [
    "reg_opt.log_prob_single(theta.flatten(), dat, lam1, 1/n_dat)"
   ]
  },
  {
   "cell_type": "code",
   "execution_count": 5,
   "metadata": {},
   "outputs": [
    {
     "data": {
      "text/plain": [
       "array([ 0.06328756,  0.05273873,  0.04763342,  0.05908861,  0.05479123,\n",
       "        0.04658644,  0.05268817,  0.02667424,  0.04540605,  0.03245854,\n",
       "        0.0366201 ,  0.09885359,  0.1318597 ,  0.09889065,  0.06854238,\n",
       "        0.08915135,  0.11254191,  0.0741931 ,  0.08751022,  0.06904947,\n",
       "        0.09875543,  0.08516987,  0.07519034,  0.08033271,  0.10147525,\n",
       "        0.07984593,  0.09217491,  0.05769078,  0.07517645,  0.07718381,\n",
       "        0.07152876,  0.0555158 ,  0.06044286,  0.02962268, -0.0070384 ,\n",
       "        0.02282306,  0.03134266,  0.00670724, -0.00263547,  0.013614  ,\n",
       "        0.02710354,  0.02619615, -0.01518576,  0.02468905,  0.19809741,\n",
       "        0.18634266,  0.20792417,  0.17947935,  0.25576937,  0.18197082,\n",
       "        0.19808352,  0.18720001,  0.16843006,  0.20517226,  0.15860504,\n",
       "        0.11569723,  0.13553785,  0.09924467,  0.09594124,  0.10777546,\n",
       "        0.16570131,  0.10282816,  0.09047341,  0.08432358,  0.14148186,\n",
       "        0.11363248, -0.06502939, -0.0896393 , -0.07009801, -0.07463764,\n",
       "       -0.06294021, -0.08400017, -0.09434388, -0.08067443, -0.07183059,\n",
       "       -0.07365391, -0.05547517, -0.09678939, -0.08206823, -0.07383672,\n",
       "       -0.06689413, -0.07956976, -0.10210096, -0.08642048, -0.09497112,\n",
       "       -0.06121068, -0.11960356, -0.04906611,  0.07049037,  0.04801894,\n",
       "        0.06905615,  0.08074641,  0.05020821,  0.04029712,  0.07097127,\n",
       "        0.08733725,  0.10370111,  0.08244333,  0.06966181,  0.26074255,\n",
       "        0.28092459,  0.25624287,  0.24256416,  0.29015014,  0.3006551 ,\n",
       "        0.27234769,  0.23214409,  0.28564307,  0.38042215,  0.24572435,\n",
       "       -0.40824151, -0.40580657, -0.41197568, -0.39070666, -0.42956272,\n",
       "       -0.4003399 , -0.38261917, -0.37046409, -0.40028408, -0.42742118,\n",
       "       -0.52791113])"
      ]
     },
     "execution_count": 5,
     "metadata": {},
     "output_type": "execute_result"
    }
   ],
   "source": [
    "reg_opt.grad_single(indep.flatten(), dat, lam1, 1/n_dat)"
   ]
  },
  {
   "cell_type": "code",
   "execution_count": null,
   "metadata": {},
   "outputs": [],
   "source": [
    "reg_opt.grad_coupled(indep.flatten(), dat, lam1, lam2, 1/n_dat)"
   ]
  },
  {
   "cell_type": "code",
   "execution_count": 10,
   "metadata": {},
   "outputs": [
    {
     "data": {
      "text/plain": [
       "array([ 0.17795303,  0.08356746,  0.06853372,  0.07696161,  0.09306427,\n",
       "        0.09217978,  0.09777746,  0.16592191,  0.04588538,  0.14092404,\n",
       "        0.19869101,  0.16245045,  0.26770684,  0.15394489,  0.19072224,\n",
       "        0.19106184,  0.1273106 ,  0.16701411,  0.09329277,  0.18276978,\n",
       "        0.11449309,  0.2512902 ,  0.19501951,  0.22890992,  0.46255973,\n",
       "        0.23366715,  0.20674203,  0.29285067,  0.24634032,  0.21926294,\n",
       "        0.23549597,  0.22421204,  0.42351586,  0.01078714,  0.04595223,\n",
       "        0.01476799, -0.02540223,  0.04144002,  0.00745589,  0.006721  ,\n",
       "        0.04501866,  0.02413456,  0.04697281,  0.06722978,  0.15502192,\n",
       "        0.20124388,  0.10545223,  0.20108463,  0.30509672,  0.15839885,\n",
       "        0.14094502,  0.15448788,  0.14471021,  0.13470542,  0.18108764,\n",
       "        0.18024908,  0.14420187,  0.21637782,  0.16211958,  0.16886561,\n",
       "        0.30099311,  0.19861814,  0.19650134,  0.22851051,  0.12250765,\n",
       "        0.27948138, -0.10337615, -0.08411636, -0.08355867, -0.09446784,\n",
       "       -0.09358289, -0.07513024, -0.21816319, -0.08595061, -0.09554077,\n",
       "       -0.08310733, -0.03105307,  0.15379184,  0.07050194,  0.0787218 ,\n",
       "        0.10262946,  0.09140707,  0.11662093,  0.09693851,  0.10611549,\n",
       "        0.08757547,  0.09486882,  0.2733286 ,  0.03520729,  0.12671009,\n",
       "        0.11070816,  0.12919286,  0.12056113,  0.14997651,  0.09402049,\n",
       "        0.11476977,  0.20970719,  0.09985214,  0.2154467 ,  0.31259793,\n",
       "        0.24753609,  0.254269  ,  0.34595525,  0.29191723,  0.22246823,\n",
       "        0.31873661,  0.27346668,  0.29404128,  0.58035773,  0.34751254,\n",
       "       -0.12293966, -0.10868032, -0.08190467, -0.17097859, -0.0995205 ,\n",
       "       -0.09877454, -0.18571621, -0.13823621, -0.13795465, -0.06890267,\n",
       "       -0.73039949])"
      ]
     },
     "execution_count": 10,
     "metadata": {},
     "output_type": "execute_result"
    }
   ],
   "source": [
    "reg_opt.grad_coupled_2(indep.flatten(), dat, lam1, lam2, 1/n_dat)\n"
   ]
  },
  {
   "cell_type": "code",
   "execution_count": 9,
   "metadata": {},
   "outputs": [
    {
     "data": {
      "text/plain": [
       "array([ 0.17795303,  0.08356746,  0.06853373,  0.07696161,  0.09306426,\n",
       "        0.09217978,  0.09777747,  0.16592191,  0.04588539,  0.14092407,\n",
       "        0.19869101,  0.16245045,  0.26770678,  0.15394491,  0.19072224,\n",
       "        0.19106184,  0.1273106 ,  0.16701411,  0.09329279,  0.18276976,\n",
       "        0.11449309,  0.2512902 ,  0.19501947,  0.22890992,  0.46255979,\n",
       "        0.23366717,  0.20674203,  0.29285067,  0.24634029,  0.21926294,\n",
       "        0.23549597,  0.22421204,  0.42351586,  0.01078714,  0.04595223,\n",
       "        0.01476799, -0.02540224,  0.04144002,  0.00745589,  0.006721  ,\n",
       "        0.04501867,  0.02413457,  0.04697281,  0.06722976,  0.15502192,\n",
       "        0.20124386,  0.10545221,  0.20108466,  0.30509672,  0.15839882,\n",
       "        0.14094505,  0.15448789,  0.14471021,  0.13470545,  0.18108763,\n",
       "        0.18024908,  0.14420189,  0.21637782,  0.16211958,  0.16886561,\n",
       "        0.30099311,  0.19861814,  0.19650133,  0.22851056,  0.12250766,\n",
       "        0.27948132, -0.10337615, -0.08411635, -0.08355869, -0.09446784,\n",
       "       -0.0935829 , -0.07513025, -0.21816315, -0.08595061, -0.09554077,\n",
       "       -0.08310732, -0.03105306,  0.15379186,  0.07050194,  0.0787218 ,\n",
       "        0.10262946,  0.09140706,  0.11662092,  0.09693852,  0.10611548,\n",
       "        0.08757547,  0.09486882,  0.2733286 ,  0.03520728,  0.12671007,\n",
       "        0.11070817,  0.12919284,  0.12056115,  0.14997651,  0.09402049,\n",
       "        0.11476976,  0.20970714,  0.09985215,  0.2154467 ,  0.31259793,\n",
       "        0.24753612,  0.25426897,  0.34595525,  0.29191723,  0.22246823,\n",
       "        0.31873661,  0.27346668,  0.29404125,  0.58035773,  0.34751251,\n",
       "       -0.12293965, -0.10868034, -0.08190467, -0.17097856, -0.09952049,\n",
       "       -0.09877454, -0.18571621, -0.13823622, -0.13795465, -0.06890267,\n",
       "       -0.73039949])"
      ]
     },
     "execution_count": 9,
     "metadata": {},
     "output_type": "execute_result"
    }
   ],
   "source": [
    "reg_opt.grad_coupled_3(indep.flatten(), dat, lam1, lam2, 1/n_dat)"
   ]
  },
  {
   "cell_type": "code",
   "execution_count": 11,
   "metadata": {},
   "outputs": [
    {
     "name": "stderr",
     "output_type": "stream",
     "text": [
      " This problem is unconstrained.\n"
     ]
    },
    {
     "name": "stdout",
     "output_type": "stream",
     "text": [
      "RUNNING THE L-BFGS-B CODE\n",
      "\n",
      "           * * *\n",
      "\n",
      "Machine precision = 2.220D-16\n",
      " N =          121     M =           10\n",
      "\n",
      "At X0         0 variables are exactly at the bounds\n",
      "\n",
      "At iterate    0    f=  1.70704D+01    |proj g|=  7.30399D-01\n",
      "\n",
      "At iterate    1    f=  1.64096D+01    |proj g|=  5.72763D-01\n",
      "\n",
      "At iterate    2    f=  1.59822D+01    |proj g|=  4.24118D-01\n",
      "\n",
      "At iterate    3    f=  1.55419D+01    |proj g|=  1.98459D-01\n",
      "\n",
      "At iterate    4    f=  1.52879D+01    |proj g|=  1.91170D-01\n",
      "\n",
      "At iterate    5    f=  1.50928D+01    |proj g|=  1.61808D-01\n",
      "\n",
      "At iterate    6    f=  1.50405D+01    |proj g|=  1.80871D-01\n",
      "\n",
      "At iterate    7    f=  1.48846D+01    |proj g|=  1.71988D-01\n",
      "\n",
      "At iterate    8    f=  1.48693D+01    |proj g|=  1.93214D-01\n",
      "\n",
      "At iterate    9    f=  1.47783D+01    |proj g|=  1.40275D-01\n",
      "\n",
      "At iterate   10    f=  1.47686D+01    |proj g|=  1.45242D-01\n",
      "\n",
      "At iterate   11    f=  1.46974D+01    |proj g|=  1.49550D-01\n",
      "\n",
      "At iterate   12    f=  1.46883D+01    |proj g|=  1.77166D-01\n",
      "\n",
      "At iterate   13    f=  1.46406D+01    |proj g|=  1.39949D-01\n",
      "\n",
      "At iterate   14    f=  1.46372D+01    |proj g|=  1.44349D-01\n",
      "\n",
      "At iterate   15    f=  1.46014D+01    |proj g|=  1.17201D-01\n",
      "\n",
      "At iterate   16    f=  1.45867D+01    |proj g|=  1.56904D-01\n",
      "\n",
      "At iterate   17    f=  1.45737D+01    |proj g|=  1.59817D-01\n",
      "\n",
      "At iterate   18    f=  1.45660D+01    |proj g|=  1.74162D-01\n",
      "\n",
      "At iterate   19    f=  1.45601D+01    |proj g|=  1.69496D-01\n",
      "\n",
      "At iterate   20    f=  1.45404D+01    |proj g|=  1.63925D-01\n",
      "\n",
      "At iterate   21    f=  1.45250D+01    |proj g|=  1.18160D-01\n",
      "\n",
      "At iterate   22    f=  1.45173D+01    |proj g|=  1.79673D-01\n",
      "\n",
      "At iterate   23    f=  1.45108D+01    |proj g|=  1.66866D-01\n",
      "\n",
      "At iterate   24    f=  1.44981D+01    |proj g|=  7.17712D-02\n",
      "\n",
      "At iterate   25    f=  1.44917D+01    |proj g|=  1.33923D-01\n",
      "\n",
      "At iterate   26    f=  1.44851D+01    |proj g|=  1.23970D-01\n",
      "\n",
      "At iterate   27    f=  1.44764D+01    |proj g|=  1.33331D-01\n",
      "\n",
      "At iterate   28    f=  1.44618D+01    |proj g|=  1.82284D-01\n",
      "\n",
      "At iterate   29    f=  1.44478D+01    |proj g|=  1.78094D-01\n",
      "\n",
      "At iterate   30    f=  1.44393D+01    |proj g|=  1.87744D-01\n",
      "\n",
      "At iterate   31    f=  1.44295D+01    |proj g|=  1.97888D-01\n",
      "\n",
      "At iterate   32    f=  1.44268D+01    |proj g|=  7.73105D-02\n",
      "\n",
      "At iterate   33    f=  1.44203D+01    |proj g|=  1.27051D-01\n",
      "\n",
      "At iterate   34    f=  1.44146D+01    |proj g|=  1.24568D-01\n",
      "\n",
      "At iterate   35    f=  1.44129D+01    |proj g|=  6.42285D-02\n",
      "\n",
      "At iterate   36    f=  1.44091D+01    |proj g|=  1.73291D-01\n",
      "\n",
      "At iterate   37    f=  1.44052D+01    |proj g|=  9.34000D-02\n",
      "\n",
      "At iterate   38    f=  1.43996D+01    |proj g|=  1.27375D-01\n",
      "\n",
      "At iterate   39    f=  1.43922D+01    |proj g|=  9.22227D-02\n",
      "\n",
      "At iterate   40    f=  1.43860D+01    |proj g|=  1.75009D-01\n",
      "\n",
      "At iterate   41    f=  1.43852D+01    |proj g|=  3.74628D-02\n",
      "\n",
      "At iterate   42    f=  1.43838D+01    |proj g|=  2.14319D-02\n",
      "\n",
      "At iterate   43    f=  1.43819D+01    |proj g|=  2.69671D-02\n",
      "\n",
      "At iterate   44    f=  1.43778D+01    |proj g|=  1.12480D-01\n",
      "\n",
      "At iterate   45    f=  1.43753D+01    |proj g|=  2.84059D-02\n",
      "\n",
      "At iterate   46    f=  1.43731D+01    |proj g|=  2.77695D-02\n",
      "\n",
      "At iterate   47    f=  1.43688D+01    |proj g|=  2.38603D-02\n",
      "\n",
      "At iterate   48    f=  1.43677D+01    |proj g|=  4.60679D-02\n",
      "\n",
      "At iterate   49    f=  1.43677D+01    |proj g|=  3.84406D-02\n",
      "\n",
      "At iterate   50    f=  1.43677D+01    |proj g|=  3.82781D-02\n",
      "\n",
      "At iterate   51    f=  1.43677D+01    |proj g|=  3.82618D-02\n",
      "\n",
      "At iterate   52    f=  1.43677D+01    |proj g|=  2.86686D-02\n",
      "\n",
      "At iterate   53    f=  1.43676D+01    |proj g|=  1.95839D-02\n",
      "\n",
      "At iterate   54    f=  1.43676D+01    |proj g|=  3.16888D-02\n",
      "\n",
      "At iterate   55    f=  1.43672D+01    |proj g|=  8.64347D-03\n",
      "\n",
      "At iterate   56    f=  1.43670D+01    |proj g|=  1.00108D-02\n",
      "\n",
      "At iterate   57    f=  1.43662D+01    |proj g|=  1.54223D-02\n",
      "\n",
      "At iterate   58    f=  1.43655D+01    |proj g|=  1.99654D-02\n"
     ]
    }
   ],
   "source": [
    "x = opt.minimize(reg_opt.log_prob_coupled, x0 = indep.flatten(), args = (dat, lam1, lam2, 0.1), \n",
    "                method = \"L-BFGS-B\", jac = reg_opt.grad_coupled_3, options={\"maxiter\":100, \"disp\":True})"
   ]
  },
  {
   "cell_type": "code",
   "execution_count": null,
   "metadata": {},
   "outputs": [],
   "source": [
    "jnp.around(jnp.reshape(x.x, (n+1, n+1)),2)"
   ]
  },
  {
   "cell_type": "code",
   "execution_count": null,
   "metadata": {},
   "outputs": [],
   "source": [
    "i = 0\n",
    "log_theta = jnp.array(theta)\n",
    "prim_first = bool(dat.at[i, -1].get())\n",
    "state = dat.at[i, 0:2*n+1].get()\n",
    "if prim_first:\n",
    "    latent_state_1 = jnp.append(state.at[1:2*n+1:2].get(), state.at[-1].get())\n",
    "else:    \n",
    "    latent_state_1 = state.at[i, 0:2*n+1:2].get()\n",
    "\n",
    "# Calculate Joint dist at t1\n",
    "p0 = jnp.zeros(2**int(state.sum()))\n",
    "p0 = p0.at[0].set(1.0)\n",
    "pTh1 = lam1 * jax_lik.R_i_inv_vec(log_theta, p0, lam1,  state, transpose = False)\n",
    "\n",
    "# Get indices of latent_states at t1/t2\n",
    "latent_dist_1 = ssr.obs_inds_2(pTh1, state, prim_first)\n",
    "latent_dist_2 = ssr.obs_inds_2(pTh1, state, not prim_first)\n",
    "latent_dist_2 = latent_dist_2.at[0:latent_dist_2.shape[0]//2].set(0)\n",
    "latent_size = int(latent_dist_1.sum())\n",
    "\n",
    "# Get observed dist at t1\n",
    "pTh1_obs = pTh1.at[jnp.where(latent_dist_1==1, size=latent_size)[0]].get()\n",
    "nk = pTh1_obs.sum()\n",
    "pTh1_obs /= nk\n",
    "pTh2 = mhn.R_inv_vec(log_theta, pTh1_obs, lam2, latent_state_1, False)\n",
    "q = jnp.zeros_like(pTh2)\n",
    "q = q.at[-1].set(1/pTh2.at[-1].get())\n",
    "mhn.R_inv_vec(log_theta, q, lam2, latent_state_1, True)\n",
    "marg = utils.ssr_marginalize(pTh1, n, state, True, False)\n",
    "iwas = jnp.zeros_like(marg)\n",
    "iwas = iwas.at[-1].set(1/marg[-1])\n",
    "#print(marg)\n",
    "print(utils.ssr_marginalize_mat_vec_transp(iwas, n, state, True, False))\n",
    "#print(utils.ssr_obs_dist(pTh1, state, n, True))\n",
    "obs = utils.ssr_obs_dist_mat_vec(pTh1, state, n, True)\n",
    "#print(obs)\n",
    "utils.ssr_obs_dist_mat_vec_transp(pTh1_obs, state, n, True)\n",
    "jnp.where(latent_dist_1 ==1, pTh1/nk, 0)"
   ]
  },
  {
   "cell_type": "code",
   "execution_count": null,
   "metadata": {},
   "outputs": [],
   "source": [
    "np.arange(0,8).reshape((-1,1), order=\"F\")"
   ]
  }
 ],
 "metadata": {
  "kernelspec": {
   "display_name": "Python 3",
   "language": "python",
   "name": "python3"
  },
  "language_info": {
   "codemirror_mode": {
    "name": "ipython",
    "version": 3
   },
   "file_extension": ".py",
   "mimetype": "text/x-python",
   "name": "python",
   "nbconvert_exporter": "python",
   "pygments_lexer": "ipython3",
   "version": "3.11.1"
  },
  "orig_nbformat": 4,
  "vscode": {
   "interpreter": {
    "hash": "aee8b7b246df8f9039afb4144a1f6fd8d2ca17a180786b69acc140d282b71a49"
   }
  }
 },
 "nbformat": 4,
 "nbformat_minor": 2
}
