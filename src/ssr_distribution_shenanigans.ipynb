{
 "cells": [
  {
   "cell_type": "code",
   "execution_count": 1,
   "metadata": {},
   "outputs": [],
   "source": [
    "import numpy as np\n",
    "import Utilityfunctions as utils\n",
    "import jax.numpy as jnp\n",
    "import ssr_kronvec_jax as ssr\n",
    "import ssr_likelihood_jax as jax_lik\n",
    "import ssr_likelihood as pyt"
   ]
  },
  {
   "cell_type": "code",
   "execution_count": 2,
   "metadata": {},
   "outputs": [],
   "source": [
    "n = 3\n",
    "theta = utils.random_theta(n, 0.0)\n",
    "n_dat = 100\n",
    "dat = np.random.binomial(n=1, p=0.6, size=n_dat*(2*n+1))\n",
    "dat = jnp.array(dat).reshape((n_dat, -1))\n",
    "dat = dat.at[:,-1].set(1)\n",
    "dat = jnp.column_stack((dat, jnp.ones(n_dat, dtype=int)))\n",
    "lam1 = 0.5\n",
    "lam2 = 1.5"
   ]
  },
  {
   "cell_type": "code",
   "execution_count": null,
   "metadata": {},
   "outputs": [],
   "source": [
    "#dat_point = dat.at[0,0:2*n+1].get()\n",
    "#m = dat_point.sum()\n",
    "#p0 = np.zeros(2**m)\n",
    "#p0[0] = 1\n",
    "#pTh1 = jax_lik.R_i_inv_vec(log_theta = theta, x = p0, lam = lam1,  state = dat_point, transpose = False)"
   ]
  },
  {
   "cell_type": "code",
   "execution_count": null,
   "metadata": {},
   "outputs": [],
   "source": [
    "#dat_point = jnp.array([1,1,0,0,1,1,1], dtype = int)\n",
    "#m = dat_point.sum()\n",
    "#p0 = np.zeros(2**m)\n",
    "#p0[0] = 1\n",
    "#pTh1 = jax_lik.R_i_inv_vec(log_theta = theta, x = p0, lam = lam1,  state = dat_point, transpose = False)\n",
    "#count = dat_point[1:2*n:2].sum()\n",
    "#latent_dist = jnp.zeros(2**(count))\n",
    "#print(utils.ssr_obs_dist(pTh1, dat_point, n, obs_prim=True))\n",
    "#inds = ssr.obs_inds(pTh1, dat_point, latent_dist, obs_prim=True)\n",
    "#utils.trunk_states(dat_point)[2**(m-1)+inds[0].at[0].get()]"
   ]
  },
  {
   "cell_type": "code",
   "execution_count": null,
   "metadata": {},
   "outputs": [],
   "source": [
    "#jax_lik.log_prob_coupled(dat, theta, lam1, lam2)"
   ]
  },
  {
   "cell_type": "code",
   "execution_count": null,
   "metadata": {},
   "outputs": [],
   "source": [
    "#jax_lik.log_prob_single(dat, jnp.array(theta), lam1)"
   ]
  },
  {
   "cell_type": "code",
   "execution_count": null,
   "metadata": {},
   "outputs": [],
   "source": [
    "#jax_lik.grad_single(dat, jnp.array(theta), lam1)"
   ]
  },
  {
   "cell_type": "code",
   "execution_count": 11,
   "metadata": {},
   "outputs": [
    {
     "name": "stdout",
     "output_type": "stream",
     "text": [
      "[0 1 1 1 0 1 1]\n",
      "[1 1 1 1]\n",
      "['0010000' '0110000' '0011000' '0111000' '0010010' '0110010' '0011010'\n",
      " '0111010' '0010001' '0110001' '0011001' '0111001' '0010011' '0110011'\n",
      " '0011011' '0111011']\n",
      "2\n",
      "3\n",
      "2\n",
      "['0010000' '0110000' '0011000' '0111000' '0010010' '0110010' '0011010'\n",
      " '0111010' '0010001' '0110001' '0011001' '0111001' '0010011' '0110011'\n",
      " '0011011' '0111011']\n"
     ]
    }
   ],
   "source": [
    "state = jnp.array([0,1, 1,1, 0,1, 1]) #dat.at[2, 0:2*n+1].get()\n",
    "m = int(state.sum())\n",
    "latent_state = np.append(state.at[1:2*n:2].get(), state.at[-1].get())\n",
    "count = latent_state.sum()\n",
    "print(state)\n",
    "print(latent_state)\n",
    "latent_dist = jnp.zeros(2**count)\n",
    "p0 = jnp.zeros(2**m)\n",
    "p0 = p0.at[0].set(1.)\n",
    "pTh1 = jax_lik.R_i_inv_vec(log_theta = theta, x = p0, lam = lam1,  state = state, transpose = False)\n",
    "\n",
    "#jax_lik._grad_coupled(theta, lam1, lam2, state, p0, latent_dist, latent_state, True)\n",
    "inds = ssr.obs_inds(pTh1, state, latent_dist, obs_prim=True)\n",
    "print(utils.trunk_states(state)[inds])\n",
    "pTh1_obs = pTh1.at[inds].get()\n",
    "#print(pTh1_obs)\n",
    "#iwas = utils.ssr_obs_dist(pTh1, state, n, False)\n",
    "#print(iwas)\n",
    "#nk = pTh1_obs.sum()\n",
    "#q = jnp.zeros_like(p0)\n",
    "#pos = 2**(m-1) + inds.at[0].get()\n",
    "#q = q.at[pos].set(1/nk)\n",
    "#print(q)\n",
    "print(utils.ssr_obs_dist(utils.trunk_states(state), state, n, True))\n",
    "#print(pTh1_obs.shape)\n",
    "# Actual gradient\n",
    "#q = ssr.marg_transp(q, state, marg_met=False, marg_seeding=False)\n",
    "#print(q)\n",
    "#q = jax_lik.R_i_inv_vec(theta, q, lam1, state, transpose = True)\n",
    "#g_1 = jax_lik.x_partial_Q_y(theta, q, pTh1, state)\n",
    "#g_1"
   ]
  },
  {
   "cell_type": "code",
   "execution_count": 12,
   "metadata": {},
   "outputs": [
    {
     "name": "stdout",
     "output_type": "stream",
     "text": [
      "['0000000' '0100000' '0010000' '0110000' '0001000' '0101000' '0011000'\n",
      " '0111000' '0000010' '0100010' '0010010' '0110010' '0001010' '0101010'\n",
      " '0011010' '0111010' '0000001' '0100001' '0010001' '0110001' '0001001'\n",
      " '0101001' '0011001' '0111001' '0000011' '0100011' '0010011' '0110011'\n",
      " '0001011' '0101011' '0011011' '0111011']\n",
      "[  0.          0.          0.          0.          0.          0.\n",
      "   0.          0.          0.          0.          0.          0.\n",
      "   0.          0.          0.          0.          0.          0.\n",
      " 187.4078064 187.4078064   0.          0.        187.4078064 187.4078064\n",
      "   0.          0.        187.4078064 187.4078064   0.          0.\n",
      " 187.4078064 187.4078064]\n",
      "[  0.       0.       0.       0.       0.       0.       0.       0.\n",
      "   0.       0.       0.       0.       0.       0.       0.       0.\n",
      "   0.       0.     187.4078 187.4078   0.       0.     187.4078 187.4078\n",
      "   0.       0.     187.4078 187.4078   0.       0.     187.4078 187.4078]\n"
     ]
    }
   ],
   "source": [
    "mat11 = np.array([[1,0,1,0],[0,1,0,1]])\n",
    "mat10 = np.array([[1,1]])\n",
    "mat1 = np.array([[1,0], [0,1]])\n",
    "matC = np.kron(mat1, np.kron(mat10, np.kron(mat11, mat10)))\n",
    "B = matC @ pTh1\n",
    "#print(matC)\n",
    "print(utils.trunk_states(state))\n",
    "iwas = np.zeros_like(B)\n",
    "iwas[-1] = 1/B[-1]\n",
    "res1 = iwas.T @ matC\n",
    "print(res1)\n",
    "iwas2 = np.zeros_like(pTh1)\n",
    "iwas2[inds] = 1/B[-1]\n",
    "print(iwas2)"
   ]
  }
 ],
 "metadata": {
  "kernelspec": {
   "display_name": "Python 3",
   "language": "python",
   "name": "python3"
  },
  "language_info": {
   "codemirror_mode": {
    "name": "ipython",
    "version": 3
   },
   "file_extension": ".py",
   "mimetype": "text/x-python",
   "name": "python",
   "nbconvert_exporter": "python",
   "pygments_lexer": "ipython3",
   "version": "3.11.1"
  },
  "orig_nbformat": 4,
  "vscode": {
   "interpreter": {
    "hash": "aee8b7b246df8f9039afb4144a1f6fd8d2ca17a180786b69acc140d282b71a49"
   }
  }
 },
 "nbformat": 4,
 "nbformat_minor": 2
}
