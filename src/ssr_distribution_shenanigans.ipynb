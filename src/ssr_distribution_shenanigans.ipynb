{
 "cells": [
  {
   "cell_type": "code",
   "execution_count": 29,
   "metadata": {},
   "outputs": [],
   "source": [
    "import numpy as np\n",
    "import Utilityfunctions as utils\n",
    "import jax.numpy as jnp\n",
    "import ssr_kronvec_jax as ssr\n",
    "import ssr_likelihood_jax as jax_lik\n",
    "import vanilla as mhn\n",
    "import scipy.optimize as opt\n",
    "import regularized_optimization as reg_opt\n",
    "from jax import lax"
   ]
  },
  {
   "cell_type": "code",
   "execution_count": 32,
   "metadata": {},
   "outputs": [
    {
     "ename": "RuntimeError",
     "evalue": "Unknown backend: 'gpu' requested, but no platforms that are instances of gpu are present. Platforms present are: interpreter,cpu",
     "output_type": "error",
     "traceback": [
      "\u001b[0;31m---------------------------------------------------------------------------\u001b[0m",
      "\u001b[0;31mRuntimeError\u001b[0m                              Traceback (most recent call last)",
      "Cell \u001b[0;32mIn[32], line 12\u001b[0m\n\u001b[1;32m     10\u001b[0m indep \u001b[39m=\u001b[39m np\u001b[39m.\u001b[39meye(n\u001b[39m+\u001b[39m\u001b[39m1\u001b[39m)\n\u001b[1;32m     11\u001b[0m dat\n\u001b[0;32m---> 12\u001b[0m devices(\u001b[39m\"\u001b[39;49m\u001b[39mgpu\u001b[39;49m\u001b[39m\"\u001b[39;49m)\n",
      "File \u001b[0;32m/Library/Frameworks/Python.framework/Versions/3.11/lib/python3.11/site-packages/jax/_src/lib/xla_bridge.py:485\u001b[0m, in \u001b[0;36mdevices\u001b[0;34m(backend)\u001b[0m\n\u001b[1;32m    462\u001b[0m \u001b[39mdef\u001b[39;00m \u001b[39mdevices\u001b[39m(backend: Optional[Union[\u001b[39mstr\u001b[39m, XlaBackend]] \u001b[39m=\u001b[39m \u001b[39mNone\u001b[39;00m) \u001b[39m-\u001b[39m\u001b[39m>\u001b[39m List[xla_client\u001b[39m.\u001b[39mDevice]:\n\u001b[1;32m    463\u001b[0m \u001b[39m  \u001b[39m\u001b[39m\"\"\"Returns a list of all devices for a given backend.\u001b[39;00m\n\u001b[1;32m    464\u001b[0m \n\u001b[1;32m    465\u001b[0m \u001b[39m  .. currentmodule:: jaxlib.xla_extension\u001b[39;00m\n\u001b[0;32m   (...)\u001b[0m\n\u001b[1;32m    483\u001b[0m \u001b[39m    List of Device subclasses.\u001b[39;00m\n\u001b[1;32m    484\u001b[0m \u001b[39m  \"\"\"\u001b[39;00m\n\u001b[0;32m--> 485\u001b[0m   \u001b[39mreturn\u001b[39;00m get_backend(backend)\u001b[39m.\u001b[39mdevices()\n",
      "File \u001b[0;32m/Library/Frameworks/Python.framework/Versions/3.11/lib/python3.11/site-packages/jax/_src/lib/xla_bridge.py:427\u001b[0m, in \u001b[0;36mget_backend\u001b[0;34m(platform)\u001b[0m\n\u001b[1;32m    425\u001b[0m \u001b[39m@lru_cache\u001b[39m(maxsize\u001b[39m=\u001b[39m\u001b[39mNone\u001b[39;00m)  \u001b[39m# don't use util.memoize because there is no X64 dependence.\u001b[39;00m\n\u001b[1;32m    426\u001b[0m \u001b[39mdef\u001b[39;00m \u001b[39mget_backend\u001b[39m(platform\u001b[39m=\u001b[39m\u001b[39mNone\u001b[39;00m):\n\u001b[0;32m--> 427\u001b[0m   \u001b[39mreturn\u001b[39;00m _get_backend_uncached(platform)\n",
      "File \u001b[0;32m/Library/Frameworks/Python.framework/Versions/3.11/lib/python3.11/site-packages/jax/_src/lib/xla_bridge.py:413\u001b[0m, in \u001b[0;36m_get_backend_uncached\u001b[0;34m(platform)\u001b[0m\n\u001b[1;32m    411\u001b[0m bs \u001b[39m=\u001b[39m backends()\n\u001b[1;32m    412\u001b[0m \u001b[39mif\u001b[39;00m platform \u001b[39mis\u001b[39;00m \u001b[39mnot\u001b[39;00m \u001b[39mNone\u001b[39;00m:\n\u001b[0;32m--> 413\u001b[0m   platform \u001b[39m=\u001b[39m canonicalize_platform(platform)\n\u001b[1;32m    414\u001b[0m   backend \u001b[39m=\u001b[39m bs\u001b[39m.\u001b[39mget(platform, \u001b[39mNone\u001b[39;00m)\n\u001b[1;32m    415\u001b[0m   \u001b[39mif\u001b[39;00m backend \u001b[39mis\u001b[39;00m \u001b[39mNone\u001b[39;00m:\n",
      "File \u001b[0;32m/Library/Frameworks/Python.framework/Versions/3.11/lib/python3.11/site-packages/jax/_src/lib/xla_bridge.py:294\u001b[0m, in \u001b[0;36mcanonicalize_platform\u001b[0;34m(platform)\u001b[0m\n\u001b[1;32m    292\u001b[0m   \u001b[39mif\u001b[39;00m p \u001b[39min\u001b[39;00m b\u001b[39m.\u001b[39mkeys():\n\u001b[1;32m    293\u001b[0m     \u001b[39mreturn\u001b[39;00m p\n\u001b[0;32m--> 294\u001b[0m \u001b[39mraise\u001b[39;00m \u001b[39mRuntimeError\u001b[39;00m(\u001b[39mf\u001b[39m\u001b[39m\"\u001b[39m\u001b[39mUnknown backend: \u001b[39m\u001b[39m'\u001b[39m\u001b[39m{\u001b[39;00mplatform\u001b[39m}\u001b[39;00m\u001b[39m'\u001b[39m\u001b[39m requested, but no \u001b[39m\u001b[39m\"\u001b[39m\n\u001b[1;32m    295\u001b[0m                    \u001b[39mf\u001b[39m\u001b[39m\"\u001b[39m\u001b[39mplatforms that are instances of \u001b[39m\u001b[39m{\u001b[39;00mplatform\u001b[39m}\u001b[39;00m\u001b[39m are present. \u001b[39m\u001b[39m\"\u001b[39m\n\u001b[1;32m    296\u001b[0m                    \u001b[39m\"\u001b[39m\u001b[39mPlatforms present are: \u001b[39m\u001b[39m\"\u001b[39m \u001b[39m+\u001b[39m \u001b[39m\"\u001b[39m\u001b[39m,\u001b[39m\u001b[39m\"\u001b[39m\u001b[39m.\u001b[39mjoin(b\u001b[39m.\u001b[39mkeys()))\n",
      "\u001b[0;31mRuntimeError\u001b[0m: Unknown backend: 'gpu' requested, but no platforms that are instances of gpu are present. Platforms present are: interpreter,cpu"
     ]
    }
   ],
   "source": [
    "n = 3\n",
    "theta = utils.random_theta(n, 0.0)\n",
    "n_dat = 100\n",
    "dat = np.random.binomial(n=1, p=0.6, size=n_dat*(2*n+1))\n",
    "dat = jnp.array(dat).reshape((n_dat, -1))\n",
    "dat = dat.at[:,-1].set(1)\n",
    "dat = jnp.column_stack((dat, jnp.ones(n_dat, dtype=int)))\n",
    "lam1 = 1\n",
    "lam2 = 1\n",
    "indep = np.eye(n+1)\n",
    "dat"
   ]
  },
  {
   "cell_type": "code",
   "execution_count": 5,
   "metadata": {},
   "outputs": [
    {
     "data": {
      "text/plain": [
       "10.93000356387289"
      ]
     },
     "execution_count": 5,
     "metadata": {},
     "output_type": "execute_result"
    }
   ],
   "source": [
    "reg_opt.log_prob_coupled(theta.flatten(), dat, lam1, lam2, 1/n_dat)"
   ]
  },
  {
   "cell_type": "code",
   "execution_count": 7,
   "metadata": {},
   "outputs": [
    {
     "data": {
      "text/plain": [
       "7.137805144301969"
      ]
     },
     "execution_count": 7,
     "metadata": {},
     "output_type": "execute_result"
    }
   ],
   "source": [
    "reg_opt.log_prob_single(theta.flatten(), dat, lam1, 1/n_dat)"
   ]
  },
  {
   "cell_type": "code",
   "execution_count": 12,
   "metadata": {},
   "outputs": [
    {
     "data": {
      "text/plain": [
       "array([-0.43233454, -0.2602528 , -0.43233451, -0.2602528 , -0.2602528 ,\n",
       "       -0.43233454, -0.43233448, -0.2602528 ,  1.1115787 ,  1.1115787 ,\n",
       "        1.67924416,  1.1115787 , -0.2602528 , -0.2602528 , -0.43233454,\n",
       "       -0.43233454])"
      ]
     },
     "execution_count": 12,
     "metadata": {},
     "output_type": "execute_result"
    }
   ],
   "source": [
    "reg_opt.grad_single(indep.flatten(), dat, lam1, 1/n_dat)"
   ]
  },
  {
   "cell_type": "code",
   "execution_count": 16,
   "metadata": {},
   "outputs": [
    {
     "data": {
      "text/plain": [
       "array([-0.73117876, -0.2650083 , -0.12520823, -0.20061699,  1.15698612,\n",
       "        1.6136843 ,  1.26166034,  1.8741852 ,  0.5452804 ,  0.42692876,\n",
       "        0.93930984, -0.38747513, -0.30387503, -0.        , -0.        ,\n",
       "       -0.64272362])"
      ]
     },
     "execution_count": 16,
     "metadata": {},
     "output_type": "execute_result"
    }
   ],
   "source": [
    "reg_opt.grad_coupled(indep.flatten(), dat, lam1, lam2, 1/n_dat)"
   ]
  },
  {
   "cell_type": "code",
   "execution_count": 25,
   "metadata": {},
   "outputs": [
    {
     "name": "stdout",
     "output_type": "stream",
     "text": [
      "RUNNING THE L-BFGS-B CODE\n",
      "\n",
      "           * * *\n",
      "\n",
      "Machine precision = 2.220D-16\n",
      " N =           16     M =           10\n",
      "\n",
      "At X0         0 variables are exactly at the bounds\n",
      "\n",
      "At iterate    0    f=  5.77109D+00    |proj g|=  5.72380D-01\n"
     ]
    },
    {
     "name": "stderr",
     "output_type": "stream",
     "text": [
      " This problem is unconstrained.\n"
     ]
    },
    {
     "name": "stdout",
     "output_type": "stream",
     "text": [
      "\n",
      "At iterate    1    f=  4.79198D+00    |proj g|=  3.38989D-01\n",
      "\n",
      "At iterate    2    f=  4.28752D+00    |proj g|=  3.43350D-01\n",
      "\n",
      "At iterate    3    f=  4.21354D+00    |proj g|=  9.60998D-02\n",
      "\n",
      "At iterate    4    f=  4.21304D+00    |proj g|=  9.44135D-02\n",
      "\n",
      "At iterate    5    f=  4.20621D+00    |proj g|=  8.22661D-02\n",
      "\n",
      "At iterate    6    f=  4.19852D+00    |proj g|=  6.59161D-02\n",
      "\n",
      "At iterate    7    f=  4.19667D+00    |proj g|=  5.61267D-02\n",
      "\n",
      "At iterate    8    f=  4.19585D+00    |proj g|=  4.79756D-02\n",
      "\n",
      "At iterate    9    f=  4.19472D+00    |proj g|=  4.04960D-02\n",
      "\n",
      "At iterate   10    f=  4.19260D+00    |proj g|=  3.22166D-02\n",
      "\n",
      "At iterate   11    f=  4.18934D+00    |proj g|=  2.56019D-02\n",
      "\n",
      "At iterate   12    f=  4.18757D+00    |proj g|=  2.68060D-02\n",
      "\n",
      "At iterate   13    f=  4.18111D+00    |proj g|=  3.01651D-02\n",
      "\n",
      "At iterate   14    f=  4.18105D+00    |proj g|=  3.10246D-02\n",
      "\n",
      "At iterate   15    f=  4.17963D+00    |proj g|=  3.26050D-02\n",
      "\n",
      "At iterate   16    f=  4.16112D+00    |proj g|=  2.50918D-02\n",
      "\n",
      "At iterate   17    f=  4.16112D+00    |proj g|=  2.50918D-02\n",
      "\n",
      "           * * *\n",
      "\n",
      "Tit   = total number of iterations\n",
      "Tnf   = total number of function evaluations\n",
      "Tnint = total number of segments explored during Cauchy searches\n",
      "Skip  = number of BFGS updates skipped\n",
      "Nact  = number of active bounds at final generalized Cauchy point\n",
      "Projg = norm of the final projected gradient\n",
      "F     = final function value\n",
      "\n",
      "           * * *\n",
      "\n",
      "   N    Tit     Tnf  Tnint  Skip  Nact     Projg        F\n",
      "   16     17     56      1     0     0   2.509D-02   4.161D+00\n"
     ]
    },
    {
     "name": "stderr",
     "output_type": "stream",
     "text": [
      "\n",
      " Warning:  more than 10 function and gradient\n",
      "   evaluations in the last line search.  Termination\n",
      "   may possibly be caused by a bad search direction.\n"
     ]
    },
    {
     "name": "stdout",
     "output_type": "stream",
     "text": [
      "  F =   4.1611193847656249     \n",
      "\n",
      "CONVERGENCE: REL_REDUCTION_OF_F_<=_FACTR*EPSMCH             \n"
     ]
    }
   ],
   "source": [
    "x = opt.minimize(reg_opt.log_prob_coupled, x0 = indep.flatten(), args = (dat, lam1, lam2, 0.0), \n",
    "                method = \"L-BFGS-B\", jac = reg_opt.grad_coupled, options={\"maxiter\":100, \"disp\":True})"
   ]
  },
  {
   "cell_type": "code",
   "execution_count": null,
   "metadata": {},
   "outputs": [],
   "source": [
    "jnp.around(jnp.reshape(x.x, (n+1, n+1)),2)\n",
    "x.message"
   ]
  },
  {
   "cell_type": "code",
   "execution_count": null,
   "metadata": {},
   "outputs": [],
   "source": [
    "i = 0\n",
    "log_theta = jnp.array(theta)\n",
    "prim_first = bool(dat.at[i, -1].get())\n",
    "state = dat.at[i, 0:2*n+1].get()\n",
    "if prim_first:\n",
    "    latent_state_1 = jnp.append(state.at[1:2*n+1:2].get(), state.at[-1].get())\n",
    "else:    \n",
    "    latent_state_1 = state.at[i, 0:2*n+1:2].get()\n",
    "\n",
    "# Calculate Joint dist at t1\n",
    "p0 = jnp.zeros(2**int(state.sum()))\n",
    "p0 = p0.at[0].set(1.0)\n",
    "pTh1 = lam1 * jax_lik.R_i_inv_vec(log_theta, p0, lam1,  state, transpose = False)\n",
    "\n",
    "# Get indices of latent_states at t1/t2\n",
    "latent_dist_1 = ssr.obs_inds_2(pTh1, state, prim_first)\n",
    "latent_dist_2 = ssr.obs_inds_2(pTh1, state, not prim_first)\n",
    "latent_dist_2 = latent_dist_2.at[0:latent_dist_2.shape[0]//2].set(0)\n",
    "latent_size = int(latent_dist_1.sum())\n",
    "\n",
    "# Get observed dist at t1\n",
    "pTh1_obs = pTh1.at[jnp.where(latent_dist_1==1, size=latent_size)[0]].get()\n",
    "nk = pTh1_obs.sum()\n",
    "pTh1_obs /= nk\n",
    "pTh2 = mhn.R_inv_vec(log_theta, pTh1_obs, lam2, latent_state_1, False)\n",
    "q = jnp.zeros_like(pTh2)\n",
    "q = q.at[-1].set(1/pTh2.at[-1].get())\n",
    "mhn.R_inv_vec(log_theta, q, lam2, latent_state_1, True)\n",
    "marg = utils.ssr_marginalize(pTh1, n, state, True, False)\n",
    "iwas = jnp.zeros_like(marg)\n",
    "iwas = iwas.at[-1].set(1/marg[-1])\n",
    "#print(marg)\n",
    "print(utils.ssr_marginalize_mat_vec_transp(iwas, n, state, True, False))\n",
    "#print(utils.ssr_obs_dist(pTh1, state, n, True))\n",
    "obs = utils.ssr_obs_dist_mat_vec(pTh1, state, n, True)\n",
    "#print(obs)\n",
    "utils.ssr_obs_dist_mat_vec_transp(pTh1_obs, state, n, True)\n",
    "jnp.where(latent_dist_1 ==1, pTh1/nk, 0)"
   ]
  },
  {
   "cell_type": "code",
   "execution_count": null,
   "metadata": {},
   "outputs": [],
   "source": [
    "np.arange(0,8).reshape((-1,1), order=\"F\")"
   ]
  }
 ],
 "metadata": {
  "kernelspec": {
   "display_name": "Python 3",
   "language": "python",
   "name": "python3"
  },
  "language_info": {
   "codemirror_mode": {
    "name": "ipython",
    "version": 3
   },
   "file_extension": ".py",
   "mimetype": "text/x-python",
   "name": "python",
   "nbconvert_exporter": "python",
   "pygments_lexer": "ipython3",
   "version": "3.11.1"
  },
  "orig_nbformat": 4,
  "vscode": {
   "interpreter": {
    "hash": "aee8b7b246df8f9039afb4144a1f6fd8d2ca17a180786b69acc140d282b71a49"
   }
  }
 },
 "nbformat": 4,
 "nbformat_minor": 2
}
