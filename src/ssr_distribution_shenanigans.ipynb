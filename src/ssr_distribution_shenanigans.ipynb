{
 "cells": [
  {
   "cell_type": "code",
   "execution_count": 31,
   "metadata": {},
   "outputs": [],
   "source": [
    "import numpy as np\n",
    "import Utilityfunctions as utils\n",
    "import jax.numpy as jnp\n",
    "from jax import lax\n",
    "import ssr_kronvec_jax as ssr\n",
    "import ssr_likelihood_jax as lik"
   ]
  },
  {
   "cell_type": "code",
   "execution_count": 10,
   "metadata": {},
   "outputs": [],
   "source": [
    "n = 4\n",
    "theta = utils.random_theta(n, 0.0)\n",
    "dat_point = jnp.array([1, 1, 0, 1,  1, 1, 1])\n",
    "m = int(jnp.sum(dat_point))\n",
    "p0 = np.zeros(2**m)\n",
    "p0[0] = 1\n",
    "lam1 = 1\n",
    "pTh = lik.R_i_inv_vec(theta, p0, lam1, dat_point, m)"
   ]
  },
  {
   "cell_type": "code",
   "execution_count": 23,
   "metadata": {},
   "outputs": [
    {
     "name": "stdout",
     "output_type": "stream",
     "text": [
      "['0000000' '1000000' '0100000' '1100000' '0001000' '1001000' '0101000'\n",
      " '1101000' '0000100' '1000100' '0100100' '1100100' '0001100' '1001100'\n",
      " '0101100' '1101100' '0000010' '1000010' '0100010' '1100010' '0001010'\n",
      " '1001010' '0101010' '1101010' '0000110' '1000110' '0100110' '1100110'\n",
      " '0001110' '1001110' '0101110' '1101110' '0000001' '1000001' '0100001'\n",
      " '1100001' '0001001' '1001001' '0101001' '1101001' '0000101' '1000101'\n",
      " '0100101' '1100101' '0001101' '1001101' '0101101' '1101101' '0000011'\n",
      " '1000011' '0100011' '1100011' '0001011' '1001011' '0101011' '1101011'\n",
      " '0000111' '1000111' '0100111' '1100111' '0001111' '1001111' '0101111'\n",
      " '1101111']\n"
     ]
    }
   ],
   "source": [
    "trunk_states = utils.trunk_states(dat_point)\n",
    "print(trunk_states)"
   ]
  },
  {
   "cell_type": "code",
   "execution_count": 19,
   "metadata": {},
   "outputs": [
    {
     "data": {
      "text/plain": [
       "Array([2.7939549e-01, 6.8804063e-02, 2.1775595e-03, 2.0806753e-04,\n",
       "       1.3364795e-04, 7.4082813e-03, 2.0570628e-02, 2.8251815e-01,\n",
       "       1.6113771e-01, 4.2922599e-03, 9.0627465e-03, 1.8481950e-03,\n",
       "       1.7753037e-03, 3.9978998e-04, 2.3895381e-04, 4.3255249e-01],      dtype=float32)"
      ]
     },
     "execution_count": 19,
     "metadata": {},
     "output_type": "execute_result"
    }
   ],
   "source": [
    "# count number of mutated metastasis bits\n",
    "count = int(jnp.sum(dat_point[1:2*n:2]))+1\n",
    "# Calculate P(Prim)\n",
    "ssr.marginalize(pTh, 2, dat_point, size_marg=2**count, marg_met=False, marg_seeding=False)"
   ]
  },
  {
   "cell_type": "code",
   "execution_count": 32,
   "metadata": {},
   "outputs": [
    {
     "name": "stdout",
     "output_type": "stream",
     "text": [
      "[1. 1. 1. 1. 1. 1. 1. 1.]\n",
      "3\n",
      "2\n",
      "3\n",
      "3\n",
      "[0.00150336 0.00906275 0.00172907 0.00157522 0.00039979 0.\n",
      " 0.2734634  0.07087968]\n"
     ]
    }
   ],
   "source": [
    "\n",
    "print(ssr.obs_dist(jnp.ones_like(pTh), dat_point, n, latent_size = 2**3, obs_prim = True))\n",
    "print(utils.ssr_obs_dist(pTh, dat_point, n, True))"
   ]
  },
  {
   "cell_type": "code",
   "execution_count": 25,
   "metadata": {},
   "outputs": [
    {
     "name": "stdout",
     "output_type": "stream",
     "text": [
      "3\n",
      "2\n",
      "3\n",
      "3\n",
      "['1000101' '1000111' '1100101' '1100111' '1001101' '1001111' '1101101'\n",
      " '1101111']\n",
      "[2.7939549e-01 0.0000000e+00 0.0000000e+00 0.0000000e+00 0.0000000e+00\n",
      " 0.0000000e+00 7.4082813e-03 0.0000000e+00 0.0000000e+00 0.0000000e+00\n",
      " 0.0000000e+00 0.0000000e+00 0.0000000e+00 0.0000000e+00 0.0000000e+00\n",
      " 0.0000000e+00 0.0000000e+00 0.0000000e+00 0.0000000e+00 0.0000000e+00\n",
      " 0.0000000e+00 0.0000000e+00 0.0000000e+00 0.0000000e+00 1.6113771e-01\n",
      " 0.0000000e+00 0.0000000e+00 0.0000000e+00 0.0000000e+00 0.0000000e+00\n",
      " 4.3255249e-01 0.0000000e+00 6.8804063e-02 0.0000000e+00 0.0000000e+00\n",
      " 2.0806753e-04 0.0000000e+00 1.3364795e-04 2.0570628e-02 0.0000000e+00\n",
      " 2.7889004e-03 1.5033593e-03 1.1912478e-04 1.7290702e-03 0.0000000e+00\n",
      " 3.9978998e-04 3.1153838e-06 2.7346340e-01 0.0000000e+00 2.1775595e-03\n",
      " 0.0000000e+00 0.0000000e+00 0.0000000e+00 0.0000000e+00 0.0000000e+00\n",
      " 2.8251815e-01 0.0000000e+00 9.0627465e-03 2.0008457e-04 1.5752192e-03\n",
      " 2.3895381e-04 0.0000000e+00 1.3171071e-03 7.0879683e-02]\n"
     ]
    }
   ],
   "source": [
    "print(utils.ssr_obs_dist(trunk_states, dat_point, n, True))\n",
    "print(pTh)"
   ]
  }
 ],
 "metadata": {
  "kernelspec": {
   "display_name": "Python 3",
   "language": "python",
   "name": "python3"
  },
  "language_info": {
   "codemirror_mode": {
    "name": "ipython",
    "version": 3
   },
   "file_extension": ".py",
   "mimetype": "text/x-python",
   "name": "python",
   "nbconvert_exporter": "python",
   "pygments_lexer": "ipython3",
   "version": "3.11.1"
  },
  "orig_nbformat": 4,
  "vscode": {
   "interpreter": {
    "hash": "aee8b7b246df8f9039afb4144a1f6fd8d2ca17a180786b69acc140d282b71a49"
   }
  }
 },
 "nbformat": 4,
 "nbformat_minor": 2
}
