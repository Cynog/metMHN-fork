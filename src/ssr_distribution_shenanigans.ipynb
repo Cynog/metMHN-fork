{
 "cells": [
  {
   "cell_type": "code",
   "execution_count": 1,
   "metadata": {},
   "outputs": [],
   "source": [
    "import numpy as np\n",
    "import Utilityfunctions as utils\n",
    "import jax.numpy as jnp\n",
    "import ssr_kronvec_jax as ssr\n",
    "import ssr_likelihood_jax as jax_lik\n",
    "import ssr_likelihood as pyt"
   ]
  },
  {
   "cell_type": "code",
   "execution_count": 2,
   "metadata": {},
   "outputs": [],
   "source": [
    "n = 3\n",
    "theta = utils.random_theta(n, 0.0)\n",
    "n_dat = 100\n",
    "dat = np.random.binomial(n=1, p=0.6, size=n_dat*(2*n+1))\n",
    "dat = jnp.array(dat).reshape((n_dat, -1))\n",
    "dat = dat.at[:,-1].set(1)\n",
    "dat = jnp.column_stack((dat, jnp.ones(n_dat, dtype=int)))\n",
    "lam1 = 0.5\n",
    "lam2 = 1.5"
   ]
  },
  {
   "cell_type": "code",
   "execution_count": null,
   "metadata": {},
   "outputs": [],
   "source": [
    "dat_point = dat.at[0,0:2*n+1].get()\n",
    "m = dat_point.sum()\n",
    "p0 = np.zeros(2**m)\n",
    "p0[0] = 1\n",
    "pTh1 = jax_lik.R_i_inv_vec(log_theta = theta, x = p0, lam = lam1,  state = dat_point, transpose = False)"
   ]
  },
  {
   "cell_type": "code",
   "execution_count": null,
   "metadata": {},
   "outputs": [],
   "source": [
    "dat_point = jnp.array([1,1,0,0,1,1,1], dtype = int)\n",
    "m = dat_point.sum()\n",
    "p0 = np.zeros(2**m)\n",
    "p0[0] = 1\n",
    "pTh1 = jax_lik.R_i_inv_vec(log_theta = theta, x = p0, lam = lam1,  state = dat_point, transpose = False)\n",
    "count = dat_point[1:2*n:2].sum()\n",
    "latent_dist = jnp.zeros(2**(count))\n",
    "print(utils.ssr_obs_dist(pTh1, dat_point, n, obs_prim=True))\n",
    "inds = ssr.obs_inds(pTh1, dat_point, latent_dist, obs_prim=True)\n",
    "utils.trunk_states(dat_point)[2**(m-1)+inds[0].at[0].get()]"
   ]
  },
  {
   "cell_type": "code",
   "execution_count": null,
   "metadata": {},
   "outputs": [],
   "source": [
    "jax_lik.log_prob_coupled(dat, theta, lam1, lam2)"
   ]
  },
  {
   "cell_type": "code",
   "execution_count": null,
   "metadata": {},
   "outputs": [],
   "source": [
    "jax_lik.log_prob_single(dat, jnp.array(theta), lam1)"
   ]
  },
  {
   "cell_type": "code",
   "execution_count": null,
   "metadata": {},
   "outputs": [],
   "source": [
    "jax_lik.grad_single(dat, jnp.array(theta), lam1)"
   ]
  },
  {
   "cell_type": "code",
   "execution_count": 7,
   "metadata": {},
   "outputs": [
    {
     "name": "stdout",
     "output_type": "stream",
     "text": [
      "[1 1 1 1 1 1 1]\n",
      "[1 1 1]\n",
      "['0101010' '1101010' '0111010' '1111010' '0101110' '1101110' '0111110'\n",
      " '1111110' '0101011' '1101011' '0111011' '1111011' '0101111' '1101111'\n",
      " '0111111' '1111111']\n",
      "[0.00000000e+00 0.00000000e+00 0.00000000e+00 0.00000000e+00\n",
      " 0.00000000e+00 0.00000000e+00 0.00000000e+00 5.78057840e-02\n",
      " 6.75252086e-05 7.78667090e-05 2.11256520e-05 2.29074758e-05\n",
      " 2.96817650e-03 2.62657195e-01 1.62437104e-03 1.23637825e-01]\n",
      "0101011\n",
      "[0. 0. 0. 0. 0. 0. 0. 0. 0. 0. 0. 0. 0. 0. 0. 0. 0. 0. 0. 0. 0. 0. 0. 0.\n",
      " 0. 0. 0. 0. 0. 0. 0. 0. 0. 0. 0. 0. 0. 0. 0. 0. 0. 0. 0. 0. 0. 0. 0. 0.\n",
      " 0. 0. 0. 0. 0. 0. 0. 0. 0. 0. 0. 0. 0. 0. 0. 0. 0. 0. 0. 0. 0. 0. 0. 0.\n",
      " 0. 0. 0. 0. 0. 0. 0. 0. 0. 0. 0. 0. 0. 0. 0. 0. 0. 0. 0. 0. 0. 0. 0. 0.\n",
      " 0. 0. 0. 0. 0. 0. 0. 0. 0. 0. 0. 0. 0. 0. 0. 0. 0. 0. 0. 0. 0. 0. 0. 0.\n",
      " 0. 0. 0. 0. 0. 0. 0. 0.]\n"
     ]
    },
    {
     "data": {
      "text/plain": [
       "Array([[0., 0., 0., 0.],\n",
       "       [0., 0., 0., 0.],\n",
       "       [0., 0., 0., 0.],\n",
       "       [0., 0., 0., 0.]], dtype=float32)"
      ]
     },
     "execution_count": 7,
     "metadata": {},
     "output_type": "execute_result"
    }
   ],
   "source": [
    "state = jnp.ones(7, dtype=int)#dat.at[2, 0:2*n+1].get()\n",
    "m = state.sum()\n",
    "count = state.at[0:2*n+1:2].get().sum()\n",
    "latent_state = state.at[0:2*n:2].get()#jnp.append(state.at[1:2*n:2].get(), 1) \n",
    "print(state)\n",
    "print(latent_state)\n",
    "latent_dist = jnp.zeros(2**(count))\n",
    "p0 = jnp.zeros(2**int(state.sum()))\n",
    "p0 = p0.at[0].set(1.)\n",
    "pTh1 = jax_lik.R_i_inv_vec(log_theta = theta, x = p0, lam = lam1,  state = state, transpose = False)\n",
    "\n",
    "#jax_lik._grad_coupled(theta, lam1, lam2, state, p0, latent_dist, latent_state, True)\n",
    "inds = ssr.obs_inds(pTh1, state, latent_dist, obs_prim=False)\n",
    "pTh1_obs = pTh1.at[inds].get()\n",
    "nk = pTh1_obs.sum()\n",
    "q = jnp.zeros_like(p0)\n",
    "print(utils.trunk_states(state)[inds])\n",
    "print(pTh1_obs)\n",
    "pos = 2**(m-1) + inds.at[0].get()\n",
    "q = q.at[pos].set(1/nk)\n",
    "#print(q)\n",
    "print(utils.trunk_states(state)[pos])\n",
    "# Actual gradient\n",
    "q = ssr.marg_transp(q, state, marg_met=False, marg_seeding=False)\n",
    "print(q)\n",
    "q = jax_lik.R_i_inv_vec(theta, q, lam1, state, transpose = True)\n",
    "g_1 = jax_lik.x_partial_Q_y(theta, q, pTh1, state)\n",
    "g_1"
   ]
  },
  {
   "cell_type": "code",
   "execution_count": null,
   "metadata": {},
   "outputs": [],
   "source": [
    "theta"
   ]
  }
 ],
 "metadata": {
  "kernelspec": {
   "display_name": "Python 3",
   "language": "python",
   "name": "python3"
  },
  "language_info": {
   "codemirror_mode": {
    "name": "ipython",
    "version": 3
   },
   "file_extension": ".py",
   "mimetype": "text/x-python",
   "name": "python",
   "nbconvert_exporter": "python",
   "pygments_lexer": "ipython3",
   "version": "3.11.1"
  },
  "orig_nbformat": 4,
  "vscode": {
   "interpreter": {
    "hash": "aee8b7b246df8f9039afb4144a1f6fd8d2ca17a180786b69acc140d282b71a49"
   }
  }
 },
 "nbformat": 4,
 "nbformat_minor": 2
}
