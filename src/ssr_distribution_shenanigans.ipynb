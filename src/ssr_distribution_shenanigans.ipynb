{
 "cells": [
  {
   "cell_type": "code",
   "execution_count": 5,
   "metadata": {},
   "outputs": [],
   "source": [
    "import numpy as np\n",
    "import Utilityfunctions as utils\n",
    "import jax.numpy as jnp\n",
    "import jax.lax as lax\n",
    "import ssr_kronvec_jax as ssr\n",
    "import ssr_likelihood_jax as jax_lik\n",
    "import ssr_likelihood as pyt\n",
    "import vanilla as mhn"
   ]
  },
  {
   "cell_type": "code",
   "execution_count": 2,
   "metadata": {},
   "outputs": [],
   "source": [
    "n = 3\n",
    "theta = utils.random_theta(n, 0.0)\n",
    "n_dat = 100\n",
    "dat = np.random.binomial(n=1, p=0.6, size=n_dat*(2*n+1))\n",
    "dat = jnp.array(dat).reshape((n_dat, -1))\n",
    "dat = dat.at[:,-1].set(1)\n",
    "dat = jnp.column_stack((dat, jnp.ones(n_dat, dtype=int)))\n",
    "lam1 = 0.5\n",
    "lam2 = 1.5"
   ]
  },
  {
   "cell_type": "code",
   "execution_count": 3,
   "metadata": {},
   "outputs": [],
   "source": [
    "#dat_point = dat.at[0,0:2*n+1].get()\n",
    "#m = dat_point.sum()\n",
    "#p0 = np.zeros(2**m)\n",
    "#p0[0] = 1\n",
    "#pTh1 = jax_lik.R_i_inv_vec(log_theta = theta, x = p0, lam = lam1,  state = dat_point, transpose = False)"
   ]
  },
  {
   "cell_type": "code",
   "execution_count": null,
   "metadata": {},
   "outputs": [],
   "source": [
    "#dat_point = jnp.array([1,1,0,0,1,1,1], dtype = int)\n",
    "#m = dat_point.sum()\n",
    "#p0 = np.zeros(2**m)\n",
    "#p0[0] = 1\n",
    "#pTh1 = jax_lik.R_i_inv_vec(log_theta = theta, x = p0, lam = lam1,  state = dat_point, transpose = False)\n",
    "#count = dat_point[1:2*n:2].sum()\n",
    "#latent_dist = jnp.zeros(2**(count))\n",
    "#print(utils.ssr_obs_dist(pTh1, dat_point, n, obs_prim=True))\n",
    "#inds = ssr.obs_inds(pTh1, dat_point, latent_dist, obs_prim=True)\n",
    "#utils.trunk_states(dat_point)[2**(m-1)+inds[0].at[0].get()]"
   ]
  },
  {
   "cell_type": "code",
   "execution_count": null,
   "metadata": {},
   "outputs": [],
   "source": [
    "#jax_lik.log_prob_coupled(dat, theta, lam1, lam2)"
   ]
  },
  {
   "cell_type": "code",
   "execution_count": null,
   "metadata": {},
   "outputs": [],
   "source": [
    "#jax_lik.log_prob_single(dat, jnp.array(theta), lam1)"
   ]
  },
  {
   "cell_type": "code",
   "execution_count": null,
   "metadata": {},
   "outputs": [],
   "source": [
    "#jax_lik.grad_single(dat, jnp.array(theta), lam1)"
   ]
  },
  {
   "cell_type": "code",
   "execution_count": 4,
   "metadata": {},
   "outputs": [
    {
     "name": "stdout",
     "output_type": "stream",
     "text": [
      "[1 0 1 0 0 1 1]\n",
      "[0 0 1 1]\n"
     ]
    },
    {
     "ename": "ValueError",
     "evalue": "Incompatible shapes for broadcasting: (16,) and requested shape (4,)",
     "output_type": "error",
     "traceback": [
      "\u001b[0;31m---------------------------------------------------------------------------\u001b[0m",
      "\u001b[0;31mValueError\u001b[0m                                Traceback (most recent call last)",
      "Cell \u001b[0;32mIn[4], line 12\u001b[0m\n\u001b[1;32m      9\u001b[0m p0 \u001b[39m=\u001b[39m p0\u001b[39m.\u001b[39mat[\u001b[39m0\u001b[39m]\u001b[39m.\u001b[39mset(\u001b[39m1.\u001b[39m)\n\u001b[1;32m     10\u001b[0m pTh1 \u001b[39m=\u001b[39m jax_lik\u001b[39m.\u001b[39mR_i_inv_vec(log_theta \u001b[39m=\u001b[39m theta, x \u001b[39m=\u001b[39m p0, lam \u001b[39m=\u001b[39m lam1,  state \u001b[39m=\u001b[39m state, transpose \u001b[39m=\u001b[39m \u001b[39mFalse\u001b[39;00m)\n\u001b[0;32m---> 12\u001b[0m jax_lik\u001b[39m.\u001b[39;49m_grad_coupled(theta, lam1, lam2, state, p0, latent_dist, latent_state, \u001b[39mTrue\u001b[39;49;00m)\n\u001b[1;32m     13\u001b[0m \u001b[39m#inds = ssr.obs_inds(pTh1, state, latent_dist, obs_prim=True)\u001b[39;00m\n\u001b[1;32m     14\u001b[0m \u001b[39m#print(utils.trunk_states(state)[inds])\u001b[39;00m\n\u001b[1;32m     15\u001b[0m \u001b[39m#pTh1_obs = pTh1.at[inds].get()\u001b[39;00m\n\u001b[0;32m   (...)\u001b[0m\n\u001b[1;32m     30\u001b[0m \u001b[39m#g_1 = jax_lik.x_partial_Q_y(theta, q, pTh1, state)\u001b[39;00m\n\u001b[1;32m     31\u001b[0m \u001b[39m#g_1\u001b[39;00m\n",
      "    \u001b[0;31m[... skipping hidden 12 frame]\u001b[0m\n",
      "File \u001b[0;32m~/Projects/MetaMHN/src/ssr_likelihood_jax.py:420\u001b[0m, in \u001b[0;36m_grad_coupled\u001b[0;34m(log_theta, lam1, lam2, state, p0, latent_dist, latent_state, prim_first)\u001b[0m\n\u001b[1;32m    418\u001b[0m q_2 \u001b[39m=\u001b[39m mhn\u001b[39m.\u001b[39mR_inv_vec(log_theta, q_2, lam2,  latent_state, \u001b[39mTrue\u001b[39;00m)\n\u001b[1;32m    419\u001b[0m q \u001b[39m*\u001b[39m\u001b[39m=\u001b[39m \u001b[39m0.0\u001b[39m\n\u001b[0;32m--> 420\u001b[0m q \u001b[39m=\u001b[39m q\u001b[39m.\u001b[39;49mat[inds_o]\u001b[39m.\u001b[39;49mset(q_2)\n\u001b[1;32m    421\u001b[0m g_3 \u001b[39m=\u001b[39m x_partial_Q_y(log_theta, q, pTh1_obs, state)\n\u001b[1;32m    422\u001b[0m g_3 \u001b[39m/\u001b[39m\u001b[39m=\u001b[39m nk\n",
      "File \u001b[0;32m/Library/Frameworks/Python.framework/Versions/3.11/lib/python3.11/site-packages/jax/_src/numpy/lax_numpy.py:5236\u001b[0m, in \u001b[0;36m_IndexUpdateRef.set\u001b[0;34m(self, values, indices_are_sorted, unique_indices, mode)\u001b[0m\n\u001b[1;32m   5227\u001b[0m \u001b[39mdef\u001b[39;00m \u001b[39mset\u001b[39m(\u001b[39mself\u001b[39m, values, indices_are_sorted\u001b[39m=\u001b[39m\u001b[39mFalse\u001b[39;00m, unique_indices\u001b[39m=\u001b[39m\u001b[39mFalse\u001b[39;00m,\n\u001b[1;32m   5228\u001b[0m         mode\u001b[39m=\u001b[39m\u001b[39mNone\u001b[39;00m):\n\u001b[1;32m   5229\u001b[0m \u001b[39m  \u001b[39m\u001b[39m\"\"\"Pure equivalent of ``x[idx] = y``.\u001b[39;00m\n\u001b[1;32m   5230\u001b[0m \n\u001b[1;32m   5231\u001b[0m \u001b[39m  Returns the value of ``x`` that would result from the NumPy-style\u001b[39;00m\n\u001b[0;32m   (...)\u001b[0m\n\u001b[1;32m   5234\u001b[0m \u001b[39m  See :mod:`jax.ops` for details.\u001b[39;00m\n\u001b[1;32m   5235\u001b[0m \u001b[39m  \"\"\"\u001b[39;00m\n\u001b[0;32m-> 5236\u001b[0m   \u001b[39mreturn\u001b[39;00m scatter\u001b[39m.\u001b[39;49m_scatter_update(\u001b[39mself\u001b[39;49m\u001b[39m.\u001b[39;49marray, \u001b[39mself\u001b[39;49m\u001b[39m.\u001b[39;49mindex, values, lax\u001b[39m.\u001b[39;49mscatter,\n\u001b[1;32m   5237\u001b[0m                                  indices_are_sorted\u001b[39m=\u001b[39;49mindices_are_sorted,\n\u001b[1;32m   5238\u001b[0m                                  unique_indices\u001b[39m=\u001b[39;49munique_indices, mode\u001b[39m=\u001b[39;49mmode)\n",
      "File \u001b[0;32m/Library/Frameworks/Python.framework/Versions/3.11/lib/python3.11/site-packages/jax/_src/ops/scatter.py:71\u001b[0m, in \u001b[0;36m_scatter_update\u001b[0;34m(x, idx, y, scatter_op, indices_are_sorted, unique_indices, mode, normalize_indices)\u001b[0m\n\u001b[1;32m     68\u001b[0m \u001b[39m# XLA gathers and scatters are very similar in structure; the scatter logic\u001b[39;00m\n\u001b[1;32m     69\u001b[0m \u001b[39m# is more or less a transpose of the gather equivalent.\u001b[39;00m\n\u001b[1;32m     70\u001b[0m treedef, static_idx, dynamic_idx \u001b[39m=\u001b[39m jnp\u001b[39m.\u001b[39m_split_index_for_jit(idx, x\u001b[39m.\u001b[39mshape)\n\u001b[0;32m---> 71\u001b[0m \u001b[39mreturn\u001b[39;00m _scatter_impl(x, y, scatter_op, treedef, static_idx, dynamic_idx,\n\u001b[1;32m     72\u001b[0m                      indices_are_sorted, unique_indices, mode,\n\u001b[1;32m     73\u001b[0m                      normalize_indices)\n",
      "File \u001b[0;32m/Library/Frameworks/Python.framework/Versions/3.11/lib/python3.11/site-packages/jax/_src/ops/scatter.py:104\u001b[0m, in \u001b[0;36m_scatter_impl\u001b[0;34m(x, y, scatter_op, treedef, static_idx, dynamic_idx, indices_are_sorted, unique_indices, mode, normalize_indices)\u001b[0m\n\u001b[1;32m    101\u001b[0m x, y \u001b[39m=\u001b[39m jnp\u001b[39m.\u001b[39m_promote_dtypes(x, y)\n\u001b[1;32m    103\u001b[0m \u001b[39m# Broadcast `y` to the slice output shape.\u001b[39;00m\n\u001b[0;32m--> 104\u001b[0m y \u001b[39m=\u001b[39m jnp\u001b[39m.\u001b[39;49mbroadcast_to(y, \u001b[39mtuple\u001b[39;49m(indexer\u001b[39m.\u001b[39;49mslice_shape))\n\u001b[1;32m    105\u001b[0m \u001b[39m# Collapse any `None`/`jnp.newaxis` dimensions.\u001b[39;00m\n\u001b[1;32m    106\u001b[0m y \u001b[39m=\u001b[39m jnp\u001b[39m.\u001b[39msqueeze(y, axis\u001b[39m=\u001b[39mindexer\u001b[39m.\u001b[39mnewaxis_dims)\n",
      "File \u001b[0;32m/Library/Frameworks/Python.framework/Versions/3.11/lib/python3.11/site-packages/jax/_src/numpy/lax_numpy.py:1166\u001b[0m, in \u001b[0;36mbroadcast_to\u001b[0;34m(array, shape)\u001b[0m\n\u001b[1;32m   1162\u001b[0m \u001b[39m@_wraps\u001b[39m(np\u001b[39m.\u001b[39mbroadcast_to, lax_description\u001b[39m=\u001b[39m\u001b[39m\"\"\"\u001b[39m\u001b[39m\\\u001b[39;00m\n\u001b[1;32m   1163\u001b[0m \u001b[39mThe JAX version does not necessarily return a view of the input.\u001b[39m\n\u001b[1;32m   1164\u001b[0m \u001b[39m\"\"\"\u001b[39m)\n\u001b[1;32m   1165\u001b[0m \u001b[39mdef\u001b[39;00m \u001b[39mbroadcast_to\u001b[39m(array: ArrayLike, shape: Shape) \u001b[39m-\u001b[39m\u001b[39m>\u001b[39m Array:\n\u001b[0;32m-> 1166\u001b[0m   \u001b[39mreturn\u001b[39;00m _broadcast_to(array, shape)\n",
      "File \u001b[0;32m/Library/Frameworks/Python.framework/Versions/3.11/lib/python3.11/site-packages/jax/_src/numpy/util.py:411\u001b[0m, in \u001b[0;36m_broadcast_to\u001b[0;34m(arr, shape)\u001b[0m\n\u001b[1;32m    409\u001b[0m \u001b[39mif\u001b[39;00m nlead \u001b[39m<\u001b[39m \u001b[39m0\u001b[39m \u001b[39mor\u001b[39;00m \u001b[39mnot\u001b[39;00m compatible:\n\u001b[1;32m    410\u001b[0m   msg \u001b[39m=\u001b[39m \u001b[39m\"\u001b[39m\u001b[39mIncompatible shapes for broadcasting: \u001b[39m\u001b[39m{}\u001b[39;00m\u001b[39m and requested shape \u001b[39m\u001b[39m{}\u001b[39;00m\u001b[39m\"\u001b[39m\n\u001b[0;32m--> 411\u001b[0m   \u001b[39mraise\u001b[39;00m \u001b[39mValueError\u001b[39;00m(msg\u001b[39m.\u001b[39mformat(arr_shape, shape))\n\u001b[1;32m    412\u001b[0m diff, \u001b[39m=\u001b[39m np\u001b[39m.\u001b[39mwhere(\u001b[39mtuple\u001b[39m(\u001b[39mnot\u001b[39;00m core\u001b[39m.\u001b[39msymbolic_equal_dim(arr_d, shape_d)\n\u001b[1;32m    413\u001b[0m                        \u001b[39mfor\u001b[39;00m arr_d, shape_d \u001b[39min\u001b[39;00m safe_zip(arr_shape, shape_tail)))\n\u001b[1;32m    414\u001b[0m new_dims \u001b[39m=\u001b[39m \u001b[39mtuple\u001b[39m(\u001b[39mrange\u001b[39m(nlead)) \u001b[39m+\u001b[39m \u001b[39mtuple\u001b[39m(nlead \u001b[39m+\u001b[39m diff)\n",
      "\u001b[0;31mValueError\u001b[0m: Incompatible shapes for broadcasting: (16,) and requested shape (4,)"
     ]
    }
   ],
   "source": [
    "state = jnp.array([1,0, 1,0, 0,1, 1]) #dat.at[2, 0:2*n+1].get()\n",
    "m = int(state.sum())\n",
    "latent_state = np.append(state.at[1:2*n:2].get(), state.at[-1].get())\n",
    "count = latent_state.sum()\n",
    "print(state)\n",
    "print(latent_state)\n",
    "\n",
    "latent_dist = jnp.zeros(2**count)\n",
    "p0 = jnp.zeros(2**m)\n",
    "p0 = p0.at[0].set(1.)\n",
    "pTh1 = jax_lik.R_i_inv_vec(log_theta = theta, x = p0, lam = lam1,  state = state, transpose = False)\n",
    "\n",
    "jax_lik._grad_coupled(theta, lam1, lam2, state, p0, latent_dist, latent_state, True)\n",
    "#inds = ssr.obs_inds(pTh1, state, latent_dist, obs_prim=True)\n",
    "#print(utils.trunk_states(state)[inds])\n",
    "#pTh1_obs = pTh1.at[inds].get()\n",
    "#print(pTh1_obs)\n",
    "#iwas = utils.ssr_obs_dist(pTh1, state, n, False)\n",
    "#print(iwas)\n",
    "#nk = pTh1_obs.sum()\n",
    "#q = jnp.zeros_like(p0)\n",
    "#pos = 2**(m-1) + inds.at[0].get()\n",
    "#q = q.at[pos].set(1/nk)\n",
    "#print(q)\n",
    "#print(utils.ssr_obs_dist(utils.trunk_states(state), state, n, True))\n",
    "#print(pTh1_obs.shape)\n",
    "# Actual gradient\n",
    "#q = ssr.marg_transp(q, state, marg_met=False, marg_seeding=False)\n",
    "#print(q)\n",
    "#q = jax_lik.R_i_inv_vec(theta, q, lam1, state, transpose = True)\n",
    "#g_1 = jax_lik.x_partial_Q_y(theta, q, pTh1, state)\n",
    "#g_1"
   ]
  },
  {
   "cell_type": "code",
   "execution_count": 12,
   "metadata": {},
   "outputs": [
    {
     "name": "stdout",
     "output_type": "stream",
     "text": [
      "[  0.       0.       0.     721.8905]\n",
      "[0 0 1 1]\n",
      "[ 0.18282016  0.5947506   0.8567908  20.838747  ]\n",
      "[ 3  7 11 15]\n",
      "[0. 0. 0. 0.]\n"
     ]
    },
    {
     "ename": "TypeError",
     "evalue": "mul got incompatible shapes for broadcasting: (1, 16), (3, 4).",
     "output_type": "error",
     "traceback": [
      "\u001b[0;31m---------------------------------------------------------------------------\u001b[0m",
      "\u001b[0;31mTypeError\u001b[0m                                 Traceback (most recent call last)",
      "Cell \u001b[0;32mIn[12], line 47\u001b[0m\n\u001b[1;32m     45\u001b[0m q \u001b[39m*\u001b[39m\u001b[39m=\u001b[39m \u001b[39m0.0\u001b[39m\n\u001b[1;32m     46\u001b[0m q \u001b[39m=\u001b[39m q\u001b[39m.\u001b[39mat[inds_o]\u001b[39m.\u001b[39mset(q_2)\n\u001b[0;32m---> 47\u001b[0m g_3 \u001b[39m=\u001b[39m jax_lik\u001b[39m.\u001b[39;49mx_partial_Q_y(log_theta, q, pTh1_obs, state)\n\u001b[1;32m     48\u001b[0m g_3 \u001b[39m/\u001b[39m\u001b[39m=\u001b[39m nk\n\u001b[1;32m     50\u001b[0m \u001b[39m# gradient of the normalizing sum of the starting distribution used for calc. pth_2\u001b[39;00m\n",
      "    \u001b[0;31m[... skipping hidden 12 frame]\u001b[0m\n",
      "File \u001b[0;32m~/Projects/MetaMHN/src/ssr_likelihood_jax.py:174\u001b[0m, in \u001b[0;36mx_partial_Q_y\u001b[0;34m(log_theta, x, y, state)\u001b[0m\n\u001b[1;32m    165\u001b[0m     z_sync, z_prim, z_met, val \u001b[39m=\u001b[39m lax\u001b[39m.\u001b[39mfori_loop(\n\u001b[1;32m    166\u001b[0m         lower\u001b[39m=\u001b[39mi\u001b[39m+\u001b[39m\u001b[39m1\u001b[39m,\n\u001b[1;32m    167\u001b[0m         upper\u001b[39m=\u001b[39mn,\n\u001b[1;32m    168\u001b[0m         body_fun\u001b[39m=\u001b[39mbody_fun,\n\u001b[1;32m    169\u001b[0m         init_val\u001b[39m=\u001b[39m(z_sync, z_prim, z_met, val)\n\u001b[1;32m    170\u001b[0m     )\n\u001b[1;32m    172\u001b[0m     \u001b[39mreturn\u001b[39;00m val\n\u001b[0;32m--> 174\u001b[0m z \u001b[39m=\u001b[39m z\u001b[39m.\u001b[39mat[:\u001b[39m-\u001b[39m\u001b[39m1\u001b[39m,:]\u001b[39m.\u001b[39mset(vmap(body_fun, in_axes\u001b[39m=\u001b[39;49m(\u001b[39m0\u001b[39;49m,\u001b[39m0\u001b[39;49m), out_axes\u001b[39m=\u001b[39;49m\u001b[39m0\u001b[39;49m)(jnp\u001b[39m.\u001b[39;49marange(n, dtype\u001b[39m=\u001b[39;49m\u001b[39mint\u001b[39;49m), z[:\u001b[39m-\u001b[39;49m\u001b[39m1\u001b[39;49m,:]))\n\u001b[1;32m    176\u001b[0m z_seed \u001b[39m=\u001b[39m x \u001b[39m*\u001b[39m kronvec_seed(log_theta\u001b[39m=\u001b[39mlog_theta, p\u001b[39m=\u001b[39my, state\u001b[39m=\u001b[39mstate)\n\u001b[1;32m    178\u001b[0m z \u001b[39m=\u001b[39m z\u001b[39m.\u001b[39mat[\u001b[39m-\u001b[39m\u001b[39m1\u001b[39m, \u001b[39m-\u001b[39m\u001b[39m1\u001b[39m]\u001b[39m.\u001b[39mset(z_seed\u001b[39m.\u001b[39msum())\n",
      "    \u001b[0;31m[... skipping hidden 3 frame]\u001b[0m\n",
      "File \u001b[0;32m~/Projects/MetaMHN/src/ssr_likelihood_jax.py:117\u001b[0m, in \u001b[0;36mx_partial_Q_y.<locals>.body_fun\u001b[0;34m(i, val)\u001b[0m\n\u001b[1;32m    115\u001b[0m \u001b[39mdef\u001b[39;00m \u001b[39mbody_fun\u001b[39m(i, val):\n\u001b[0;32m--> 117\u001b[0m     z_sync \u001b[39m=\u001b[39m x \u001b[39m*\u001b[39;49m kronvec_sync(log_theta\u001b[39m=\u001b[39;49mlog_theta,\n\u001b[1;32m    118\u001b[0m                               p\u001b[39m=\u001b[39;49my, i\u001b[39m=\u001b[39;49mi, state\u001b[39m=\u001b[39;49mstate)\n\u001b[1;32m    119\u001b[0m     z_prim \u001b[39m=\u001b[39m x \u001b[39m*\u001b[39m kronvec_prim(log_theta\u001b[39m=\u001b[39mlog_theta,\n\u001b[1;32m    120\u001b[0m                               p\u001b[39m=\u001b[39my, i\u001b[39m=\u001b[39mi, state\u001b[39m=\u001b[39mstate)\n\u001b[1;32m    121\u001b[0m     z_met \u001b[39m=\u001b[39m x \u001b[39m*\u001b[39m kronvec_met(log_theta\u001b[39m=\u001b[39mlog_theta,\n\u001b[1;32m    122\u001b[0m                             p\u001b[39m=\u001b[39my, i\u001b[39m=\u001b[39mi, state\u001b[39m=\u001b[39mstate)\n",
      "    \u001b[0;31m[... skipping hidden 1 frame]\u001b[0m\n",
      "File \u001b[0;32m/Library/Frameworks/Python.framework/Versions/3.11/lib/python3.11/site-packages/jax/_src/numpy/lax_numpy.py:4948\u001b[0m, in \u001b[0;36m_defer_to_unrecognized_arg.<locals>.deferring_binary_op\u001b[0;34m(self, other)\u001b[0m\n\u001b[1;32m   4946\u001b[0m args \u001b[39m=\u001b[39m (other, \u001b[39mself\u001b[39m) \u001b[39mif\u001b[39;00m swap \u001b[39melse\u001b[39;00m (\u001b[39mself\u001b[39m, other)\n\u001b[1;32m   4947\u001b[0m \u001b[39mif\u001b[39;00m \u001b[39misinstance\u001b[39m(other, _accepted_binop_types):\n\u001b[0;32m-> 4948\u001b[0m   \u001b[39mreturn\u001b[39;00m binary_op(\u001b[39m*\u001b[39;49margs)\n\u001b[1;32m   4949\u001b[0m \u001b[39mif\u001b[39;00m \u001b[39misinstance\u001b[39m(other, _rejected_binop_types):\n\u001b[1;32m   4950\u001b[0m   \u001b[39mraise\u001b[39;00m \u001b[39mTypeError\u001b[39;00m(\u001b[39mf\u001b[39m\u001b[39m\"\u001b[39m\u001b[39munsupported operand type(s) for \u001b[39m\u001b[39m{\u001b[39;00mopchar\u001b[39m}\u001b[39;00m\u001b[39m: \u001b[39m\u001b[39m\"\u001b[39m\n\u001b[1;32m   4951\u001b[0m                   \u001b[39mf\u001b[39m\u001b[39m\"\u001b[39m\u001b[39m{\u001b[39;00m\u001b[39mtype\u001b[39m(args[\u001b[39m0\u001b[39m])\u001b[39m.\u001b[39m\u001b[39m__name__\u001b[39m\u001b[39m!r}\u001b[39;00m\u001b[39m and \u001b[39m\u001b[39m{\u001b[39;00m\u001b[39mtype\u001b[39m(args[\u001b[39m1\u001b[39m])\u001b[39m.\u001b[39m\u001b[39m__name__\u001b[39m\u001b[39m!r}\u001b[39;00m\u001b[39m\"\u001b[39m)\n",
      "    \u001b[0;31m[... skipping hidden 7 frame]\u001b[0m\n",
      "File \u001b[0;32m/Library/Frameworks/Python.framework/Versions/3.11/lib/python3.11/site-packages/jax/_src/numpy/ufuncs.py:98\u001b[0m, in \u001b[0;36m_maybe_bool_binop.<locals>.fn\u001b[0;34m(x1, x2)\u001b[0m\n\u001b[1;32m     96\u001b[0m \u001b[39mdef\u001b[39;00m \u001b[39mfn\u001b[39m(x1, x2, \u001b[39m/\u001b[39m):\n\u001b[1;32m     97\u001b[0m   x1, x2 \u001b[39m=\u001b[39m _promote_args(numpy_fn\u001b[39m.\u001b[39m\u001b[39m__name__\u001b[39m, x1, x2)\n\u001b[0;32m---> 98\u001b[0m   \u001b[39mreturn\u001b[39;00m lax_fn(x1, x2) \u001b[39mif\u001b[39;00m x1\u001b[39m.\u001b[39mdtype \u001b[39m!=\u001b[39m np\u001b[39m.\u001b[39mbool_ \u001b[39melse\u001b[39;00m bool_lax_fn(x1, x2)\n",
      "    \u001b[0;31m[... skipping hidden 11 frame]\u001b[0m\n",
      "File \u001b[0;32m/Library/Frameworks/Python.framework/Versions/3.11/lib/python3.11/site-packages/jax/_src/lax/lax.py:1565\u001b[0m, in \u001b[0;36mbroadcasting_shape_rule\u001b[0;34m(name, *avals)\u001b[0m\n\u001b[1;32m   1563\u001b[0m       result_shape\u001b[39m.\u001b[39mappend(non_1s[\u001b[39m0\u001b[39m])\n\u001b[1;32m   1564\u001b[0m     \u001b[39melse\u001b[39;00m:\n\u001b[0;32m-> 1565\u001b[0m       \u001b[39mraise\u001b[39;00m \u001b[39mTypeError\u001b[39;00m(\u001b[39mf\u001b[39m\u001b[39m'\u001b[39m\u001b[39m{\u001b[39;00mname\u001b[39m}\u001b[39;00m\u001b[39m got incompatible shapes for broadcasting: \u001b[39m\u001b[39m'\u001b[39m\n\u001b[1;32m   1566\u001b[0m                       \u001b[39mf\u001b[39m\u001b[39m'\u001b[39m\u001b[39m{\u001b[39;00m\u001b[39m\"\u001b[39m\u001b[39m, \u001b[39m\u001b[39m\"\u001b[39m\u001b[39m.\u001b[39mjoin(\u001b[39mmap\u001b[39m(\u001b[39mstr\u001b[39m,\u001b[39m \u001b[39m\u001b[39mmap\u001b[39m(\u001b[39mtuple\u001b[39m,\u001b[39m \u001b[39mshapes)))\u001b[39m}\u001b[39;00m\u001b[39m.\u001b[39m\u001b[39m'\u001b[39m)\n\u001b[1;32m   1568\u001b[0m \u001b[39mreturn\u001b[39;00m \u001b[39mtuple\u001b[39m(result_shape)\n",
      "\u001b[0;31mTypeError\u001b[0m: mul got incompatible shapes for broadcasting: (1, 16), (3, 4)."
     ]
    }
   ],
   "source": [
    "prim_first = True\n",
    "log_theta = theta\n",
    "n = log_theta.shape[0] - 1\n",
    "m = np.log2(p0.shape[0]).astype(int)\n",
    "lm = np.log2(latent_dist.shape[0]).astype(int)\n",
    "\n",
    "# Calculate joint distributiom at first sampling\n",
    "pTh1 = lam1*jax_lik.R_i_inv_vec(log_theta, p0, lam1, state)\n",
    "inds_o = ssr.obs_inds(pTh1, state, latent_dist, prim_first)\n",
    "pTh1_obs = pTh1.at[inds_o].get()\n",
    "\n",
    "# calculate q = (pD/pTh_1)^T M\n",
    "nk = pTh1_obs.sum()\n",
    "inds_o_t = inds_o.at[inds_o.shape[0//2:]].get()\n",
    "q = jnp.zeros_like(p0)\n",
    "q = q.at[inds_o_t].set(1/nk)\n",
    "\n",
    "# gradient of first summand of the likelihood score\n",
    "q = jax_lik.R_i_inv_vec(log_theta, q, lam1, state, transpose = True)\n",
    "g_1 = jax_lik.x_partial_Q_y(log_theta, q, pTh1, state)\n",
    "\n",
    "# gradients of second term of score\n",
    "# gradient of pTh_2\n",
    "pTh1_obs /= nk\n",
    "log_theta_2 = lax.cond(prim_first,\n",
    "    lambda th: th,\n",
    "    lambda th: th.at[:n, -1].set(0.0),\n",
    "    operand = log_theta)\n",
    "g_2 = mhn.gradient(log_theta_2, lam2, latent_state, pTh1_obs)\n",
    "g_2 = lax.cond(prim_first,\n",
    "    lambda g: g,\n",
    "    lambda g: g.at[:n, -1].set(0.0),\n",
    "    operand = g_2)\n",
    "\n",
    "# gradient of the starting distribution used for calc. pth_2\n",
    "pTh2 = mhn.R_inv_vec(log_theta, pTh1_obs, lam2,  latent_state, False)\n",
    "q_2 = jnp.zeros_like(latent_dist)\n",
    "q_2 = q_2.at[-1].set(1/pTh2.at[-1].get())\n",
    "q_2 = mhn.R_inv_vec(log_theta, q_2, lam2,  latent_state, True)\n",
    "q *= 0.0\n",
    "q = q.at[inds_o].set(q_2)\n",
    "g_3 = jax_lik.x_partial_Q_y(log_theta, q, pTh1, state)\n",
    "g_3 /= nk\n",
    "\n",
    "# gradient of the normalizing sum of the starting distribution used for calc. pth_2\n",
    "scal = jnp.dot(q, pTh1_obs)\n",
    "lhs = jnp.zeros_like(p0)\n",
    "lhs = lhs.at[inds_o].set(1.)\n",
    "lhs = lam1*jax_lik.R_i_inv_vec(log_theta, lhs, lam1, state, transpose = True)\n",
    "g4 = jax_lik.x_partial_Q_y(log_theta, lhs, pTh1_obs, state)\n",
    "g4 *= scal"
   ]
  },
  {
   "cell_type": "code",
   "execution_count": null,
   "metadata": {},
   "outputs": [],
   "source": [
    "mat11 = np.array([[1,0,1,0],[0,1,0,1]])\n",
    "mat10 = np.array([[1,1]])\n",
    "mat1 = np.array([[1,0], [0,1]])\n",
    "matC = np.kron(mat1, np.kron(mat10, np.kron(mat11, mat10)))\n",
    "B = matC @ pTh1\n",
    "#print(matC)\n",
    "print(utils.trunk_states(state))\n",
    "iwas = np.zeros_like(B)\n",
    "iwas[-1] = 1/B[-1]\n",
    "res1 = iwas.T @ matC\n",
    "print(res1)\n",
    "iwas2 = np.zeros_like(pTh1)\n",
    "#iwas2[inds[inds.shape[0]//2:]] = 1/B[-1]\n",
    "print(iwas2)\n",
    "theta"
   ]
  }
 ],
 "metadata": {
  "kernelspec": {
   "display_name": "Python 3",
   "language": "python",
   "name": "python3"
  },
  "language_info": {
   "codemirror_mode": {
    "name": "ipython",
    "version": 3
   },
   "file_extension": ".py",
   "mimetype": "text/x-python",
   "name": "python",
   "nbconvert_exporter": "python",
   "pygments_lexer": "ipython3",
   "version": "3.11.1"
  },
  "orig_nbformat": 4,
  "vscode": {
   "interpreter": {
    "hash": "aee8b7b246df8f9039afb4144a1f6fd8d2ca17a180786b69acc140d282b71a49"
   }
  }
 },
 "nbformat": 4,
 "nbformat_minor": 2
}
