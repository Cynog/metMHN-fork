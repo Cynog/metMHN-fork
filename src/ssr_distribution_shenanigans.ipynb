{
 "cells": [
  {
   "cell_type": "code",
   "execution_count": null,
   "metadata": {},
   "outputs": [],
   "source": [
    "import numpy as np\n",
    "import Utilityfunctions as utils\n",
    "import jax.numpy as jnp\n",
    "import ssr_kronvec_jax as ssr\n",
    "import ssr_likelihood_jax as jax_lik\n",
    "import vanilla as mhn\n",
    "import scipy.optimize as opt\n",
    "import regularized_optimization as reg_opt\n",
    "import jax as jax\n",
    "jax.config.update(\"jax_enable_x64\", True)"
   ]
  },
  {
   "cell_type": "code",
   "execution_count": null,
   "metadata": {},
   "outputs": [],
   "source": [
    "n = 5\n",
    "theta = utils.random_theta(n, 0.0)\n",
    "lam1 = 1\n",
    "lam2 = 2\n",
    "rng = np.random.default_rng(42)\n",
    "print(theta)"
   ]
  },
  {
   "cell_type": "code",
   "execution_count": null,
   "metadata": {},
   "outputs": [],
   "source": [
    "# Sample datapoints according to the model\n",
    "n_dat = 500\n",
    "dat_full, ages = utils.simulate_dat(theta, n_dat, lam1, lam2, rng)\n",
    "lam2_start = np.log(1/np.mean(ages))\n",
    "dat_prim_nomet = np.zeros(shape=(1, 2*n+1), dtype = int)\n",
    "dat_prim_met = np.zeros(shape=(1, 2*n+1), dtype = int)\n",
    "dat_coupled = np.zeros(shape=(1, 2*n+1), dtype = int)\n",
    "dat_met_only = np.zeros(shape=(1, 2*n+1), dtype = int)\n",
    "for i in range(dat_full.shape[0]):\n",
    "    state = dat_full[i, :]\n",
    "    if state[-1] == 0:\n",
    "        dat_prim_nomet = np.vstack((dat_prim_nomet, state))\n",
    "    else:\n",
    "        ru = rng.choice(np.array([0,1,2]), size = 1)\n",
    "        if ru == 0:\n",
    "            dat_prim_met = np.vstack((dat_prim_met, state))\n",
    "        elif ru == 1:\n",
    "            dat_met_only = np.vstack((dat_met_only, state))\n",
    "        else:\n",
    "            dat_coupled = np.vstack((dat_coupled, state))\n",
    "dat_prim_nomet = jnp.array(np.delete(dat_prim_nomet, 0, 0))\n",
    "dat_prim_met = jnp.array(np.delete(dat_prim_met, 0, 0))\n",
    "dat_coupled = jnp.array(np.delete(dat_coupled, 0, 0))\n",
    "dat_met_only = jnp.array(np.delete(dat_met_only, 0, 0))\n",
    "print(dat_prim_nomet.shape[0], dat_prim_met.shape[0], dat_coupled.shape[0], dat_met_only.shape[0])"
   ]
  },
  {
   "cell_type": "code",
   "execution_count": null,
   "metadata": {},
   "outputs": [],
   "source": [
    "#Initial parameters for learning\n",
    "indep = utils.indep(jnp.array(dat_full))\n",
    "print(indep)\n",
    "lam1_start = np.log(1.5)\n",
    "start_params = np.append(indep, [lam1_start, lam2_start])"
   ]
  },
  {
   "cell_type": "code",
   "execution_count": null,
   "metadata": {},
   "outputs": [],
   "source": [
    "reg_opt.log_lik(start_params, dat_prim_met, dat_prim_nomet, dat_coupled, dat_met_only, 0.0)"
   ]
  },
  {
   "cell_type": "code",
   "execution_count": null,
   "metadata": {},
   "outputs": [],
   "source": [
    "#g_prim_no_met, dlam1_prim_no_met = reg_opt.grad_prim_only(jnp.array(indep), dat_prim_nomet, jnp.exp(lam1_start), n)"
   ]
  },
  {
   "cell_type": "code",
   "execution_count": null,
   "metadata": {},
   "outputs": [],
   "source": [
    "#g_prim_met, dlam1_prim_met = reg_opt.grad_prim_only(jnp.array(indep), dat_prim_met, jnp.exp(lam1_start), n)"
   ]
  },
  {
   "cell_type": "code",
   "execution_count": null,
   "metadata": {},
   "outputs": [],
   "source": [
    "#g_met, dlam1_met = reg_opt.grad_met_only(jnp.array(indep), dat_met_only, jnp.exp(lam1_start), lam2_start, n)"
   ]
  },
  {
   "cell_type": "code",
   "execution_count": null,
   "metadata": {},
   "outputs": [],
   "source": [
    "#g_coupled, dlam1_coupled = reg_opt.grad_coupled(jnp.array(indep), dat_coupled, jnp.exp(lam1_start), lam2_start, n)"
   ]
  },
  {
   "cell_type": "code",
   "execution_count": null,
   "metadata": {},
   "outputs": [],
   "source": [
    "#print(g_prim_met + g_prim_no_met + g_met + g_coupled)\n",
    "#print(dlam1_prim_no_met + dlam1_prim_met + dlam1_met + dlam1_coupled)"
   ]
  },
  {
   "cell_type": "code",
   "execution_count": null,
   "metadata": {},
   "outputs": [],
   "source": [
    "g_num = jnp.zeros((n+1, n+1))\n",
    "h = 1e-10\n",
    "for i in range(n+1):\n",
    "    for j in range(n+1):\n",
    "        score = reg_opt.lp_coupled(jnp.array(indep), dat_coupled, jnp.exp(lam1_start), jnp.exp(lam2_start), n+1)#reg_opt.log_lik(start_params, dat_prim_met, dat_prim_nomet, dat_coupled, dat_met_only, 0.0)\n",
    "        th_2 = indep.copy()\n",
    "        th_2 = th_2.at[i, j].add(h)\n",
    "        score_2 = reg_opt.lp_coupled(jnp.array(th_2), dat_coupled, jnp.exp(lam1_start), jnp.exp(lam2_start), n+1)#reg_opt.log_lik(st_2, dat_prim_met, dat_prim_nomet, dat_coupled, dat_met_only, 0.0)\n",
    "        g_num = g_num.at[i, j].set((score_2 - score)/h)\n",
    "print(np.around(g_num.at[:(n+1)**2].get().reshape((n+1, n+1)), 3))\n",
    "score = reg_opt.lp_coupled(jnp.array(indep), dat_coupled, jnp.exp(lam1_start), jnp.exp(lam2_start), n)#reg_opt.log_lik(start_params, dat_prim_met, dat_prim_nomet, dat_coupled, dat_met_only, 0.0)\n",
    "l_2 = lam1_start.copy()\n",
    "l_2 += h\n",
    "score_2 = reg_opt.lp_coupled(jnp.array(indep), dat_coupled, jnp.exp(l_2), jnp.exp(lam2_start), n)#reg_opt.log_lik(st_2, dat_prim_met, dat_prim_nomet, dat_coupled, dat_met_only, 0.0)\n",
    "print(np.around((score_2 - score)/h), 3)\n",
    "#print(g_num.at[-2].get())"
   ]
  },
  {
   "cell_type": "code",
   "execution_count": null,
   "metadata": {},
   "outputs": [],
   "source": [
    "g_num = jnp.zeros((n+1)**2+2)\n",
    "h = 1e-10\n",
    "score = reg_opt.log_lik(start_params, dat_prim_met, dat_prim_nomet, dat_coupled, dat_met_only, 0.0)\n",
    "for i in range((n+1)**2+1):\n",
    "    st_2 = start_params.copy()\n",
    "    st_2[i] += h\n",
    "    score_2 = reg_opt.log_lik(st_2, dat_prim_met, dat_prim_nomet, dat_coupled, dat_met_only, 0.0)\n",
    "    g_num = g_num.at[i].set((score_2 - score)/h)\n",
    "print(np.around(g_num.at[:(n+1)**2].get().reshape((n+1, n+1)), 3))"
   ]
  },
  {
   "cell_type": "code",
   "execution_count": null,
   "metadata": {},
   "outputs": [],
   "source": [
    "res = reg_opt.grad_coupled(jnp.array(indep), dat_coupled, jnp.exp(lam1_start), jnp.exp(lam2_start), n)\n",
    "print(jnp.around(res.at[:-2].get().reshape((n+1,n+1)), 5))\n",
    "print(res.at[-2].get())"
   ]
  },
  {
   "cell_type": "code",
   "execution_count": null,
   "metadata": {},
   "outputs": [],
   "source": [
    "res = reg_opt.grad(start_params, dat_prim_met, dat_prim_nomet, dat_coupled, dat_met_only, 0.0)\n",
    "print(np.around(res[:-2].reshape((n+1, n+1)), 3))"
   ]
  },
  {
   "cell_type": "code",
   "execution_count": null,
   "metadata": {},
   "outputs": [],
   "source": [
    "x = opt.minimize(reg_opt.log_lik, x0 = start_params, args = (dat_prim_met, dat_prim_nomet, dat_coupled, dat_met_only, 0.05), \n",
    "                method = \"L-BFGS-B\", jac = reg_opt.grad, options={\"maxiter\":100, \"disp\":True, \"ftol\":1e-05})"
   ]
  },
  {
   "cell_type": "code",
   "execution_count": null,
   "metadata": {},
   "outputs": [],
   "source": [
    "print(jnp.around(jnp.reshape(x.x[:-2], (n+1, n+1)),2))\n",
    "print(jnp.around(jnp.exp(x.x[-2:]),2))\n",
    "print(jnp.around(theta, 2))"
   ]
  }
 ],
 "metadata": {
  "kernelspec": {
   "display_name": "Python 3",
   "language": "python",
   "name": "python3"
  },
  "language_info": {
   "codemirror_mode": {
    "name": "ipython",
    "version": 3
   },
   "file_extension": ".py",
   "mimetype": "text/x-python",
   "name": "python",
   "nbconvert_exporter": "python",
   "pygments_lexer": "ipython3",
   "version": "3.11.1"
  },
  "orig_nbformat": 4,
  "vscode": {
   "interpreter": {
    "hash": "aee8b7b246df8f9039afb4144a1f6fd8d2ca17a180786b69acc140d282b71a49"
   }
  }
 },
 "nbformat": 4,
 "nbformat_minor": 2
}
