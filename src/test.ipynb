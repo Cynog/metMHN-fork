{
 "cells": [
  {
   "cell_type": "code",
   "execution_count": 1,
   "metadata": {},
   "outputs": [],
   "source": [
    "import explicit_statetespace as efss\n",
    "import ssr_kronecker_vector as ssr\n",
    "import ssr_likelihood as ssr_lklhd\n",
    "import likelihood as fss_lklhd\n",
    "import kronecker_vector as fss\n",
    "import numpy as np\n",
    "import Utilityfunctions as utils\n"
   ]
  },
  {
   "cell_type": "code",
   "execution_count": 2,
   "metadata": {},
   "outputs": [],
   "source": [
    "n = 2\n",
    "sparsity = 0.5\n",
    "log_theta = utils.random_theta(n=n, sparsity=sparsity)\n"
   ]
  },
  {
   "cell_type": "code",
   "execution_count": 3,
   "metadata": {},
   "outputs": [
    {
     "data": {
      "text/plain": [
       "array([0, 1, 1, 0, 1])"
      ]
     },
     "execution_count": 3,
     "metadata": {},
     "output_type": "execute_result"
    }
   ],
   "source": [
    "state = np.random.randint(2, size=2*n+1)\n",
    "length = 2**sum(state)\n",
    "state\n"
   ]
  },
  {
   "cell_type": "code",
   "execution_count": 4,
   "metadata": {},
   "outputs": [],
   "source": [
    "mut = [state[j] + 2 * state[j + 1] for j in range(0, 2 * n, 2)]\n",
    "mut.append(state[-1])\n",
    "mut = np.array(mut)\n"
   ]
  },
  {
   "cell_type": "code",
   "execution_count": 5,
   "metadata": {},
   "outputs": [],
   "source": [
    "# Test explicit ssr vs. shuffle trick ssr\n",
    "for j in range(length):\n",
    "    p = np.zeros(2**sum(state))\n",
    "    p[j] = 1\n",
    "    assert (np.allclose(\n",
    "        efss.ssr_build_q(dpoint=state, log_theta=log_theta) @ p,\n",
    "        ssr.kronvec(log_theta=log_theta, p=p, n=n, state=state)\n",
    "    ))\n"
   ]
  },
  {
   "cell_type": "code",
   "execution_count": 6,
   "metadata": {},
   "outputs": [],
   "source": [
    "# Test no diag\n",
    "for j in range(length):\n",
    "    p = np.zeros(2**sum(state))\n",
    "    p[j] = 1\n",
    "    q = ssr.kronvec(log_theta=log_theta, p=p, n=n, state=state)\n",
    "    q[j] = 0\n",
    "    assert (np.allclose(\n",
    "        q,\n",
    "        ssr.kronvec(log_theta=log_theta, p=p, n=n, state=state, diag=False)\n",
    "    ))\n"
   ]
  },
  {
   "cell_type": "code",
   "execution_count": 7,
   "metadata": {},
   "outputs": [],
   "source": [
    "# Test diag\n",
    "assert (np.allclose(\n",
    "    np.diag(efss.ssr_build_q(dpoint=state, log_theta=log_theta)),\n",
    "    ssr.kron_diag(log_theta=log_theta, n=n, state=state)\n",
    "))\n"
   ]
  },
  {
   "cell_type": "code",
   "execution_count": 8,
   "metadata": {},
   "outputs": [],
   "source": [
    "# Test R inverse\n",
    "for j in range(length):\n",
    "    p = np.zeros(2**sum(state))\n",
    "    p[j] = 1\n",
    "    assert (np.allclose(\n",
    "        np.linalg.inv(np.identity(\n",
    "            length) - efss.ssr_build_q(dpoint=state, log_theta=log_theta)) @ p,\n",
    "        ssr_lklhd.R_i_inv_vec(log_theta=log_theta, x=p, lam=1, state=state),\n",
    "    ))\n"
   ]
  },
  {
   "cell_type": "code",
   "execution_count": 9,
   "metadata": {},
   "outputs": [],
   "source": [
    "# Test transpose\n",
    "for j in range(length):\n",
    "    p = np.zeros(2**sum(state))\n",
    "    p[j] = 1\n",
    "    assert (np.allclose(\n",
    "        efss.ssr_build_q(dpoint=state, log_theta=log_theta).T @ p,\n",
    "        ssr.kronvec(log_theta=log_theta, p=p, n=n, state=state, transpose=True)\n",
    "    ))\n"
   ]
  },
  {
   "cell_type": "code",
   "execution_count": 10,
   "metadata": {},
   "outputs": [],
   "source": [
    "# Test ssr vs fss\n",
    "for j in range(length):\n",
    "    p = np.zeros(2**sum(state))\n",
    "    p[j] = 1\n",
    "    index = utils.ssr_to_fss(state)\n",
    "    assert (np.allclose(\n",
    "        efss.build_q(log_theta=log_theta)[np.ix_(index, index)] @ p,\n",
    "        ssr.kronvec(log_theta=log_theta, p=p, n=n, state=state)\n",
    "    ))\n"
   ]
  },
  {
   "cell_type": "code",
   "execution_count": 5,
   "metadata": {},
   "outputs": [],
   "source": [
    "# Test log_likelihood\n",
    "\n",
    "lam1, lam2 = np.random.random(2)\n",
    "reachable = utils.reachable_states(n)\n",
    "for j in range(2**(2*n+1)):\n",
    "    if not reachable[j]:\n",
    "        continue\n",
    "    p = np.zeros(2**(2*n+1))\n",
    "    p[j] = 1\n",
    "    np.allclose(\n",
    "        fss_lklhd.log_likelihood(\n",
    "            log_theta=log_theta, pd=p, lam1=lam1, lam2=lam2),\n",
    "        ssr_lklhd.log_likelihood(log_theta=log_theta, p_D=p, lam1=lam1, lam2=lam2, state=state))\n"
   ]
  },
  {
   "cell_type": "code",
   "execution_count": 6,
   "metadata": {},
   "outputs": [],
   "source": [
    "# Test gradient\n",
    "\n",
    "for j in range(2**(2*n+1)):\n",
    "    if not reachable[j]:\n",
    "        continue\n",
    "    p = np.zeros(2**(2*n+1))\n",
    "    p[j] = 1\n",
    "    ssr_lklhd.gradient(log_theta=log_theta, p_D=p[utils.ssr_to_fss(state)],\n",
    "                       lam1=lam1, lam2=lam2, state=state)\n"
   ]
  }
 ],
 "metadata": {
  "kernelspec": {
   "display_name": "Python 3.9.7 ('base')",
   "language": "python",
   "name": "python3"
  },
  "language_info": {
   "codemirror_mode": {
    "name": "ipython",
    "version": 3
   },
   "file_extension": ".py",
   "mimetype": "text/x-python",
   "name": "python",
   "nbconvert_exporter": "python",
   "pygments_lexer": "ipython3",
   "version": "3.9.7"
  },
  "vscode": {
   "interpreter": {
    "hash": "a8ffae459ed44daffea6f44829d1b43eb0d7c45549ab6711ec1626c23ec43bc9"
   }
  }
 },
 "nbformat": 4,
 "nbformat_minor": 4
}
