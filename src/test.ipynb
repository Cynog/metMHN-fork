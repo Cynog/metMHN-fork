{
 "cells": [
  {
   "cell_type": "code",
   "execution_count": 1,
   "metadata": {},
   "outputs": [],
   "source": [
    "import explicit_statetespace as efss\n",
    "import ssr_kronecker_vector as ssr\n",
    "import ssr_likelihood as ssr_lklhd\n",
    "import likelihood as fss_lklhd\n",
    "import kronecker_vector as fss\n",
    "import numpy as np\n",
    "import Utilityfunctions as utils"
   ]
  },
  {
   "cell_type": "code",
   "execution_count": 2,
   "metadata": {},
   "outputs": [],
   "source": [
    "n = 2\n",
    "sparsity = 0.5\n",
    "log_theta = utils.random_theta(n=n, sparsity=sparsity)\n"
   ]
  },
  {
   "cell_type": "code",
   "execution_count": 3,
   "metadata": {},
   "outputs": [
    {
     "data": {
      "text/plain": [
       "array([0, 1, 0, 0, 1])"
      ]
     },
     "execution_count": 3,
     "metadata": {},
     "output_type": "execute_result"
    }
   ],
   "source": [
    "state = np.random.randint(2, size=2*n+1)\n",
    "length = 2**sum(state)\n",
    "state\n"
   ]
  },
  {
   "cell_type": "code",
   "execution_count": 4,
   "metadata": {},
   "outputs": [],
   "source": [
    "mut = [state[j] + 2 * state[j + 1] for j in range(0, 2 * n, 2)]\n",
    "mut.append(state[-1])\n",
    "mut = np.array(mut)\n"
   ]
  },
  {
   "cell_type": "code",
   "execution_count": 20,
   "metadata": {},
   "outputs": [],
   "source": [
    "# Test explicit ssr vs. shuffle trick ssr\n",
    "for j in range(length):\n",
    "    p = np.zeros(2**sum(state))\n",
    "    p[j] = 1\n",
    "    assert (np.allclose(\n",
    "        efss.ssr_build_q(dpoint=state, log_theta=log_theta) @ p,\n",
    "        ssr.kronvec(log_theta=log_theta, p=p, n=n, state=state)\n",
    "    ))\n"
   ]
  },
  {
   "cell_type": "code",
   "execution_count": 21,
   "metadata": {},
   "outputs": [],
   "source": [
    "# Test no diag\n",
    "for j in range(length):\n",
    "    p = np.zeros(2**sum(state))\n",
    "    p[j] = 1\n",
    "    q = ssr.kronvec(log_theta=log_theta, p=p, n=n, state=state)\n",
    "    q[j] = 0\n",
    "    assert (np.allclose(\n",
    "        q,\n",
    "        ssr.kronvec(log_theta=log_theta, p=p, n=n, state=state, diag=False)\n",
    "    ))\n"
   ]
  },
  {
   "cell_type": "code",
   "execution_count": 22,
   "metadata": {},
   "outputs": [],
   "source": [
    "# Test diag\n",
    "assert (np.allclose(\n",
    "    np.diag(efss.ssr_build_q(dpoint=state, log_theta=log_theta)),\n",
    "    ssr.kron_diag(log_theta=log_theta, n=n, state=state)\n",
    "))\n"
   ]
  },
  {
   "cell_type": "code",
   "execution_count": 23,
   "metadata": {},
   "outputs": [],
   "source": [
    "# Test R inverse\n",
    "for j in range(length):\n",
    "    p = np.zeros(2**sum(state))\n",
    "    p[j] = 1\n",
    "    assert (np.allclose(\n",
    "        np.linalg.inv(np.identity(\n",
    "            length) - efss.ssr_build_q(dpoint=state, log_theta=log_theta)) @ p,\n",
    "        ssr_lklhd.R_i_inv_vec(log_theta=log_theta, x=p, lam=1, state=state),  \n",
    "    ))\n"
   ]
  },
  {
   "cell_type": "code",
   "execution_count": 24,
   "metadata": {},
   "outputs": [],
   "source": [
    "# Test transpose\n",
    "for j in range(length):\n",
    "    p = np.zeros(2**sum(state))\n",
    "    p[j] = 1\n",
    "    assert (np.allclose(\n",
    "        efss.ssr_build_q(dpoint=state, log_theta=log_theta).T @ p,\n",
    "        ssr.kronvec(log_theta=log_theta, p=p, n=n, state=state, transpose=True)\n",
    "    ))\n"
   ]
  },
  {
   "cell_type": "code",
   "execution_count": 5,
   "metadata": {},
   "outputs": [],
   "source": [
    "# Test ssr vs fss\n",
    "for j in range(length):\n",
    "    p = np.zeros(2**sum(state))\n",
    "    p[j] = 1\n",
    "    index = utils.ssr_to_fss(state)\n",
    "    assert (np.allclose(\n",
    "        efss.build_q(log_theta=log_theta)[np.ix_(index, index)] @ p,\n",
    "        ssr.kronvec(log_theta=log_theta, p=p, n=n, state=state)\n",
    "    ))"
   ]
  },
  {
   "cell_type": "code",
   "execution_count": 5,
   "metadata": {},
   "outputs": [
    {
     "name": "stderr",
     "output_type": "stream",
     "text": [
      "c:\\Users\\Arbeit\\Documents\\MetaMHN\\src\\likelihood.py:45: RuntimeWarning: divide by zero encountered in log\n",
      "  return pd.dot(np.nan_to_num(np.log(pTh)))\n",
      "c:\\Users\\Arbeit\\Documents\\MetaMHN\\src\\ssr_likelihood.py:188: RuntimeWarning: divide by zero encountered in log\n",
      "  np.nan_to_num(np.log(p_0))[reachable[utils.ssr_to_fss(state)]]\n"
     ]
    },
    {
     "data": {
      "text/plain": [
       "False"
      ]
     },
     "execution_count": 5,
     "metadata": {},
     "output_type": "execute_result"
    }
   ],
   "source": [
    "# Test log_likelihood\n",
    "\n",
    "lam1, lam2 = np.random.random(2)\n",
    "p = np.zeros(2**(2*n+1))\n",
    "p[0] = 1\n",
    "np.allclose(\n",
    "    fss_lklhd.likelihood(theta=log_theta, pd=p, lam1=lam1, lam2=lam2),\n",
    "    ssr_lklhd.log_likelihood(log_theta=log_theta, p_D=p, lam1=lam1, lam2=lam2, state=state))\n"
   ]
  },
  {
   "cell_type": "code",
   "execution_count": 7,
   "metadata": {},
   "outputs": [
    {
     "data": {
      "text/plain": [
       "-4.816402906700382"
      ]
     },
     "execution_count": 7,
     "metadata": {},
     "output_type": "execute_result"
    }
   ],
   "source": [
    "fss_lklhd.likelihood(theta=log_theta, pd=p, lam1=lam1, lam2=lam2)"
   ]
  },
  {
   "cell_type": "code",
   "execution_count": 6,
   "metadata": {},
   "outputs": [
    {
     "data": {
      "text/plain": [
       "0.0"
      ]
     },
     "execution_count": 6,
     "metadata": {},
     "output_type": "execute_result"
    }
   ],
   "source": [
    "ssr_lklhd.log_likelihood(log_theta=log_theta, p_D=p, lam1=lam1, lam2=lam2, state=state)"
   ]
  },
  {
   "cell_type": "code",
   "execution_count": 18,
   "metadata": {},
   "outputs": [
    {
     "data": {
      "text/plain": [
       "(20,)"
      ]
     },
     "execution_count": 18,
     "metadata": {},
     "output_type": "execute_result"
    }
   ],
   "source": [
    "p = np.zeros(2**(2*n + 1))\n",
    "p[0] = 1\n",
    "np.nonzero(fss_lklhd.jacobi(log_theta, p, lam=1))[0].shape"
   ]
  },
  {
   "cell_type": "code",
   "execution_count": 7,
   "metadata": {},
   "outputs": [
    {
     "data": {
      "text/plain": [
       "array([5.37830423e-02, 0.00000000e+00, 0.00000000e+00, 1.75383041e-01,\n",
       "       0.00000000e+00, 0.00000000e+00, 0.00000000e+00, 0.00000000e+00,\n",
       "       0.00000000e+00, 0.00000000e+00, 0.00000000e+00, 0.00000000e+00,\n",
       "       2.96923740e-03, 0.00000000e+00, 0.00000000e+00, 3.71795349e-01,\n",
       "       7.66091773e-04, 3.78134897e-04, 9.81476136e-04, 1.88437933e-02,\n",
       "       1.65357021e-05, 5.11649177e-05, 6.94596135e-05, 1.49883396e-02,\n",
       "       1.65357021e-05, 2.01404791e-05, 2.02287735e-04, 1.52899551e-02,\n",
       "       4.48898063e-05, 2.95640832e-05, 9.66564650e-05, 3.44274305e-01])"
      ]
     },
     "execution_count": 7,
     "metadata": {},
     "output_type": "execute_result"
    }
   ],
   "source": [
    "fss_lklhd.jacobi(log_theta, p, lam=1)"
   ]
  },
  {
   "cell_type": "code",
   "execution_count": 8,
   "metadata": {},
   "outputs": [
    {
     "ename": "ValueError",
     "evalue": "operands could not be broadcast together with shapes (32,) (4,) ",
     "output_type": "error",
     "traceback": [
      "\u001b[1;31m---------------------------------------------------------------------------\u001b[0m",
      "\u001b[1;31mValueError\u001b[0m                                Traceback (most recent call last)",
      "Cell \u001b[1;32mIn [8], line 1\u001b[0m\n\u001b[1;32m----> 1\u001b[0m ssr_lklhd\u001b[39m.\u001b[39mR_i_inv_vec(log_theta\u001b[39m=\u001b[39mlog_theta, x\u001b[39m=\u001b[39mp, lam\u001b[39m=\u001b[39m\u001b[39m1\u001b[39m, state\u001b[39m=\u001b[39mnp\u001b[39m.\u001b[39mones(\u001b[39m2\u001b[39m\u001b[39m*\u001b[39mn \u001b[39m+\u001b[39m \u001b[39m1\u001b[39m, dtype\u001b[39m=\u001b[39m\u001b[39mint\u001b[39m))\n",
      "File \u001b[1;32mc:\\Users\\Arbeit\\Documents\\MetaMHN\\src\\ssr_likelihood.py:126\u001b[0m, in \u001b[0;36mR_i_inv_vec\u001b[1;34m(log_theta, x, lam, state, transpose)\u001b[0m\n\u001b[0;32m    123\u001b[0m n \u001b[39m=\u001b[39m log_theta\u001b[39m.\u001b[39mshape[\u001b[39m0\u001b[39m] \u001b[39m-\u001b[39m \u001b[39m1\u001b[39m\n\u001b[0;32m    125\u001b[0m lidg \u001b[39m=\u001b[39m \u001b[39m-\u001b[39m\u001b[39m1\u001b[39m \u001b[39m/\u001b[39m (kron_diag(log_theta\u001b[39m=\u001b[39mlog_theta, n\u001b[39m=\u001b[39mn, state\u001b[39m=\u001b[39mstate) \u001b[39m-\u001b[39m lam)\n\u001b[1;32m--> 126\u001b[0m y \u001b[39m=\u001b[39m lidg \u001b[39m*\u001b[39;49m x\n\u001b[0;32m    128\u001b[0m \u001b[39mfor\u001b[39;00m _ \u001b[39min\u001b[39;00m \u001b[39mrange\u001b[39m(\u001b[39msum\u001b[39m(state) \u001b[39m+\u001b[39m \u001b[39m1\u001b[39m):\n\u001b[0;32m    129\u001b[0m     y \u001b[39m=\u001b[39m lidg \u001b[39m*\u001b[39m (kronvec(log_theta\u001b[39m=\u001b[39mlog_theta, p\u001b[39m=\u001b[39my, n\u001b[39m=\u001b[39mn,\n\u001b[0;32m    130\u001b[0m                         state\u001b[39m=\u001b[39mstate, diag\u001b[39m=\u001b[39m\u001b[39mFalse\u001b[39;00m, transpose\u001b[39m=\u001b[39mtranspose) \u001b[39m+\u001b[39m x)\n",
      "\u001b[1;31mValueError\u001b[0m: operands could not be broadcast together with shapes (32,) (4,) "
     ]
    }
   ],
   "source": [
    "ssr_lklhd.R_i_inv_vec(log_theta=log_theta, x=p, lam=1,\n",
    "                      state=np.ones(2*n + 1, dtype=int))\n"
   ]
  }
 ],
 "metadata": {
  "kernelspec": {
   "display_name": "Python 3.10.4 ('mhn_env')",
   "language": "python",
   "name": "python3"
  },
  "language_info": {
   "codemirror_mode": {
    "name": "ipython",
    "version": 3
   },
   "file_extension": ".py",
   "mimetype": "text/x-python",
   "name": "python",
   "nbconvert_exporter": "python",
   "pygments_lexer": "ipython3",
   "version": "3.10.4"
  },
  "vscode": {
   "interpreter": {
    "hash": "d1d34784337de8a51d1ed90aa0183f57d21896d47267cb2c3ed056ab3c9f4b08"
   }
  }
 },
 "nbformat": 4,
 "nbformat_minor": 4
}
