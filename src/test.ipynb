{
 "cells": [
  {
   "cell_type": "code",
   "execution_count": 3,
   "metadata": {},
   "outputs": [],
   "source": [
    "import explicit_statetespace as efss\n",
    "import ssr_kronecker_vector as ssr\n",
    "import numpy as np\n"
   ]
  },
  {
   "cell_type": "code",
   "execution_count": 32,
   "metadata": {},
   "outputs": [],
   "source": [
    "n=3\n",
    "npone = n + 1\n",
    "sparsity = 0.5\n",
    "theta = np.zeros((npone, npone))\n",
    "theta += np.diag(np.random.normal(size=npone))\n",
    "index = np.argwhere(theta == 0)[\n",
    "    np.random.choice(npone**2-npone, size=int((npone**2-npone)*(1-sparsity)), replace=True)\n",
    "]\n",
    "theta[index[:,0], index[:,1]] = np.random.normal(size=int((npone**2-npone)*(1-sparsity)))"
   ]
  },
  {
   "cell_type": "code",
   "execution_count": 34,
   "metadata": {},
   "outputs": [
    {
     "data": {
      "text/plain": [
       "array([0, 0, 1, 1, 1, 0, 1])"
      ]
     },
     "execution_count": 34,
     "metadata": {},
     "output_type": "execute_result"
    }
   ],
   "source": [
    "state = np.random.randint(2, size=2*n+1)\n",
    "state[-1] = 1\n",
    "state"
   ]
  },
  {
   "cell_type": "code",
   "execution_count": 35,
   "metadata": {},
   "outputs": [
    {
     "ename": "AssertionError",
     "evalue": "",
     "output_type": "error",
     "traceback": [
      "\u001b[1;31m---------------------------------------------------------------------------\u001b[0m",
      "\u001b[1;31mAssertionError\u001b[0m                            Traceback (most recent call last)",
      "Cell \u001b[1;32mIn [35], line 3\u001b[0m\n\u001b[0;32m      1\u001b[0m p \u001b[39m=\u001b[39m np\u001b[39m.\u001b[39mrandom\u001b[39m.\u001b[39mrandom(size\u001b[39m=\u001b[39m\u001b[39m2\u001b[39m\u001b[39m*\u001b[39m\u001b[39m*\u001b[39m\u001b[39msum\u001b[39m(state))\n\u001b[0;32m      2\u001b[0m \u001b[39mfor\u001b[39;00m i \u001b[39min\u001b[39;00m \u001b[39mrange\u001b[39m(n):\n\u001b[1;32m----> 3\u001b[0m     \u001b[39massert\u001b[39;00m(np\u001b[39m.\u001b[39mallclose(\n\u001b[0;32m      4\u001b[0m         efss\u001b[39m.\u001b[39mssr_build_q(state, np\u001b[39m.\u001b[39mexp(theta)) \u001b[39m@\u001b[39m p,\n\u001b[0;32m      5\u001b[0m         ssr\u001b[39m.\u001b[39mkronvec(log_theta\u001b[39m=\u001b[39mtheta, p\u001b[39m=\u001b[39mp, n\u001b[39m=\u001b[39mn, state\u001b[39m=\u001b[39mstate)\n\u001b[0;32m      6\u001b[0m         ))\n",
      "\u001b[1;31mAssertionError\u001b[0m: "
     ]
    }
   ],
   "source": [
    "p = np.random.random(size=2**sum(state))\n",
    "for i in range(n):\n",
    "    assert(np.allclose(\n",
    "        efss.ssr_build_q(state, np.exp(theta)) @ p,\n",
    "        ssr.kronvec(log_theta=theta, p=p, n=n, state=state)\n",
    "        ))"
   ]
  },
  {
   "cell_type": "code",
   "execution_count": 36,
   "metadata": {},
   "outputs": [],
   "source": [
    "mut = [state[j] + 2 * state[j + 1] for j in range(0, 2 * n, 2)]"
   ]
  },
  {
   "cell_type": "code",
   "execution_count": 37,
   "metadata": {},
   "outputs": [],
   "source": [
    "for i in range(n):\n",
    "    assert(np.allclose(\n",
    "        efss.sync_ssr_q(mut, np.exp(theta), i, n) @ p,\n",
    "        ssr.kronvec_sync(log_theta=theta, p=p, n=n, i=i, state=state)\n",
    "        ))"
   ]
  },
  {
   "cell_type": "code",
   "execution_count": 49,
   "metadata": {},
   "outputs": [
    {
     "ename": "AssertionError",
     "evalue": "",
     "output_type": "error",
     "traceback": [
      "\u001b[1;31m---------------------------------------------------------------------------\u001b[0m",
      "\u001b[1;31mAssertionError\u001b[0m                            Traceback (most recent call last)",
      "Cell \u001b[1;32mIn [49], line 5\u001b[0m\n\u001b[0;32m      3\u001b[0m p[j] \u001b[39m=\u001b[39m \u001b[39m1\u001b[39m\n\u001b[0;32m      4\u001b[0m \u001b[39mfor\u001b[39;00m i \u001b[39min\u001b[39;00m \u001b[39mrange\u001b[39m(n):\n\u001b[1;32m----> 5\u001b[0m     \u001b[39massert\u001b[39;00m(np\u001b[39m.\u001b[39mallclose(\n\u001b[0;32m      6\u001b[0m         efss\u001b[39m.\u001b[39mprim_ssr_q(mut, np\u001b[39m.\u001b[39mexp(theta), i, n) \u001b[39m@\u001b[39m p,\n\u001b[0;32m      7\u001b[0m         ssr\u001b[39m.\u001b[39mkronvec_prim(log_theta\u001b[39m=\u001b[39mtheta, p\u001b[39m=\u001b[39mp, n\u001b[39m=\u001b[39mn, i\u001b[39m=\u001b[39mi, state\u001b[39m=\u001b[39mstate)\n\u001b[0;32m      8\u001b[0m         ))\n",
      "\u001b[1;31mAssertionError\u001b[0m: "
     ]
    }
   ],
   "source": [
    "for j in range(2**sum(state)):\n",
    "    p = np.zeros(2**sum(state))\n",
    "    p[j] = 1\n",
    "    for i in range(n):\n",
    "        assert(np.allclose(\n",
    "            efss.prim_ssr_q(mut, np.exp(theta), i, n) @ p,\n",
    "            ssr.kronvec_prim(log_theta=theta, p=p, n=n, i=i, state=state)\n",
    "            ))"
   ]
  },
  {
   "cell_type": "code",
   "execution_count": 50,
   "metadata": {},
   "outputs": [
    {
     "data": {
      "text/plain": [
       "12"
      ]
     },
     "execution_count": 50,
     "metadata": {},
     "output_type": "execute_result"
    }
   ],
   "source": [
    "j"
   ]
  },
  {
   "cell_type": "code",
   "execution_count": 61,
   "metadata": {},
   "outputs": [
    {
     "data": {
      "text/plain": [
       "False"
      ]
     },
     "execution_count": 61,
     "metadata": {},
     "output_type": "execute_result"
    }
   ],
   "source": [
    "p = np.zeros(2**sum(state))\n",
    "p[12] = 1\n",
    "i=0\n",
    "np.allclose(\n",
    "        efss.prim_ssr_q(mut, np.exp(theta), i, n) @ p,\n",
    "        ssr.kronvec_prim(log_theta=theta, p=p, n=n, i=i, state=state)\n",
    "        )"
   ]
  },
  {
   "cell_type": "code",
   "execution_count": 62,
   "metadata": {},
   "outputs": [
    {
     "data": {
      "text/plain": [
       "array([ 0.       ,  0.       ,  0.       ,  0.       ,  0.       ,\n",
       "        0.       ,  0.       ,  0.       ,  0.       ,  0.       ,\n",
       "        0.       ,  0.       , -1.0544913,  0.       ,  0.       ,\n",
       "        0.       ])"
      ]
     },
     "execution_count": 62,
     "metadata": {},
     "output_type": "execute_result"
    }
   ],
   "source": [
    "\n",
    "efss.prim_ssr_q(mut, np.exp(theta), i, n) @ p"
   ]
  },
  {
   "cell_type": "code",
   "execution_count": 63,
   "metadata": {},
   "outputs": [
    {
     "data": {
      "text/plain": [
       "array([ 0.       ,  0.       ,  0.       ,  0.       ,  0.       ,\n",
       "        0.       ,  0.       ,  0.       , -0.       , -0.       ,\n",
       "       -0.       , -0.       , -1.1119519, -0.       , -0.       ,\n",
       "       -0.       ])"
      ]
     },
     "execution_count": 63,
     "metadata": {},
     "output_type": "execute_result"
    }
   ],
   "source": [
    "ssr.kronvec_prim(log_theta=theta, p=p, n=n, i=i, state=state)"
   ]
  },
  {
   "cell_type": "code",
   "execution_count": 93,
   "metadata": {},
   "outputs": [],
   "source": [
    "for i in range(n):\n",
    "    assert(np.allclose(\n",
    "        efss.met_ssr_q(mut, np.exp(theta), i, n) @ p,\n",
    "        ssr.kronvec_met(log_theta=theta, p=p, n=n, i=i, state=state)\n",
    "        ))"
   ]
  },
  {
   "cell_type": "code",
   "execution_count": 94,
   "metadata": {},
   "outputs": [
    {
     "ename": "AssertionError",
     "evalue": "",
     "output_type": "error",
     "traceback": [
      "\u001b[1;31m---------------------------------------------------------------------------\u001b[0m",
      "\u001b[1;31mAssertionError\u001b[0m                            Traceback (most recent call last)",
      "\u001b[1;32m~\\AppData\\Local\\Temp/ipykernel_15016/1784758842.py\u001b[0m in \u001b[0;36m<module>\u001b[1;34m\u001b[0m\n\u001b[1;32m----> 1\u001b[1;33m assert(np.allclose(\n\u001b[0m\u001b[0;32m      2\u001b[0m     \u001b[0mefss\u001b[0m\u001b[1;33m.\u001b[0m\u001b[0mseeding_ssr_q\u001b[0m\u001b[1;33m(\u001b[0m\u001b[0mstate\u001b[0m\u001b[1;33m,\u001b[0m \u001b[0mnp\u001b[0m\u001b[1;33m.\u001b[0m\u001b[0mexp\u001b[0m\u001b[1;33m(\u001b[0m\u001b[0mtheta\u001b[0m\u001b[1;33m)\u001b[0m\u001b[1;33m,\u001b[0m \u001b[0mn\u001b[0m\u001b[1;33m)\u001b[0m \u001b[1;33m@\u001b[0m \u001b[0mp\u001b[0m\u001b[1;33m,\u001b[0m\u001b[1;33m\u001b[0m\u001b[1;33m\u001b[0m\u001b[0m\n\u001b[0;32m      3\u001b[0m     \u001b[0mssr\u001b[0m\u001b[1;33m.\u001b[0m\u001b[0mkronvec_seed\u001b[0m\u001b[1;33m(\u001b[0m\u001b[0mlog_theta\u001b[0m\u001b[1;33m=\u001b[0m\u001b[0mtheta\u001b[0m\u001b[1;33m,\u001b[0m \u001b[0mp\u001b[0m\u001b[1;33m=\u001b[0m\u001b[0mp\u001b[0m\u001b[1;33m,\u001b[0m \u001b[0mn\u001b[0m\u001b[1;33m=\u001b[0m\u001b[0mn\u001b[0m\u001b[1;33m,\u001b[0m \u001b[0mstate\u001b[0m\u001b[1;33m=\u001b[0m\u001b[0mstate\u001b[0m\u001b[1;33m)\u001b[0m\u001b[1;33m\u001b[0m\u001b[1;33m\u001b[0m\u001b[0m\n\u001b[0;32m      4\u001b[0m     ))\n",
      "\u001b[1;31mAssertionError\u001b[0m: "
     ]
    }
   ],
   "source": [
    "assert(np.allclose(\n",
    "    efss.seeding_ssr_q(state, np.exp(theta), n) @ p,\n",
    "    ssr.kronvec_seed(log_theta=theta, p=p, n=n, state=state)\n",
    "    ))"
   ]
  },
  {
   "cell_type": "code",
   "execution_count": 95,
   "metadata": {},
   "outputs": [
    {
     "data": {
      "text/plain": [
       "0.28954244194407924"
      ]
     },
     "execution_count": 95,
     "metadata": {},
     "output_type": "execute_result"
    }
   ],
   "source": [
    "np.exp(theta[0,0])"
   ]
  },
  {
   "cell_type": "code",
   "execution_count": null,
   "metadata": {},
   "outputs": [],
   "source": []
  }
 ],
 "metadata": {
  "kernelspec": {
   "display_name": "Python 3.10.4 ('mhn_env')",
   "language": "python",
   "name": "python3"
  },
  "language_info": {
   "codemirror_mode": {
    "name": "ipython",
    "version": 3
   },
   "file_extension": ".py",
   "mimetype": "text/x-python",
   "name": "python",
   "nbconvert_exporter": "python",
   "pygments_lexer": "ipython3",
   "version": "3.10.4"
  },
  "orig_nbformat": 4,
  "vscode": {
   "interpreter": {
    "hash": "d1d34784337de8a51d1ed90aa0183f57d21896d47267cb2c3ed056ab3c9f4b08"
   }
  }
 },
 "nbformat": 4,
 "nbformat_minor": 2
}
