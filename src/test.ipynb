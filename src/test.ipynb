{
 "cells": [
  {
   "cell_type": "code",
   "execution_count": 1,
   "metadata": {},
   "outputs": [],
   "source": [
    "import explicit_statetespace as efss\n",
    "import ssr_kronecker_vector as ssr\n",
    "import ssr_likelihood as ssr_lklhd\n",
    "import numpy as np\n"
   ]
  },
  {
   "cell_type": "code",
   "execution_count": 2,
   "metadata": {},
   "outputs": [],
   "source": [
    "n = 6\n",
    "npone = n + 1\n",
    "sparsity = 0.5\n",
    "log_theta = np.zeros((npone, npone))\n",
    "log_theta += np.diag(np.random.normal(size=npone))\n",
    "index = np.argwhere(log_theta == 0)[\n",
    "    np.random.choice(npone**2-npone, size=int((npone**2-npone)\n",
    "                     * (1-sparsity)), replace=True)\n",
    "]\n",
    "log_theta[index[:, 0], index[:, 1]] = np.random.normal(\n",
    "    size=int((npone**2-npone)*(1-sparsity)))\n"
   ]
  },
  {
   "cell_type": "code",
   "execution_count": 3,
   "metadata": {},
   "outputs": [
    {
     "data": {
      "text/plain": [
       "array([0, 1, 1, 0, 1, 0, 1, 0, 0, 0, 1, 1, 0])"
      ]
     },
     "execution_count": 3,
     "metadata": {},
     "output_type": "execute_result"
    }
   ],
   "source": [
    "state = np.random.randint(2, size=2*n+1)\n",
    "length = 2**sum(state)\n",
    "state\n"
   ]
  },
  {
   "cell_type": "code",
   "execution_count": 42,
   "metadata": {},
   "outputs": [],
   "source": [
    "# Test explicit ssr vs. shuffle trick ssr\n",
    "for j in range(length):\n",
    "    p = np.zeros(2**sum(state))\n",
    "    p[j] = 1\n",
    "    assert (np.allclose(\n",
    "        efss.ssr_build_q(dpoint=state, log_theta=log_theta) @ p,\n",
    "        ssr.kronvec(log_theta=log_theta, p=p, n=n, state=state)\n",
    "    ))\n"
   ]
  },
  {
   "cell_type": "code",
   "execution_count": 13,
   "metadata": {},
   "outputs": [],
   "source": [
    "mut = [state[j] + 2 * state[j + 1] for j in range(0, 2 * n, 2)]\n",
    "mut.append(state[-1])\n",
    "mut = np.array(mut)\n"
   ]
  },
  {
   "cell_type": "code",
   "execution_count": 26,
   "metadata": {},
   "outputs": [],
   "source": [
    "# Test explicit ssr vs. shuffle trick ssr in sync\n",
    "for j in range(length):\n",
    "    p = np.zeros(length)\n",
    "    p[j] = 1\n",
    "    for i in range(n):\n",
    "        assert (np.allclose(\n",
    "            efss.sync_ssr_q(mut=mut, theta=np.exp(log_theta), i=i, n=n) @ p,\n",
    "            ssr.kronvec_sync(log_theta=log_theta, p=p, n=n, i=i, state=state)\n",
    "        ))\n"
   ]
  },
  {
   "cell_type": "code",
   "execution_count": 27,
   "metadata": {},
   "outputs": [],
   "source": [
    "# Test explicit ssr vs. shuffle trick ssr in async prim\n",
    "for j in range(length):\n",
    "    p = np.zeros(length)\n",
    "    p[j] = 1\n",
    "    for i in range(n):\n",
    "        assert (np.allclose(\n",
    "            efss.prim_ssr_q(mut=mut, theta=np.exp(log_theta), i=i, n=n) @ p,\n",
    "            ssr.kronvec_prim(log_theta=log_theta, p=p, n=n, i=i, state=state)\n",
    "        ))\n"
   ]
  },
  {
   "cell_type": "code",
   "execution_count": 28,
   "metadata": {},
   "outputs": [],
   "source": [
    "# Test explicit ssr vs. shuffle trick ssr in async met\n",
    "for j in range(length):\n",
    "    p = np.zeros(length)\n",
    "    p[j] = 1\n",
    "    for i in range(n):\n",
    "        assert (np.allclose(\n",
    "            efss.met_ssr_q(mut=mut, theta=np.exp(log_theta), i=i, n=n) @ p,\n",
    "            ssr.kronvec_met(log_theta=log_theta, p=p, n=n, i=i, state=state)\n",
    "        ))\n"
   ]
  },
  {
   "cell_type": "code",
   "execution_count": 29,
   "metadata": {},
   "outputs": [],
   "source": [
    "# Test explicit ssr vs. shuffle trick ssr in seeding\n",
    "for j in range(length):\n",
    "    p = np.zeros(length)\n",
    "    p[j] = 1\n",
    "    assert (np.allclose(\n",
    "        efss.seeding_ssr_q(mut=mut, theta=np.exp(log_theta), n=n) @ p,\n",
    "        ssr.kronvec_seed(log_theta=log_theta, p=p, n=n, state=state)\n",
    "    ))\n"
   ]
  },
  {
   "cell_type": "code",
   "execution_count": 30,
   "metadata": {},
   "outputs": [],
   "source": [
    "# Test no diag\n",
    "for j in range(length):\n",
    "    p = np.zeros(2**sum(state))\n",
    "    p[j] = 1\n",
    "    q = ssr.kronvec(log_theta=log_theta, p=p, n=n, state=state)\n",
    "    q[j] = 0\n",
    "    assert (np.allclose(\n",
    "        q,\n",
    "        ssr.kronvec(log_theta=log_theta, p=p, n=n, state=state, diag=False)\n",
    "    ))\n"
   ]
  },
  {
   "cell_type": "code",
   "execution_count": 31,
   "metadata": {},
   "outputs": [],
   "source": [
    "# Test diag\n",
    "assert (np.allclose(\n",
    "    np.diag(efss.ssr_build_q(dpoint=state, log_theta=log_theta)),\n",
    "    ssr.kron_diag(log_theta=log_theta, n=n, state=state)\n",
    "))\n"
   ]
  },
  {
   "cell_type": "code",
   "execution_count": 34,
   "metadata": {},
   "outputs": [],
   "source": [
    "# Test R inverse\n",
    "for j in range(length):\n",
    "    p = np.zeros(2**sum(state))\n",
    "    p[j] = 1\n",
    "    assert (np.allclose(\n",
    "        np.linalg.inv(np.identity(\n",
    "            length) - efss.ssr_build_q(dpoint=state, log_theta=log_theta)) @ p,\n",
    "        ssr_lklhd.R_i_inv_vec(log_theta=log_theta, x=p, lam=1, state=state)\n",
    "    ))\n"
   ]
  },
  {
   "cell_type": "code",
   "execution_count": 40,
   "metadata": {},
   "outputs": [],
   "source": [
    "# Test transpose\n",
    "for j in range(length):\n",
    "    p = np.zeros(2**sum(state))\n",
    "    p[j] = 1\n",
    "    assert (np.allclose(\n",
    "        efss.ssr_build_q(dpoint=state, log_theta=log_theta).T @ p,\n",
    "        ssr.kronvec(log_theta=log_theta, p=p, n=n, state=state, transpose=True)\n",
    "    ))\n"
   ]
  }
 ],
 "metadata": {
  "kernelspec": {
   "display_name": "Python 3.10.4 ('mhn_env')",
   "language": "python",
   "name": "python3"
  },
  "language_info": {
   "codemirror_mode": {
    "name": "ipython",
    "version": 3
   },
   "file_extension": ".py",
   "mimetype": "text/x-python",
   "name": "python",
   "nbconvert_exporter": "python",
   "pygments_lexer": "ipython3",
   "version": "3.10.4"
  },
  "vscode": {
   "interpreter": {
    "hash": "d1d34784337de8a51d1ed90aa0183f57d21896d47267cb2c3ed056ab3c9f4b08"
   }
  }
 },
 "nbformat": 4,
 "nbformat_minor": 4
}
