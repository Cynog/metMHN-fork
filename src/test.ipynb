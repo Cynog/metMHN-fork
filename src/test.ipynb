{
 "cells": [
  {
   "cell_type": "code",
   "execution_count": 1,
   "metadata": {},
   "outputs": [],
   "source": [
    "import explicit_statetespace as efss\n",
    "import ssr_kronecker_vector as ssr\n",
    "import ssr_likelihood as ssr_lklhd\n",
    "import numpy as np\n"
   ]
  },
  {
   "cell_type": "code",
   "execution_count": 2,
   "metadata": {},
   "outputs": [],
   "source": [
    "n = 6\n",
    "npone = n + 1\n",
    "sparsity = 0.5\n",
    "log_theta = np.zeros((npone, npone))\n",
    "log_theta += np.diag(np.random.normal(size=npone))\n",
    "index = np.argwhere(log_theta == 0)[\n",
    "    np.random.choice(npone**2-npone, size=int((npone**2-npone)\n",
    "                     * (1-sparsity)), replace=True)\n",
    "]\n",
    "log_theta[index[:, 0], index[:, 1]] = np.random.normal(\n",
    "    size=int((npone**2-npone)*(1-sparsity)))\n"
   ]
  },
  {
   "cell_type": "code",
   "execution_count": 3,
   "metadata": {},
   "outputs": [
    {
     "data": {
      "text/plain": [
       "array([0, 0, 1, 1, 1, 0, 0, 1, 0, 0, 0, 0, 0])"
      ]
     },
     "execution_count": 3,
     "metadata": {},
     "output_type": "execute_result"
    }
   ],
   "source": [
    "state = np.random.randint(2, size=2*n+1)\n",
    "length = 2**sum(state)\n",
    "state\n"
   ]
  },
  {
   "cell_type": "code",
   "execution_count": 130,
   "metadata": {},
   "outputs": [],
   "source": [
    "# Test explicit ssr vs. shuffle trick ssr\n",
    "for j in range(length):\n",
    "    p = np.zeros(2**sum(state))\n",
    "    p[j] = 1\n",
    "    assert(np.allclose(\n",
    "        efss.ssr_build_q(state, np.exp(log_theta)) @ p,\n",
    "        ssr.kronvec(log_theta=log_theta, p=p, n=n, state=state)\n",
    "    ))\n"
   ]
  },
  {
   "cell_type": "code",
   "execution_count": 11,
   "metadata": {},
   "outputs": [],
   "source": [
    "mut = [state[j] + 2 * state[j + 1] for j in range(0, 2 * n, 2)]\n",
    "mut.append(state[-1])\n",
    "mut = np.array(mut)\n"
   ]
  },
  {
   "cell_type": "code",
   "execution_count": 5,
   "metadata": {},
   "outputs": [],
   "source": [
    "# Test explicit ssr vs. shuffle trick ssr in sync\n",
    "for j in range(length):\n",
    "    p = np.zeros(length)\n",
    "    p[j] = 1\n",
    "    for i in range(n):\n",
    "        assert(np.allclose(\n",
    "            efss.sync_ssr_q(mut=mut, theta=np.exp(log_theta), i=i, n=n) @ p,\n",
    "            ssr.kronvec_sync(log_theta=log_theta, p=p, n=n, i=i, state=state)\n",
    "        ))\n"
   ]
  },
  {
   "cell_type": "code",
   "execution_count": 6,
   "metadata": {},
   "outputs": [],
   "source": [
    "# Test explicit ssr vs. shuffle trick ssr in async prim\n",
    "for j in range(length):\n",
    "    p = np.zeros(length)\n",
    "    p[j] = 1\n",
    "    for i in range(n):\n",
    "        assert(np.allclose(\n",
    "            efss.prim_ssr_q(mut=mut, theta=np.exp(log_theta), i=i, n=n) @ p,\n",
    "            ssr.kronvec_prim(log_theta=log_theta, p=p, n=n, i=i, state=state)\n",
    "        ))\n"
   ]
  },
  {
   "cell_type": "code",
   "execution_count": 7,
   "metadata": {},
   "outputs": [],
   "source": [
    "# Test explicit ssr vs. shuffle trick ssr in async met\n",
    "for j in range(length):\n",
    "    p = np.zeros(length)\n",
    "    p[j] = 1\n",
    "    for i in range(n):\n",
    "        assert(np.allclose(\n",
    "            efss.met_ssr_q(mut=mut, theta=np.exp(log_theta), i=i, n=n) @ p,\n",
    "            ssr.kronvec_met(log_theta=log_theta, p=p, n=n, i=i, state=state)\n",
    "        ))\n"
   ]
  },
  {
   "cell_type": "code",
   "execution_count": 8,
   "metadata": {},
   "outputs": [],
   "source": [
    "# Test explicit ssr vs. shuffle trick ssr in seeding\n",
    "for j in range(length):\n",
    "    p = np.zeros(length)\n",
    "    p[j] = 1\n",
    "    assert(np.allclose(\n",
    "        efss.seeding_ssr_q(mut=mut, theta=np.exp(log_theta), n=n) @ p,\n",
    "        ssr.kronvec_seed(log_theta=log_theta, p=p, n=n, state=state)\n",
    "    ))\n"
   ]
  },
  {
   "cell_type": "code",
   "execution_count": 9,
   "metadata": {},
   "outputs": [],
   "source": [
    "# Test no diag\n",
    "for j in range(length):\n",
    "    p = np.zeros(2**sum(state))\n",
    "    p[j] = 1\n",
    "    q = ssr.kronvec(log_theta=log_theta, p=p, n=n, state=state)\n",
    "    q[j] = 0\n",
    "    assert(np.allclose(\n",
    "        q,\n",
    "        ssr.kronvec(log_theta=log_theta, p=p, n=n, state=state, diag=False)\n",
    "    ))\n"
   ]
  },
  {
   "cell_type": "code",
   "execution_count": 12,
   "metadata": {},
   "outputs": [
    {
     "ename": "TypeError",
     "evalue": "'>' not supported between instances of 'list' and 'int'",
     "output_type": "error",
     "traceback": [
      "\u001b[1;31m---------------------------------------------------------------------------\u001b[0m",
      "\u001b[1;31mTypeError\u001b[0m                                 Traceback (most recent call last)",
      "\u001b[1;32m~\\AppData\\Local\\Temp/ipykernel_7316/3755492698.py\u001b[0m in \u001b[0;36m<module>\u001b[1;34m\u001b[0m\n\u001b[0;32m      1\u001b[0m \u001b[1;31m# Test diag\u001b[0m\u001b[1;33m\u001b[0m\u001b[1;33m\u001b[0m\u001b[0m\n\u001b[0;32m      2\u001b[0m assert(np.allclose(\n\u001b[1;32m----> 3\u001b[1;33m     \u001b[0mnp\u001b[0m\u001b[1;33m.\u001b[0m\u001b[0mdiag\u001b[0m\u001b[1;33m(\u001b[0m\u001b[0mefss\u001b[0m\u001b[1;33m.\u001b[0m\u001b[0mssr_build_q\u001b[0m\u001b[1;33m(\u001b[0m\u001b[0mstate\u001b[0m\u001b[1;33m,\u001b[0m \u001b[0mnp\u001b[0m\u001b[1;33m.\u001b[0m\u001b[0mexp\u001b[0m\u001b[1;33m(\u001b[0m\u001b[0mlog_theta\u001b[0m\u001b[1;33m)\u001b[0m\u001b[1;33m)\u001b[0m\u001b[1;33m)\u001b[0m\u001b[1;33m,\u001b[0m\u001b[1;33m\u001b[0m\u001b[1;33m\u001b[0m\u001b[0m\n\u001b[0m\u001b[0;32m      4\u001b[0m     \u001b[0mssr\u001b[0m\u001b[1;33m.\u001b[0m\u001b[0mkron_diag\u001b[0m\u001b[1;33m(\u001b[0m\u001b[0mlog_theta\u001b[0m\u001b[1;33m=\u001b[0m\u001b[0mlog_theta\u001b[0m\u001b[1;33m,\u001b[0m \u001b[0mn\u001b[0m\u001b[1;33m=\u001b[0m\u001b[0mn\u001b[0m\u001b[1;33m,\u001b[0m \u001b[0mstate\u001b[0m\u001b[1;33m=\u001b[0m\u001b[0mstate\u001b[0m\u001b[1;33m)\u001b[0m\u001b[1;33m\u001b[0m\u001b[1;33m\u001b[0m\u001b[0m\n\u001b[0;32m      5\u001b[0m ))\n",
      "\u001b[1;32mc:\\Users\\Hu\\Documents\\MetaMHN\\src\\explicit_statetespace.py\u001b[0m in \u001b[0;36mssr_build_q\u001b[1;34m(dpoint, log_theta)\u001b[0m\n\u001b[0;32m    289\u001b[0m     \u001b[0mQ\u001b[0m \u001b[1;33m=\u001b[0m \u001b[0mnp\u001b[0m\u001b[1;33m.\u001b[0m\u001b[0mzeros\u001b[0m\u001b[1;33m(\u001b[0m\u001b[1;36m2\u001b[0m \u001b[1;33m**\u001b[0m \u001b[1;33m(\u001b[0m\u001b[0msum\u001b[0m\u001b[1;33m(\u001b[0m\u001b[0mdpoint\u001b[0m\u001b[1;33m)\u001b[0m\u001b[1;33m)\u001b[0m\u001b[1;33m)\u001b[0m\u001b[1;33m\u001b[0m\u001b[1;33m\u001b[0m\u001b[0m\n\u001b[0;32m    290\u001b[0m     \u001b[1;32mfor\u001b[0m \u001b[0mi\u001b[0m \u001b[1;32min\u001b[0m \u001b[0mrange\u001b[0m\u001b[1;33m(\u001b[0m\u001b[0mn\u001b[0m\u001b[1;33m)\u001b[0m\u001b[1;33m:\u001b[0m\u001b[1;33m\u001b[0m\u001b[1;33m\u001b[0m\u001b[0m\n\u001b[1;32m--> 291\u001b[1;33m         \u001b[0mQ\u001b[0m \u001b[1;33m=\u001b[0m \u001b[0mQ\u001b[0m \u001b[1;33m+\u001b[0m \u001b[0msync_ssr_q\u001b[0m\u001b[1;33m(\u001b[0m\u001b[0mmut\u001b[0m\u001b[1;33m,\u001b[0m \u001b[0mtheta\u001b[0m\u001b[1;33m,\u001b[0m \u001b[0mi\u001b[0m\u001b[1;33m,\u001b[0m \u001b[0mn\u001b[0m\u001b[1;33m)\u001b[0m \u001b[1;33m+\u001b[0m \u001b[0mmet_ssr_q\u001b[0m\u001b[1;33m(\u001b[0m\u001b[0mmut\u001b[0m\u001b[1;33m,\u001b[0m \u001b[0mtheta\u001b[0m\u001b[1;33m,\u001b[0m \u001b[0mi\u001b[0m\u001b[1;33m,\u001b[0m \u001b[0mn\u001b[0m\u001b[1;33m)\u001b[0m\u001b[0;31m \u001b[0m\u001b[0;31m\\\u001b[0m\u001b[1;33m\u001b[0m\u001b[1;33m\u001b[0m\u001b[0m\n\u001b[0m\u001b[0;32m    292\u001b[0m             \u001b[1;33m+\u001b[0m \u001b[0mprim_ssr_q\u001b[0m\u001b[1;33m(\u001b[0m\u001b[0mmut\u001b[0m\u001b[1;33m,\u001b[0m \u001b[0mtheta\u001b[0m\u001b[1;33m,\u001b[0m \u001b[0mi\u001b[0m\u001b[1;33m,\u001b[0m \u001b[0mn\u001b[0m\u001b[1;33m)\u001b[0m\u001b[1;33m\u001b[0m\u001b[1;33m\u001b[0m\u001b[0m\n\u001b[0;32m    293\u001b[0m     \u001b[1;32mreturn\u001b[0m \u001b[0mQ\u001b[0m \u001b[1;33m+\u001b[0m \u001b[0mseeding_ssr_q\u001b[0m\u001b[1;33m(\u001b[0m\u001b[0mmut\u001b[0m\u001b[1;33m,\u001b[0m \u001b[0mtheta\u001b[0m\u001b[1;33m,\u001b[0m \u001b[0mn\u001b[0m\u001b[1;33m)\u001b[0m\u001b[1;33m\u001b[0m\u001b[1;33m\u001b[0m\u001b[0m\n",
      "\u001b[1;32mc:\\Users\\Hu\\Documents\\MetaMHN\\src\\explicit_statetespace.py\u001b[0m in \u001b[0;36mmet_ssr_q\u001b[1;34m(mut, theta, i, n)\u001b[0m\n\u001b[0;32m    158\u001b[0m     \"\"\"\n\u001b[0;32m    159\u001b[0m     \u001b[1;32mif\u001b[0m \u001b[0mmut\u001b[0m\u001b[1;33m[\u001b[0m\u001b[1;33m-\u001b[0m\u001b[1;36m1\u001b[0m\u001b[1;33m]\u001b[0m \u001b[1;33m==\u001b[0m \u001b[1;36m0\u001b[0m\u001b[1;33m:\u001b[0m\u001b[1;33m\u001b[0m\u001b[1;33m\u001b[0m\u001b[0m\n\u001b[1;32m--> 160\u001b[1;33m         \u001b[1;32mreturn\u001b[0m \u001b[0mnp\u001b[0m\u001b[1;33m.\u001b[0m\u001b[0mzeros\u001b[0m\u001b[1;33m(\u001b[0m\u001b[1;33m(\u001b[0m\u001b[1;36m2\u001b[0m \u001b[1;33m**\u001b[0m \u001b[1;33m(\u001b[0m\u001b[0mnp\u001b[0m\u001b[1;33m.\u001b[0m\u001b[0mcount_nonzero\u001b[0m\u001b[1;33m(\u001b[0m\u001b[0mmut\u001b[0m \u001b[1;33m>\u001b[0m \u001b[1;36m0\u001b[0m\u001b[1;33m)\u001b[0m\u001b[1;33m)\u001b[0m\u001b[1;33m)\u001b[0m \u001b[1;33m*\u001b[0m \u001b[1;33m(\u001b[0m\u001b[1;36m2\u001b[0m \u001b[1;33m**\u001b[0m \u001b[0mnp\u001b[0m\u001b[1;33m.\u001b[0m\u001b[0mcount_nonzero\u001b[0m\u001b[1;33m(\u001b[0m\u001b[0mmut\u001b[0m \u001b[1;33m==\u001b[0m \u001b[1;36m3\u001b[0m\u001b[1;33m)\u001b[0m\u001b[1;33m)\u001b[0m\u001b[1;33m)\u001b[0m\u001b[1;33m\u001b[0m\u001b[1;33m\u001b[0m\u001b[0m\n\u001b[0m\u001b[0;32m    161\u001b[0m     \u001b[0mmetL\u001b[0m \u001b[1;33m=\u001b[0m \u001b[0mnp\u001b[0m\u001b[1;33m.\u001b[0m\u001b[0mdiag\u001b[0m\u001b[1;33m(\u001b[0m\u001b[1;33m[\u001b[0m\u001b[1;33m-\u001b[0m\u001b[1;36m1\u001b[0m\u001b[1;33m,\u001b[0m \u001b[1;33m-\u001b[0m\u001b[1;36m1\u001b[0m\u001b[1;33m,\u001b[0m \u001b[1;36m0\u001b[0m\u001b[1;33m,\u001b[0m \u001b[1;36m0\u001b[0m\u001b[1;33m]\u001b[0m\u001b[1;33m)\u001b[0m\u001b[1;33m\u001b[0m\u001b[1;33m\u001b[0m\u001b[0m\n\u001b[0;32m    162\u001b[0m     \u001b[0mmetL\u001b[0m\u001b[1;33m[\u001b[0m\u001b[1;36m2\u001b[0m\u001b[1;33m,\u001b[0m \u001b[1;36m0\u001b[0m\u001b[1;33m]\u001b[0m \u001b[1;33m=\u001b[0m \u001b[1;36m1\u001b[0m\u001b[1;33m\u001b[0m\u001b[1;33m\u001b[0m\u001b[0m\n",
      "\u001b[1;31mTypeError\u001b[0m: '>' not supported between instances of 'list' and 'int'"
     ]
    }
   ],
   "source": [
    "# Test diag\n",
    "assert(np.allclose(\n",
    "    np.diag(efss.ssr_build_q(state, np.exp(log_theta))),\n",
    "    ssr.kron_diag(log_theta=log_theta, n=n, state=state)\n",
    "))\n"
   ]
  },
  {
   "cell_type": "code",
   "execution_count": 11,
   "metadata": {},
   "outputs": [],
   "source": [
    "# Test R inverse\n",
    "for j in range(length):\n",
    "    p = np.zeros(2**sum(state))\n",
    "    p[j] = 1\n",
    "    assert(np.allclose(\n",
    "        np.linalg.inv(np.identity(\n",
    "            length) - efss.ssr_build_q(dpoint=state, theta=np.exp(log_theta))) @ p,\n",
    "        ssr_lklhd.R_i_inv_vec(log_theta=log_theta, x=p, lam=1, state=state)\n",
    "    ))\n"
   ]
  }
 ],
 "metadata": {
  "kernelspec": {
   "display_name": "Python 3 (ipykernel)",
   "language": "python",
   "name": "python3"
  },
  "language_info": {
   "codemirror_mode": {
    "name": "ipython",
    "version": 3
   },
   "file_extension": ".py",
   "mimetype": "text/x-python",
   "name": "python",
   "nbconvert_exporter": "python",
   "pygments_lexer": "ipython3",
   "version": "3.9.7"
  },
  "vscode": {
   "interpreter": {
    "hash": "a8ffae459ed44daffea6f44829d1b43eb0d7c45549ab6711ec1626c23ec43bc9"
   }
  }
 },
 "nbformat": 4,
 "nbformat_minor": 4
}
