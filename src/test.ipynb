{
 "cells": [
  {
   "cell_type": "code",
   "execution_count": 1,
   "metadata": {},
   "outputs": [],
   "source": [
    "import explicit_statetespace as efss\n",
    "import ssr_kronecker_vector as ssr\n",
    "import ssr_likelihood as ssr_lklhd\n",
    "import numpy as np\n"
   ]
  },
  {
   "cell_type": "code",
   "execution_count": 2,
   "metadata": {},
   "outputs": [],
   "source": [
    "n = 3\n",
    "npone = n + 1\n",
    "sparsity = 0.5\n",
    "log_theta = np.zeros((npone, npone))\n",
    "log_theta += np.diag(np.random.normal(size=npone))\n",
    "index = np.argwhere(log_theta == 0)[\n",
    "    np.random.choice(npone**2-npone, size=int((npone**2-npone)\n",
    "                     * (1-sparsity)), replace=True)\n",
    "]\n",
    "log_theta[index[:, 0], index[:, 1]] = np.random.normal(\n",
    "    size=int((npone**2-npone)*(1-sparsity)))\n"
   ]
  },
  {
   "cell_type": "code",
   "execution_count": 3,
   "metadata": {},
   "outputs": [
    {
     "data": {
      "text/plain": [
       "array([1, 1, 1, 1, 0, 1, 0])"
      ]
     },
     "execution_count": 3,
     "metadata": {},
     "output_type": "execute_result"
    }
   ],
   "source": [
    "state = np.random.randint(2, size=2*n+1)\n",
    "length = 2**sum(state)\n",
    "state\n"
   ]
  },
  {
   "cell_type": "code",
   "execution_count": 130,
   "metadata": {},
   "outputs": [],
   "source": [
    "# Test explicit ssr vs. shuffle trick ssr\n",
    "for j in range(length):\n",
    "    p = np.zeros(2**sum(state))\n",
    "    p[j] = 1\n",
    "    assert(np.allclose(\n",
    "        efss.ssr_build_q(state, np.exp(log_theta)) @ p,\n",
    "        ssr.kronvec(log_theta=log_theta, p=p, n=n, state=state)\n",
    "    ))\n"
   ]
  },
  {
   "cell_type": "code",
   "execution_count": 4,
   "metadata": {},
   "outputs": [],
   "source": [
    "mut = [state[j] + 2 * state[j + 1] for j in range(0, 2 * n, 2)]\n",
    "mut.append(state[-1])\n",
    "mut = np.array(mut)\n"
   ]
  },
  {
   "cell_type": "code",
   "execution_count": 132,
   "metadata": {},
   "outputs": [],
   "source": [
    "# Test explicit ssr vs. shuffle trick ssr in sync\n",
    "for j in range(length):\n",
    "    p = np.zeros(length)\n",
    "    p[j] = 1\n",
    "    for i in range(n):\n",
    "        assert(np.allclose(\n",
    "            efss.sync_ssr_q(mut=mut, theta=np.exp(log_theta), i=i, n=n) @ p,\n",
    "            ssr.kronvec_sync(log_theta=log_theta, p=p, n=n, i=i, state=state)\n",
    "        ))\n"
   ]
  },
  {
   "cell_type": "code",
   "execution_count": 133,
   "metadata": {},
   "outputs": [],
   "source": [
    "# Test explicit ssr vs. shuffle trick ssr in async prim\n",
    "for j in range(length):\n",
    "    p = np.zeros(length)\n",
    "    p[j] = 1\n",
    "    for i in range(n):\n",
    "        assert(np.allclose(\n",
    "            efss.prim_ssr_q(mut=mut, theta=np.exp(log_theta), i=i, n=n) @ p,\n",
    "            ssr.kronvec_prim(log_theta=log_theta, p=p, n=n, i=i, state=state)\n",
    "        ))\n"
   ]
  },
  {
   "cell_type": "code",
   "execution_count": 134,
   "metadata": {},
   "outputs": [],
   "source": [
    "# Test explicit ssr vs. shuffle trick ssr in async met\n",
    "for j in range(length):\n",
    "    p = np.zeros(length)\n",
    "    p[j] = 1\n",
    "    for i in range(n):\n",
    "        assert(np.allclose(\n",
    "            efss.met_ssr_q(mut=mut, theta=np.exp(log_theta), i=i, n=n) @ p,\n",
    "            ssr.kronvec_met(log_theta=log_theta, p=p, n=n, i=i, state=state)\n",
    "        ))\n"
   ]
  },
  {
   "cell_type": "code",
   "execution_count": 135,
   "metadata": {},
   "outputs": [],
   "source": [
    "# Test explicit ssr vs. shuffle trick ssr in seeding\n",
    "for j in range(length):\n",
    "    p = np.zeros(length)\n",
    "    p[j] = 1\n",
    "    assert(np.allclose(\n",
    "        efss.seeding_ssr_q(mut=mut, theta=np.exp(log_theta), n=n) @ p,\n",
    "        ssr.kronvec_seed(log_theta=log_theta, p=p, n=n, state=state)\n",
    "    ))\n"
   ]
  },
  {
   "cell_type": "code",
   "execution_count": 136,
   "metadata": {},
   "outputs": [],
   "source": [
    "# Test no diag\n",
    "for j in range(length):\n",
    "    p = np.zeros(2**sum(state))\n",
    "    p[j] = 1\n",
    "    q = ssr.kronvec(log_theta=log_theta, p=p, n=n, state=state)\n",
    "    q[j] = 0\n",
    "    assert(np.allclose(\n",
    "        q,\n",
    "        ssr.kronvec(log_theta=log_theta, p=p, n=n, state=state, diag=False)\n",
    "    ))\n"
   ]
  },
  {
   "cell_type": "code",
   "execution_count": 137,
   "metadata": {},
   "outputs": [],
   "source": [
    "# Test diag\n",
    "assert(np.allclose(\n",
    "    np.diag(efss.ssr_build_q(state, np.exp(log_theta))),\n",
    "    ssr.kron_diag(log_theta=log_theta, n=n, state=state)\n",
    "))\n"
   ]
  },
  {
   "cell_type": "code",
   "execution_count": 5,
   "metadata": {},
   "outputs": [
    {
     "ename": "AssertionError",
     "evalue": "",
     "output_type": "error",
     "traceback": [
      "\u001b[1;31m---------------------------------------------------------------------------\u001b[0m",
      "\u001b[1;31mAssertionError\u001b[0m                            Traceback (most recent call last)",
      "Cell \u001b[1;32mIn [5], line 5\u001b[0m\n\u001b[0;32m      3\u001b[0m p \u001b[39m=\u001b[39m np\u001b[39m.\u001b[39mzeros(\u001b[39m2\u001b[39m\u001b[39m*\u001b[39m\u001b[39m*\u001b[39m\u001b[39msum\u001b[39m(state))\n\u001b[0;32m      4\u001b[0m p[j] \u001b[39m=\u001b[39m \u001b[39m1\u001b[39m\n\u001b[1;32m----> 5\u001b[0m \u001b[39massert\u001b[39;00m(np\u001b[39m.\u001b[39mallclose(\n\u001b[0;32m      6\u001b[0m     np\u001b[39m.\u001b[39mlinalg\u001b[39m.\u001b[39minv(np\u001b[39m.\u001b[39midentity(length) \u001b[39m-\u001b[39m efss\u001b[39m.\u001b[39mssr_build_q(dpoint\u001b[39m=\u001b[39mstate, theta\u001b[39m=\u001b[39mnp\u001b[39m.\u001b[39mexp(log_theta)) \u001b[39m@\u001b[39m p),\n\u001b[0;32m      7\u001b[0m     ssr_lklhd\u001b[39m.\u001b[39mR_i_inv_vec(log_theta\u001b[39m=\u001b[39mlog_theta, x\u001b[39m=\u001b[39mp, lam\u001b[39m=\u001b[39m\u001b[39m1\u001b[39m, state\u001b[39m=\u001b[39mstate)\n\u001b[0;32m      8\u001b[0m ))\n",
      "\u001b[1;31mAssertionError\u001b[0m: "
     ]
    }
   ],
   "source": [
    "# Test R inverse\n",
    "for j in range(length):\n",
    "    p = np.zeros(2**sum(state))\n",
    "    p[j] = 1\n",
    "    assert(np.allclose(\n",
    "        np.linalg.inv(np.identity(length) - efss.ssr_build_q(dpoint=state, theta=np.exp(log_theta)) @ p),\n",
    "        ssr_lklhd.R_i_inv_vec(log_theta=log_theta, x=p, lam=1, state=state)\n",
    "    ))\n",
    "\n"
   ]
  },
  {
   "cell_type": "code",
   "execution_count": 7,
   "metadata": {},
   "outputs": [
    {
     "data": {
      "text/plain": [
       "array([[ 0.01904118,  0.        ,  0.        , ...,  0.        ,\n",
       "         0.        ,  0.        ],\n",
       "       [-0.98095882,  1.        ,  0.        , ...,  0.        ,\n",
       "         0.        ,  0.        ],\n",
       "       [-0.98095882,  0.        ,  1.        , ...,  0.        ,\n",
       "         0.        ,  0.        ],\n",
       "       ...,\n",
       "       [-0.98095882,  0.        ,  0.        , ...,  1.        ,\n",
       "         0.        ,  0.        ],\n",
       "       [-0.98095882,  0.        ,  0.        , ...,  0.        ,\n",
       "         1.        ,  0.        ],\n",
       "       [-0.98095882,  0.        ,  0.        , ...,  0.        ,\n",
       "         0.        ,  1.        ]])"
      ]
     },
     "execution_count": 7,
     "metadata": {},
     "output_type": "execute_result"
    }
   ],
   "source": [
    "np.linalg.inv(np.identity(length) - efss.ssr_build_q(dpoint=state, theta=np.exp(log_theta)) @ p)"
   ]
  },
  {
   "cell_type": "code",
   "execution_count": 8,
   "metadata": {},
   "outputs": [
    {
     "data": {
      "text/plain": [
       "array([-0.07282017, -0.        , -0.        , -0.        , -0.        ,\n",
       "       -0.        ,  0.003226  , -0.        , -0.        , -0.        ,\n",
       "       -0.        , -0.        , -0.        , -0.        , -0.        ,\n",
       "       -0.        , -0.        , -0.        , -0.        , -0.        ,\n",
       "       -0.        , -0.        , -0.        , -0.        , -0.        ,\n",
       "       -0.        , -0.        , -0.        , -0.        , -0.        ,\n",
       "       -0.        , -0.        , -0.        , -0.        , -0.        ,\n",
       "       -0.        , -0.        , -0.        , -0.        , -0.        ,\n",
       "       -0.        , -0.        , -0.        , -0.        , -0.        ,\n",
       "       -0.        , -0.        , -0.        , -0.        , -0.        ,\n",
       "       -0.        , -0.        , -0.        , -0.        , -0.        ,\n",
       "       -0.        , -0.        , -0.        , -0.        , -0.        ,\n",
       "       -0.        , -0.        , -0.        , -0.        , -0.        ,\n",
       "       -0.        , -0.        , -0.        , -0.        , -0.        ,\n",
       "       -0.        , -0.        , -0.        , -0.        , -0.        ,\n",
       "       -0.        , -0.        , -0.        , -0.        , -0.        ,\n",
       "       -0.        , -0.        , -0.        , -0.        , -0.        ,\n",
       "       -0.        , -0.        , -0.        , -0.        , -0.        ,\n",
       "       -0.        , -0.        , -0.        , -0.        , -0.        ,\n",
       "       -0.        , -0.        , -0.        , -0.        , -0.        ,\n",
       "       -0.        , -0.        , -0.        , -0.        , -0.        ,\n",
       "       -0.        , -0.        , -0.        , -0.        , -0.        ,\n",
       "       -0.        , -0.        , -0.        , -0.        , -0.        ,\n",
       "       -0.        , -0.        , -0.        , -0.        , -0.        ,\n",
       "       -0.        , -0.        , -0.        , -0.        , -0.        ,\n",
       "       -0.        , -0.        , -0.        ])"
      ]
     },
     "execution_count": 8,
     "metadata": {},
     "output_type": "execute_result"
    }
   ],
   "source": [
    "ssr_lklhd.R_i_inv_vec(log_theta=log_theta, x=p, lam=1, state=state)"
   ]
  }
 ],
 "metadata": {
  "kernelspec": {
   "display_name": "Python 3.10.4 ('mhn_env')",
   "language": "python",
   "name": "python3"
  },
  "language_info": {
   "codemirror_mode": {
    "name": "ipython",
    "version": 3
   },
   "file_extension": ".py",
   "mimetype": "text/x-python",
   "name": "python",
   "nbconvert_exporter": "python",
   "pygments_lexer": "ipython3",
   "version": "3.10.4"
  },
  "orig_nbformat": 4,
  "vscode": {
   "interpreter": {
    "hash": "d1d34784337de8a51d1ed90aa0183f57d21896d47267cb2c3ed056ab3c9f4b08"
   }
  }
 },
 "nbformat": 4,
 "nbformat_minor": 2
}
