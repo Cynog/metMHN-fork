{
 "cells": [
  {
   "cell_type": "code",
   "execution_count": 34,
   "metadata": {},
   "outputs": [],
   "source": [
    "import jax.numpy as jnp\n",
    "from jax import vmap, jit, lax\n",
    "\n",
    "theta = 10\n",
    "q = jnp.array([0., 0., 1., 0.])\n",
    "\n",
    "\n",
    "def k(p, theta):\n",
    "    p = p.reshape((-1, 2), order=\"C\")\n",
    "    p = p @ jnp.array([[-theta, theta], [0., 0.]])\n",
    "    return p.flatten(order=\"F\")\n",
    "\n",
    "\n",
    "zero = jnp.array([0])\n",
    "\n",
    "\n",
    "@jit\n",
    "def g(l):\n",
    "    return lax.switch(\n",
    "        index=zero.at[l].get(),\n",
    "        branches=[\n",
    "            lambda: k(p=q, theta=jnp.exp(theta)),\n",
    "            lambda: k(p=q, theta=jnp.exp(theta)),\n",
    "        ]\n",
    "    )\n"
   ]
  },
  {
   "cell_type": "code",
   "execution_count": 35,
   "metadata": {},
   "outputs": [
    {
     "data": {
      "text/plain": [
       "Array([[     0., -22032.,      0.,  22032.],\n",
       "       [     0., -22032.,      0.,  22032.]], dtype=float32)"
      ]
     },
     "execution_count": 35,
     "metadata": {},
     "output_type": "execute_result"
    }
   ],
   "source": [
    "vmap(g, in_axes=0, out_axes=0)(jnp.array([0, 0]))\n"
   ]
  },
  {
   "cell_type": "code",
   "execution_count": 36,
   "metadata": {},
   "outputs": [
    {
     "data": {
      "text/plain": [
       "Array([[     0.   , -22026.465,      0.   ,  22026.465]], dtype=float32)"
      ]
     },
     "execution_count": 36,
     "metadata": {},
     "output_type": "execute_result"
    }
   ],
   "source": [
    "vmap(g, in_axes=0, out_axes=0)(jnp.array([0]))\n"
   ]
  },
  {
   "cell_type": "code",
   "execution_count": 37,
   "metadata": {},
   "outputs": [
    {
     "data": {
      "text/plain": [
       "Array([     0.   , -22026.465,      0.   ,  22026.465], dtype=float32)"
      ]
     },
     "execution_count": 37,
     "metadata": {},
     "output_type": "execute_result"
    }
   ],
   "source": [
    "g(0)\n"
   ]
  }
 ],
 "metadata": {
  "kernelspec": {
   "display_name": "mhn_env",
   "language": "python",
   "name": "python3"
  },
  "language_info": {
   "codemirror_mode": {
    "name": "ipython",
    "version": 3
   },
   "file_extension": ".py",
   "mimetype": "text/x-python",
   "name": "python",
   "nbconvert_exporter": "python",
   "pygments_lexer": "ipython3",
   "version": "3.10.4 (main, Jun 29 2022, 12:14:53) [GCC 11.2.0]"
  },
  "orig_nbformat": 4,
  "vscode": {
   "interpreter": {
    "hash": "ecddef08bd0201a48c15facb027c79ce06b7ec5565c4be0cca86d31ca4176c66"
   }
  }
 },
 "nbformat": 4,
 "nbformat_minor": 2
}
