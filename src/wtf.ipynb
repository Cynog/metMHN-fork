{
 "cells": [
  {
   "cell_type": "code",
   "execution_count": 43,
   "metadata": {},
   "outputs": [],
   "source": [
    "import jax.numpy as jnp\n",
    "from jax import vmap, jit, lax\n",
    "\n",
    "theta = 0.12345\n",
    "q = jnp.array([0., 0., 1., 0.])\n",
    "\n",
    "def k(p, theta):\n",
    "    p = p.reshape((-1,2), order=\"C\")\n",
    "    p = p @ jnp.array([[-theta, theta], [0., 0.]])\n",
    "    return p.flatten(order=\"F\")\n",
    "\n",
    "zero = jnp.array([0])\n",
    "\n",
    "@jit\n",
    "def g(l):\n",
    "    return lax.switch(\n",
    "            index=zero.at[l].get(),\n",
    "            branches=[\n",
    "                lambda: k(p=q, theta=jnp.exp(1.2345)),\n",
    "                lambda: k(p=q, theta=jnp.exp(1.2345)),\n",
    "            ]\n",
    "        )"
   ]
  },
  {
   "cell_type": "code",
   "execution_count": 44,
   "metadata": {},
   "outputs": [
    {
     "data": {
      "text/plain": [
       "Array([[ 0.    , -3.4375,  0.    ,  3.4375],\n",
       "       [ 0.    , -3.4375,  0.    ,  3.4375]], dtype=float32)"
      ]
     },
     "execution_count": 44,
     "metadata": {},
     "output_type": "execute_result"
    }
   ],
   "source": [
    "vmap(g, in_axes=0, out_axes=0)(jnp.array([0, 0]))"
   ]
  },
  {
   "cell_type": "code",
   "execution_count": 45,
   "metadata": {},
   "outputs": [
    {
     "data": {
      "text/plain": [
       "Array([[ 0.     , -3.43666,  0.     ,  3.43666]], dtype=float32)"
      ]
     },
     "execution_count": 45,
     "metadata": {},
     "output_type": "execute_result"
    }
   ],
   "source": [
    "vmap(g, in_axes=0, out_axes=0)(jnp.array([0]))"
   ]
  },
  {
   "cell_type": "code",
   "execution_count": 36,
   "metadata": {},
   "outputs": [
    {
     "data": {
      "text/plain": [
       "Array([0., 1., 0., 0.], dtype=float32)"
      ]
     },
     "execution_count": 36,
     "metadata": {},
     "output_type": "execute_result"
    }
   ],
   "source": [
    "g(0)"
   ]
  }
 ],
 "metadata": {
  "kernelspec": {
   "display_name": "mhn_env",
   "language": "python",
   "name": "python3"
  },
  "language_info": {
   "codemirror_mode": {
    "name": "ipython",
    "version": 3
   },
   "file_extension": ".py",
   "mimetype": "text/x-python",
   "name": "python",
   "nbconvert_exporter": "python",
   "pygments_lexer": "ipython3",
   "version": "3.10.4"
  },
  "orig_nbformat": 4,
  "vscode": {
   "interpreter": {
    "hash": "ecddef08bd0201a48c15facb027c79ce06b7ec5565c4be0cca86d31ca4176c66"
   }
  }
 },
 "nbformat": 4,
 "nbformat_minor": 2
}
