{
 "cells": [
  {
   "cell_type": "code",
   "execution_count": 1,
   "metadata": {},
   "outputs": [],
   "source": [
    "import ssr_kronecker_vector as ssr_kv\n",
    "import ssr_kronvec_jax as ssr_kv_jx\n",
    "import ssr_likelihood_jax as ssr_jx\n",
    "import ssr_likelihood as ssr\n",
    "import Utilityfunctions as utils\n",
    "import numpy as np\n",
    "import unittest\n",
    "import jax.numpy as jnp\n",
    "import jax\n",
    "from jax import vmap, jit\n"
   ]
  },
  {
   "cell_type": "code",
   "execution_count": 2,
   "metadata": {},
   "outputs": [],
   "source": [
    "n = 1\n",
    "log_theta = utils.random_theta(n, 0.4)\n",
    "lam1 = np.random.exponential(10, 1)\n",
    "lam2 = np.random.exponential(10, 1)\n",
    "state_size = 2\n",
    "state = np.random.choice(\n",
    "    [1] * state_size + [0] * (2 * n + 1 - state_size), size=2*n+1, replace=False)\n",
    "state = np.array([1, 0, 1])\n"
   ]
  },
  {
   "cell_type": "code",
   "execution_count": 3,
   "metadata": {},
   "outputs": [],
   "source": [
    "i = 3\n",
    "j = 2\n",
    "p, q = np.zeros(1 << state_size), np.zeros(\n",
    "    1 << state_size)\n",
    "p[i], q[j] = 1, 1"
   ]
  },
  {
   "cell_type": "code",
   "execution_count": 4,
   "metadata": {},
   "outputs": [],
   "source": [
    "def f(z, i):\n",
    "    return ssr_kv_jx.kronvec_prim(\n",
    "        log_theta=jnp.array(log_theta),\n",
    "        p=jnp.array(q), i=i, n=n, state=jnp.array(state))"
   ]
  },
  {
   "cell_type": "code",
   "execution_count": 5,
   "metadata": {},
   "outputs": [],
   "source": [
    "z=jnp.zeros((n,n))"
   ]
  },
  {
   "cell_type": "code",
   "execution_count": 6,
   "metadata": {},
   "outputs": [
    {
     "data": {
      "text/plain": [
       "Array([ 0.       ,  0.       , -0.7804279,  0.7804279], dtype=float32)"
      ]
     },
     "execution_count": 6,
     "metadata": {},
     "output_type": "execute_result"
    }
   ],
   "source": [
    "f(z[0, :], 0)"
   ]
  },
  {
   "cell_type": "code",
   "execution_count": 7,
   "metadata": {},
   "outputs": [
    {
     "data": {
      "text/plain": [
       "Array([[ 0.        ,  0.        , -0.78027344,  0.78027344],\n",
       "       [ 0.        ,  0.        , -0.78027344,  0.78027344]],      dtype=float32)"
      ]
     },
     "execution_count": 7,
     "metadata": {},
     "output_type": "execute_result"
    }
   ],
   "source": [
    "vmap(f, in_axes=(0,0), out_axes=0)(z[[0,1],:], jnp.array([0, 0]))"
   ]
  },
  {
   "cell_type": "code",
   "execution_count": 8,
   "metadata": {},
   "outputs": [
    {
     "data": {
      "text/plain": [
       "Array([[ 0.       ,  0.       , -0.7804279,  0.7804279]], dtype=float32)"
      ]
     },
     "execution_count": 8,
     "metadata": {},
     "output_type": "execute_result"
    }
   ],
   "source": [
    "vmap(f, in_axes=(0,0), out_axes=0)(z[[0],:], jnp.array([0]))"
   ]
  }
 ],
 "metadata": {
  "kernelspec": {
   "display_name": "mhn_env",
   "language": "python",
   "name": "python3"
  },
  "language_info": {
   "codemirror_mode": {
    "name": "ipython",
    "version": 3
   },
   "file_extension": ".py",
   "mimetype": "text/x-python",
   "name": "python",
   "nbconvert_exporter": "python",
   "pygments_lexer": "ipython3",
   "version": "3.10.4 (main, Jun 29 2022, 12:14:53) [GCC 11.2.0]"
  },
  "orig_nbformat": 4,
  "vscode": {
   "interpreter": {
    "hash": "ecddef08bd0201a48c15facb027c79ce06b7ec5565c4be0cca86d31ca4176c66"
   }
  }
 },
 "nbformat": 4,
 "nbformat_minor": 2
}
