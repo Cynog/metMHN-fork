{
 "cells": [
  {
   "cell_type": "code",
   "execution_count": null,
   "metadata": {},
   "outputs": [],
   "source": [
    "import pandas as pd\n",
    "import scipy.optimize as opt\n",
    "import regularized_optimization as reg_opt\n",
    "import Utilityfunctions as utils\n",
    "import jax.numpy as jnp\n",
    "import numpy as np\n",
    "import jax as jax\n",
    "import matplotlib.pyplot as plt\n",
    "jax.config.update(\"jax_enable_x64\", True)"
   ]
  },
  {
   "cell_type": "code",
   "execution_count": null,
   "metadata": {},
   "outputs": [],
   "source": [
    "mut_handle = \"../data/G12_PAADPANET_PM_z10_EventsAEP.csv\"\n",
    "#mut_handle = \"../data/G12_PAADPANET_PM_z10_Events_Mut50_OnlyPaired.csv\"\n",
    "annot_handle = \"../data/sampleSelection.txt\"\n",
    "annot_data = pd.read_csv(annot_handle, sep=\"\\t\")\n",
    "mut_data = pd.read_csv(mut_handle)\n",
    "mut_data.rename(columns={\"Unnamed: 0\":\"patientID\"}, inplace = True)\n",
    "dat = pd.merge(mut_data, annot_data.loc[:, ['patientID', 'metaStatus']], on=[\"patientID\", \"patientID\"])\n",
    "# Remove datapoints, that consist solely of NaNs\n",
    "dat = dat.loc[dat.iloc[:,1:-3].isna().all(axis=1) == False, :]\n",
    "dat = dat.loc[(dat.iloc[:,1:-3].sum(axis=1) > 0), :]\n",
    "dat2 = dat.copy()\n",
    "dat"
   ]
  },
  {
   "cell_type": "code",
   "execution_count": null,
   "metadata": {},
   "outputs": [],
   "source": [
    "dat2[\"Seeding\"] = 0\n",
    "dat2.loc[dat2.paired==True, 'Seeding'] = 1\n",
    "dat2.loc[(dat2.paired == False) & (dat2.metaStatus == \"absent\"), \"Seeding\"] = 0\n",
    "dat2.loc[(dat2.paired == False) & (dat2.metaStatus == \"present\"),'Seeding'] = 1\n",
    "dat2.loc[(dat2.paired == False) & (dat2.metaStatus == \"isMetastasis\"), 'Seeding'] = 1"
   ]
  },
  {
   "cell_type": "code",
   "execution_count": null,
   "metadata": {},
   "outputs": [],
   "source": [
    "def co_oc_mat(dat, events):\n",
    "    n_events = events.shape[0]\n",
    "    co_oc = np.full((n_events, n_events), np.NAN)\n",
    "    for i in range(n_events):\n",
    "        for j in range(i+1):\n",
    "            co_oc[i, j] = dat.loc[(dat[events[i]] == 1) & (dat[events[j]] == 1),:].shape[0]\n",
    "    return co_oc/dat.shape[0]"
   ]
  },
  {
   "cell_type": "code",
   "execution_count": null,
   "metadata": {},
   "outputs": [],
   "source": [
    "# Events in primary tumors\n",
    "events_prim = np.append(np.array(dat2.columns[1:-5:2]), [\"Seeding\"])\n",
    "dat_ps = dat2.loc[dat2.metaStatus == \"absent\", : ]\n",
    "co_oc_ps = co_oc_mat(dat_ps, events_prim)\n",
    "dat_ps_ms = dat2.loc[dat2.metaStatus == \"present\", : ]\n",
    "co_oc_ms = co_oc_mat(dat_ps_ms, events_prim) \n",
    "dat_mt = dat2.loc[dat2.metaStatus == \"isMetastasis\", : ]\n",
    "events_met = np.append(np.array(dat2.columns[2:-5:2]), [\"Seeding\"])\n",
    "co_oc_mt = co_oc_mat(dat_mt, events_met)\n",
    "co_oc_ms.shape"
   ]
  },
  {
   "cell_type": "code",
   "execution_count": null,
   "metadata": {},
   "outputs": [],
   "source": [
    "# Metastases\n",
    "f, ax = plt.subplots(figsize=(19,15))\n",
    "ax.matshow(co_oc_mt)\n",
    "plt.xticks(range(co_oc_mt.shape[1]), events_met, fontsize=14, rotation=90)\n",
    "plt.yticks(range(co_oc_mt.shape[1]), events_met, fontsize=14)\n",
    "current_cmap = plt.cm.get_cmap()\n",
    "current_cmap.set_bad(color='red')\n",
    "#cb = ax.colorbar()\n",
    "#cb.ax.tick_params(labelsize=14)\n",
    "for i in range(events_met.shape[0]):\n",
    "    for j in range(i+1):\n",
    "        c = np.round(co_oc_mt[i,j], 2)\n",
    "        ax.text(j, i, str(c), va='center', ha='center')\n",
    "plt.show()\n"
   ]
  },
  {
   "cell_type": "code",
   "execution_count": null,
   "metadata": {},
   "outputs": [],
   "source": [
    "# Prims with metastases\n",
    "f, ax = plt.subplots(figsize=(19,15))#plt.figure(figsize=(19, 15))\n",
    "ax.matshow(co_oc_ms)\n",
    "plt.xticks(range(co_oc_ms.shape[1]), events_prim, fontsize=14, rotation=90)\n",
    "plt.yticks(range(co_oc_ms.shape[1]), events_prim, fontsize=14)\n",
    "current_cmap = plt.cm.get_cmap()\n",
    "current_cmap.set_bad(color='red')\n",
    "#cb = ax.colorbar()\n",
    "#cb.ax.tick_params(labelsize=14)\n",
    "\n",
    "for i in range(events_prim.shape[0]):\n",
    "    for j in range(i+1):\n",
    "        c = np.round(co_oc_ms[i,j], 2)\n",
    "        ax.text(j, i, str(c), va='center', ha='center')\n",
    "plt.show()"
   ]
  },
  {
   "cell_type": "code",
   "execution_count": null,
   "metadata": {},
   "outputs": [],
   "source": [
    "# Prims without mets\n",
    "f, ax = plt.subplots(figsize=(19,15))#plt.figure(figsize=(19, 15))\n",
    "ax.matshow(co_oc_ps)\n",
    "plt.xticks(range(co_oc_ps.shape[1]), events_prim, fontsize=14, rotation=90)\n",
    "plt.yticks(range(co_oc_ps.shape[1]), events_prim, fontsize=14)\n",
    "current_cmap = plt.cm.get_cmap()\n",
    "current_cmap.set_bad(color='red')\n",
    "#cb = ax.colorbar()\n",
    "#cb.ax.tick_params(labelsize=14)\n",
    "\n",
    "for i in range(events_prim.shape[0]):\n",
    "    for j in range(i+1):\n",
    "        c = np.round(co_oc_ps[i,j], 2)\n",
    "        ax.text(j, i, str(c), va='center', ha='center')\n",
    "plt.show()"
   ]
  },
  {
   "cell_type": "code",
   "execution_count": null,
   "metadata": {},
   "outputs": [],
   "source": [
    "# Select coupled datapoints\n",
    "dat_coupled =  dat.loc[dat.paired==True, 'P.Mut.KRAS':'M.Mut.KMT2D']\n",
    "dat_coupled['Seeding'] = 1\n",
    "dat_coupled = dat_coupled.to_numpy(dtype = int)\n",
    "dat_coupled = jnp.array(dat_coupled)\n",
    "\n",
    "# select prim only + no metastastasis generated \n",
    "dat_prim_nomet =  dat.loc[(dat.paired == False) & (dat.metaStatus == \"absent\"), 'P.Mut.KRAS':'M.Mut.KMT2D']\n",
    "dat_prim_nomet['Seeding'] = 0\n",
    "dat_prim_nomet = dat_prim_nomet.to_numpy(dtype = int)\n",
    "dat_prim_nomet = jnp.array(dat_prim_nomet)\n",
    "\n",
    "# select prim_only + no metastasis_sequenced\n",
    "dat_prim_met =  dat.loc[(dat.paired == False) & (dat.metaStatus == \"present\"), 'P.Mut.KRAS':'M.Mut.KMT2D']\n",
    "dat_prim_met['Seeding'] = 1\n",
    "dat_prim_met = dat_prim_met.to_numpy(dtype = int)\n",
    "dat_prim_met = jnp.array(dat_prim_met)\n",
    "\n",
    "# select metastasis only\n",
    "dat_met_only =  dat.loc[(dat.paired == False) & (dat.metaStatus == \"isMetastasis\"), 'P.Mut.KRAS':'M.Mut.KMT2D']\n",
    "dat_met_only['Seeding'] = 1\n",
    "dat_met_only = dat_met_only.to_numpy(dtype = int)\n",
    "dat_met_only = jnp.array(dat_met_only)\n",
    "\n",
    "events = list(dat.columns[1:-4:2])\n",
    "events.append(\"Seeding\")\n",
    "dat = jnp.vstack((dat_prim_nomet, dat_prim_met, dat_coupled, dat_met_only))\n",
    "print(dat_prim_nomet.shape[0], dat_prim_met.shape[0], dat_coupled.shape[0], dat_met_only.shape[0])"
   ]
  },
  {
   "cell_type": "code",
   "execution_count": null,
   "metadata": {},
   "outputs": [],
   "source": [
    "n = (dat.shape[1] -1)//2\n",
    "n += 1\n",
    "lam1_start = np.log(30/391)\n",
    "lam2_start = np.log(30/391) # observed mean time to second diagnosis is 391 days\n",
    "indep = utils.indep(dat)\n",
    "indep = indep.at[np.diag_indices(n)].add(lam2_start) # Assumption diagnosis and progression rates are on the same scale\n",
    "start_params = np.append(indep, [lam1_start, lam2_start])"
   ]
  },
  {
   "cell_type": "code",
   "execution_count": null,
   "metadata": {},
   "outputs": [],
   "source": []
  },
  {
   "cell_type": "code",
   "execution_count": null,
   "metadata": {},
   "outputs": [],
   "source": [
    "reg_opt.log_lik(start_params, dat_prim_met, dat_prim_nomet, dat_coupled, dat_met_only, 0.01, 0.8)"
   ]
  },
  {
   "cell_type": "code",
   "execution_count": null,
   "metadata": {},
   "outputs": [],
   "source": [
    "res = reg_opt.grad(start_params, dat_prim_met, dat_prim_nomet, dat_coupled, dat_met_only, 0.01, 0.8)\n",
    "res"
   ]
  },
  {
   "cell_type": "code",
   "execution_count": null,
   "metadata": {},
   "outputs": [],
   "source": [
    "penal = 0.012\n",
    "m_p_corr = 0.8\n",
    "x = opt.minimize(reg_opt.log_lik, x0 = start_params, args = (dat_prim_nomet, dat_prim_met, dat_coupled, dat_met_only, penal, m_p_corr), \n",
    "                method = \"L-BFGS-B\", jac = reg_opt.grad, options={\"maxiter\":10000, \"disp\":True, \"ftol\":1e-05})"
   ]
  },
  {
   "cell_type": "code",
   "execution_count": null,
   "metadata": {},
   "outputs": [],
   "source": [
    "print(1/jnp.exp(x.x[-2]))\n",
    "df2 = pd.DataFrame(x.x[:-2].reshape((22,22)), columns=events, index=events)\n",
    "df2.to_csv(\"../results/prad_\" + \"aep_08_0012\" + \".csv\")\n",
    "df = df2.copy()\n",
    "df2.round(3)"
   ]
  },
  {
   "cell_type": "code",
   "execution_count": null,
   "metadata": {},
   "outputs": [],
   "source": [
    "df[(df.round(2) == 0) | (df.round(2) == -0)] = np.nan\n",
    "df[df.abs() < 0.1] = np.nan\n",
    "theta_diag = np.diag(df.copy()).reshape((-1,1))\n",
    "np.fill_diagonal(df.values, np.nan)\n",
    "\n",
    "plt.style.use(\"default\")\n",
    "f, (ax, ax2) = plt.subplots(1, 2, figsize=(19,15), gridspec_kw={'width_ratios': [6, 1]})\n",
    "f.tight_layout()\n",
    "ax.matshow(df, cmap=\"coolwarm\")\n",
    "ax2.matshow(theta_diag, cmap=\"coolwarm\")\n",
    "ax.set_xticks(range(df.shape[1]), events, fontsize=14, rotation=90)\n",
    "ax.set_yticks(range(df.shape[1]), events, fontsize=14)\n",
    "ax2.set_yticks(range(df.shape[1]), events, fontsize=14)\n",
    "ax2.yaxis.tick_right()\n",
    "ax2.yaxis.set_label_position(\"right\")\n",
    "ax2.set_xticks([])\n",
    "current_cmap = plt.cm.get_cmap()\n",
    "current_cmap.set_bad(color='black')\n",
    "\n",
    "\n",
    "for i in range(22):\n",
    "    for j in range(22):\n",
    "        if np.isnan(df.iloc[i,j]) == False:\n",
    "            c = np.round(df.iloc[i,j].round(2), 2)\n",
    "        else:\n",
    "            c = \"\"\n",
    "        ax.text(j, i, str(c), va='center', ha='center')\n",
    "    ax2.text(0, i, np.round(theta_diag[i,0],3), va='center', ha='center')\n",
    "plt.show()"
   ]
  }
 ],
 "metadata": {
  "kernelspec": {
   "display_name": "Python 3",
   "language": "python",
   "name": "python3"
  },
  "language_info": {
   "codemirror_mode": {
    "name": "ipython",
    "version": 3
   },
   "file_extension": ".py",
   "mimetype": "text/x-python",
   "name": "python",
   "nbconvert_exporter": "python",
   "pygments_lexer": "ipython3",
   "version": "3.11.1"
  },
  "orig_nbformat": 4,
  "vscode": {
   "interpreter": {
    "hash": "aee8b7b246df8f9039afb4144a1f6fd8d2ca17a180786b69acc140d282b71a49"
   }
  }
 },
 "nbformat": 4,
 "nbformat_minor": 2
}
