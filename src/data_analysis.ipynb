{
 "cells": [
  {
   "cell_type": "code",
   "execution_count": null,
   "metadata": {},
   "outputs": [],
   "source": [
    "import pandas as pd\n",
    "import scipy.optimize as opt\n",
    "import regularized_optimization as reg_opt\n",
    "import Utilityfunctions as utils\n",
    "import jax.numpy as jnp\n",
    "import numpy as np\n",
    "import jax as jax\n",
    "jax.config.update(\"jax_enable_x64\", True)"
   ]
  },
  {
   "cell_type": "code",
   "execution_count": null,
   "metadata": {},
   "outputs": [],
   "source": [
    "mut_handle = \"../data/G12_PAADPANET_PM_z10_Events.csv\"\n",
    "annot_handle = \"../data/sampleSelection.txt\"\n",
    "annot_data = pd.read_csv(annot_handle, sep=\"\\t\")\n",
    "mut_data = pd.read_csv(\"../data/G12_PAADPANET_PM_z10_Events.csv\")\n",
    "mut_data.rename(columns={\"Unnamed: 0\":\"patientID\"}, inplace = True)\n",
    "dat = pd.merge(mut_data, annot_data.loc[:, ['patientID', 'metaStatus']], on=[\"patientID\", \"patientID\"])\n",
    "# Remove datapoints, that consist solely of NaNs\n",
    "dat = dat.loc[dat.iloc[:,1:-3].isna().all(axis=1) == False, :]\n",
    "dat = dat.loc[(dat.iloc[:,1:-3].sum(axis=1) > 0), :]"
   ]
  },
  {
   "cell_type": "code",
   "execution_count": null,
   "metadata": {},
   "outputs": [],
   "source": [
    "# Select coupled datapoints\n",
    "dat_coupled =  dat.loc[dat.paired==True, 'P.Mut.KRAS':'M.Mut.KMT2D']\n",
    "dat_coupled['Seeding'] = 1\n",
    "dat_coupled = dat_coupled.to_numpy(dtype = int)\n",
    "dat_coupled = jnp.array(dat_coupled)\n",
    "\n",
    "# select prim only + no metastastasis generated \n",
    "dat_prim_nomet =  dat.loc[(dat.paired == False) & (dat.metaStatus == \"absent\"), 'P.Mut.KRAS':'M.Mut.KMT2D']\n",
    "dat_prim_nomet['Seeding'] = 0\n",
    "dat_prim_nomet = dat_prim_nomet.to_numpy(dtype = int)\n",
    "dat_prim_nomet = jnp.array(dat_prim_nomet)\n",
    "\n",
    "# select prim_only + no metastasis_sequenced\n",
    "dat_prim_met =  dat.loc[(dat.paired == False) & (dat.metaStatus == \"present\"), 'P.Mut.KRAS':'M.Mut.KMT2D']\n",
    "dat_prim_met['Seeding'] = 1\n",
    "dat_prim_met = dat_prim_met.to_numpy(dtype = int)\n",
    "dat_prim_met = jnp.array(dat_prim_met)\n",
    "\n",
    "# select metastasis only\n",
    "dat_met_only =  dat.loc[(dat.paired == False) & (dat.metaStatus == \"isMetastasis\"), 'P.Mut.KRAS':'M.Mut.KMT2D']\n",
    "dat_met_only['Seeding'] = 1\n",
    "dat_met_only = dat_met_only.to_numpy(dtype = int)\n",
    "dat_met_only = jnp.array(dat_met_only)\n",
    "\n",
    "events = list(dat.columns[1:-4:2])\n",
    "events.append(\"Seeding\")\n",
    "dat = jnp.vstack((dat_prim_nomet, dat_prim_met, dat_coupled, dat_met_only))"
   ]
  },
  {
   "cell_type": "code",
   "execution_count": null,
   "metadata": {},
   "outputs": [],
   "source": [
    "n = (dat.shape[1] -1)//2\n",
    "n += 1\n",
    "lam1_start = np.log(30/391)\n",
    "lam2_start = np.log(30/391) # observed mean timee to second diagnosis is 391 days\n",
    "indep = utils.indep(dat)\n",
    "indep = indep.at[np.diag_indices(n)].add(lam2_start) # Assumption diagnosis and progression rates are on the same scale\n",
    "start_params = np.append(indep, [lam1_start, lam2_start])"
   ]
  },
  {
   "cell_type": "code",
   "execution_count": null,
   "metadata": {},
   "outputs": [],
   "source": [
    "reg_opt.log_lik(start_params, dat_prim_met, dat_prim_nomet, dat_coupled, dat_met_only, 0.0)"
   ]
  },
  {
   "cell_type": "code",
   "execution_count": null,
   "metadata": {},
   "outputs": [],
   "source": [
    "res = reg_opt.grad(start_params, dat_prim_met, dat_prim_nomet, dat_coupled, dat_met_only, 0.0)"
   ]
  },
  {
   "cell_type": "code",
   "execution_count": null,
   "metadata": {},
   "outputs": [],
   "source": [
    "w_prim = 36/77\n",
    "w_met = 41/77\n",
    "weights = np.array([w_prim, w_met/3, w_met/3, w_met/3])\n",
    "penal = 0.01\n",
    "x = opt.minimize(reg_opt.log_lik, x0 = start_params, args = (dat_prim_met, dat_prim_nomet, dat_coupled, dat_met_only, penal, weights), \n",
    "                method = \"L-BFGS-B\", jac = reg_opt.grad, options={\"maxiter\":100, \"disp\":True, \"ftol\":1e-06})"
   ]
  },
  {
   "cell_type": "code",
   "execution_count": null,
   "metadata": {},
   "outputs": [],
   "source": [
    "print(1/jnp.exp(x.x[-2]))\n",
    "df = pd.DataFrame(x.x[:-2].reshape((n,n)), columns=events, index=events)\n",
    "df.to_csv(\"../results/prad_\"+str(penal)+\".csv\")"
   ]
  }
 ],
 "metadata": {
  "kernelspec": {
   "display_name": "Python 3",
   "language": "python",
   "name": "python3"
  },
  "language_info": {
   "codemirror_mode": {
    "name": "ipython",
    "version": 3
   },
   "file_extension": ".py",
   "mimetype": "text/x-python",
   "name": "python",
   "nbconvert_exporter": "python",
   "pygments_lexer": "ipython3",
   "version": "3.11.1"
  },
  "orig_nbformat": 4,
  "vscode": {
   "interpreter": {
    "hash": "aee8b7b246df8f9039afb4144a1f6fd8d2ca17a180786b69acc140d282b71a49"
   }
  }
 },
 "nbformat": 4,
 "nbformat_minor": 2
}
