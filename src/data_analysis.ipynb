{
 "cells": [
  {
   "cell_type": "code",
   "execution_count": 1,
   "metadata": {},
   "outputs": [],
   "source": [
    "import pandas as pd\n",
    "import warnings\n",
    "warnings.simplefilter(action='ignore', category=pd.errors.PerformanceWarning)\n",
    "import scipy.optimize as opt\n",
    "import regularized_optimization as reg_opt\n",
    "import Utilityfunctions as utils\n",
    "import jax.numpy as jnp\n",
    "import numpy as np\n",
    "import jax as jax\n",
    "import matplotlib.pyplot as plt\n",
    "from jx import likelihood as lik\n",
    "jax.config.update(\"jax_enable_x64\", True)"
   ]
  },
  {
   "cell_type": "code",
   "execution_count": 2,
   "metadata": {},
   "outputs": [
    {
     "data": {
      "text/plain": [
       "Index(['patientID', 'P.Mut.TP53', 'M.Mut.TP53', 'P.Mut.KRAS', 'M.Mut.KRAS',\n",
       "       'P.chr5.amp.single.1', 'M.chr5.amp.single.1', 'paired', 'P.AgeAtSeqRep',\n",
       "       'M.AgeAtSeqRep', 'metaStatus'],\n",
       "      dtype='object')"
      ]
     },
     "execution_count": 2,
     "metadata": {},
     "output_type": "execute_result"
    }
   ],
   "source": [
    "#mut_handle = \"../data/paad/G12_PAADPANET_PM_z10_EventsAEP.csv\"\n",
    "#mut_handle = \"../data/paad/G12_PAADPANET_PM_z10_Events_Mut50_Full.csv\"\n",
    "# mut_handle = \"../data/paad/G12_PAADPANET_PM_z10_Events_30and5_Full.csv\"\n",
    "# annot_handle = \"../data/paad/G12_PAADPANET_PM_z10_sampleSelection.csv\"\n",
    "#mut_handle = \"../data/luad/G13_LUAD_PM_z1_Events_20and8_Full.csv\"\n",
    "#annot_handle = \"../data/luad/G13_LUAD_PM_z1_sampleSelection_20and8.csv\"\n",
    "mut_handle = \"../data/dummy/events.csv\"\n",
    "annot_handle = \"../data/dummy/sample_selection.csv\"\n",
    "annot_data = pd.read_csv(annot_handle)\n",
    "mut_data = pd.read_csv(mut_handle)\n",
    "mut_data.rename(columns={\"Unnamed: 0\":\"patientID\"}, inplace = True)\n",
    "dat = pd.merge(mut_data, annot_data.loc[:, ['patientID', 'metaStatus']], on=[\"patientID\", \"patientID\"])\n",
    "\n",
    "# Remove datapoints, that consist solely of NaNs\n",
    "dat = dat.loc[dat.iloc[:,1:-3].isna().all(axis=1) == False, :]\n",
    "dat = dat.loc[(dat.iloc[:,1:-3].sum(axis=1) > 0), :]\n",
    "dat.columns"
   ]
  },
  {
   "cell_type": "code",
   "execution_count": 3,
   "metadata": {},
   "outputs": [
    {
     "name": "stdout",
     "output_type": "stream",
     "text": [
      "6 92 19 74\n"
     ]
    }
   ],
   "source": [
    "start = dat.columns.to_list()[1]\n",
    "stop = mut_data.columns.to_list()[mut_data.columns.to_list().index(\"paired\") - 1]\n",
    "mult = dat.set_index([\"paired\", \"metaStatus\"])\n",
    "cleaned = mult.loc[zip(*[[0,0,0,1],[\"present\", \"absent\", \"isMetastasis\", \"isPaired\"]]), start:stop]\n",
    "cleaned = cleaned.sort_index()\n",
    "cleaned.loc[(0, [\"present\", \"isMetastasis\"]), \"Seeding\"] = 1\n",
    "cleaned.loc[(0, \"absent\"), \"Seeding\"] = 0\n",
    "cleaned.loc[(1, \"isPaired\"), \"Seeding\"] = 1\n",
    "dat_prim_nomet, dat_met_only, dat_prim_met, dat_coupled = utils.split_data(cleaned)\n",
    "print(dat_prim_nomet.shape[0], dat_prim_met.shape[0], dat_coupled.shape[0], dat_met_only.shape[0])"
   ]
  },
  {
   "cell_type": "code",
   "execution_count": 4,
   "metadata": {},
   "outputs": [],
   "source": [
    "events = []\n",
    "for elem in cleaned.columns.to_list()[::2]:\n",
    "    iwas = elem.split(\".\")\n",
    "    if len(iwas) > 2:\n",
    "        if iwas[1]  == 'Mut':\n",
    "            events.append(iwas[2] + \" (M)\")\n",
    "        else:\n",
    "            events.append(iwas[1] + \" (\" + iwas[2] + \")\")\n",
    "    elif len(iwas) == 2:\n",
    "        events.append(iwas[1])\n",
    "    else:\n",
    "        events.append(\"Seeding\")"
   ]
  },
  {
   "cell_type": "code",
   "execution_count": 5,
   "metadata": {},
   "outputs": [
    {
     "name": "stdout",
     "output_type": "stream",
     "text": [
      "                   P.Mut.TP53  P.Mut.KRAS  P.chr5.amp.single.1\n",
      "paired metaStatus                                             \n",
      "0      absent               0           1                    1\n",
      "       absent               1           0                    0\n",
      "       absent               1           0                    0\n",
      "       absent               0           1                    1\n",
      "       absent               1           0                    0\n",
      "       absent               0           1                    0\n"
     ]
    },
    {
     "data": {
      "text/plain": [
       "P.Mut.TP53             0.500000\n",
       "P.Mut.KRAS             0.500000\n",
       "P.chr5.amp.single.1    0.333333\n",
       "dtype: float64"
      ]
     },
     "execution_count": 5,
     "metadata": {},
     "output_type": "execute_result"
    }
   ],
   "source": [
    "rai = cleaned.loc[(0, \"absent\"),:]\n",
    "print(cleaned.loc[(0, \"absent\")].iloc[:,0:-1:2])\n",
    "cleaned.loc[(0, \"absent\")].iloc[:,0:-1:2].sum(axis=0)/cleaned.loc[(0, \"absent\")].shape[0]"
   ]
  },
  {
   "cell_type": "code",
   "execution_count": 6,
   "metadata": {},
   "outputs": [
    {
     "data": {
      "image/png": "[encoded data removed]",
      "text/plain": [
       "<Figure size 640x480 with 1 Axes>"
      ]
     },
     "metadata": {},
     "output_type": "display_data"
    }
   ],
   "source": [
    "iwas = {\"EM_Met\":cleaned.loc[(0, \"isMetastasis\")].iloc[:, 1::2].sum(axis=1), \n",
    "        \"EM_Prim\":cleaned.loc[(0, \"present\")].iloc[:, 0:-1:2].sum(axis=1),\n",
    "        \"NM\":cleaned.loc[(0, \"absent\")].iloc[:, 0:-1:2].sum(axis=1)}\n",
    "\n",
    "fig, ax = plt.subplots()\n",
    "ax.boxplot(iwas.values())\n",
    "ax.set_xticklabels(iwas.keys())\n",
    "plt.show()"
   ]
  },
  {
   "cell_type": "code",
   "execution_count": 7,
   "metadata": {},
   "outputs": [],
   "source": [
    "n = (cleaned.shape[1]-1)//2\n",
    "n += 1\n",
    "lam1_start = np.log(30/162)\n",
    "lam2_start = np.log(30/162) # observed mean time to second diagnosis is 87/162 days\n",
    "indep = utils.indep(jnp.vstack((dat_met_only, dat_prim_met, dat_prim_nomet)), dat_coupled)\n",
    "start_params = np.append(indep, [lam1_start, lam2_start])"
   ]
  },
  {
   "cell_type": "code",
   "execution_count": 8,
   "metadata": {},
   "outputs": [
    {
     "name": "stdout",
     "output_type": "stream",
     "text": [
      "Crossvalidation started\n",
      "Diag constrained, Split: 0.0001, Fold: 0, Score: 2.4079261800478537\n",
      "Diag unconstrained, Split: 0.0001, Fold: 0, Score: 2.389317749297197\n",
      "Diag constrained, Split: 0.002575, Fold: 0, Score: 2.4594164283937965\n",
      "Diag unconstrained, Split: 0.002575, Fold: 0, Score: 2.4193358494199875\n",
      "Diag constrained, Split: 0.005050000000000001, Fold: 0, Score: 2.4815563532701246\n",
      "Diag unconstrained, Split: 0.005050000000000001, Fold: 0, Score: 2.4449674836711104\n",
      "Diag constrained, Split: 0.007525000000000001, Fold: 0, Score: 2.491171582496002\n",
      "Diag unconstrained, Split: 0.007525000000000001, Fold: 0, Score: 2.465132581187201\n",
      "Diag constrained, Split: 0.01, Fold: 0, Score: 2.4936239444816866\n",
      "Diag unconstrained, Split: 0.01, Fold: 0, Score: 2.479078488796307\n",
      "Diag constrained, Split: 0.0001, Fold: 1, Score: 4.768341500380563\n",
      "Diag unconstrained, Split: 0.0001, Fold: 1, Score: 6.1673483724131035\n",
      "Diag constrained, Split: 0.002575, Fold: 1, Score: 4.453741882114638\n",
      "Diag unconstrained, Split: 0.002575, Fold: 1, Score: 4.469392629915986\n",
      "Diag constrained, Split: 0.005050000000000001, Fold: 1, Score: 4.353169137704258\n",
      "Diag unconstrained, Split: 0.005050000000000001, Fold: 1, Score: 4.30764737931611\n",
      "Diag constrained, Split: 0.007525000000000001, Fold: 1, Score: 4.273330669845261\n",
      "Diag unconstrained, Split: 0.007525000000000001, Fold: 1, Score: 4.229943055060442\n",
      "Diag constrained, Split: 0.01, Fold: 1, Score: 4.238839147984527\n",
      "Diag unconstrained, Split: 0.01, Fold: 1, Score: 4.237748765791951\n",
      "Diag constrained, Split: 0.0001, Fold: 2, Score: 2.779383225298144\n",
      "Diag unconstrained, Split: 0.0001, Fold: 2, Score: 2.777663624782696\n",
      "Diag constrained, Split: 0.002575, Fold: 2, Score: 2.772712815751534\n",
      "Diag unconstrained, Split: 0.002575, Fold: 2, Score: 2.7296112407224973\n",
      "Diag constrained, Split: 0.005050000000000001, Fold: 2, Score: 2.780223323399242\n",
      "Diag unconstrained, Split: 0.005050000000000001, Fold: 2, Score: 2.749958523876238\n",
      "Diag constrained, Split: 0.007525000000000001, Fold: 2, Score: 2.7886743004730765\n",
      "Diag unconstrained, Split: 0.007525000000000001, Fold: 2, Score: 2.7647603496845576\n",
      "Diag constrained, Split: 0.01, Fold: 2, Score: 2.784007105686228\n",
      "Diag unconstrained, Split: 0.01, Fold: 2, Score: 2.782970694475334\n"
     ]
    },
    {
     "ename": "KeyError",
     "evalue": "'absent'",
     "output_type": "error",
     "traceback": [
      "\u001b[0;31m---------------------------------------------------------------------------\u001b[0m",
      "\u001b[0;31mKeyError\u001b[0m                                  Traceback (most recent call last)",
      "File \u001b[0;32m~/vanilla/mhn_env/lib/python3.10/site-packages/pandas/core/indexes/base.py:3802\u001b[0m, in \u001b[0;36mIndex.get_loc\u001b[0;34m(self, key, method, tolerance)\u001b[0m\n\u001b[1;32m   3801\u001b[0m \u001b[39mtry\u001b[39;00m:\n\u001b[0;32m-> 3802\u001b[0m     \u001b[39mreturn\u001b[39;00m \u001b[39mself\u001b[39;49m\u001b[39m.\u001b[39;49m_engine\u001b[39m.\u001b[39;49mget_loc(casted_key)\n\u001b[1;32m   3803\u001b[0m \u001b[39mexcept\u001b[39;00m \u001b[39mKeyError\u001b[39;00m \u001b[39mas\u001b[39;00m err:\n",
      "File \u001b[0;32m~/vanilla/mhn_env/lib/python3.10/site-packages/pandas/_libs/index.pyx:138\u001b[0m, in \u001b[0;36mpandas._libs.index.IndexEngine.get_loc\u001b[0;34m()\u001b[0m\n",
      "File \u001b[0;32m~/vanilla/mhn_env/lib/python3.10/site-packages/pandas/_libs/index.pyx:165\u001b[0m, in \u001b[0;36mpandas._libs.index.IndexEngine.get_loc\u001b[0;34m()\u001b[0m\n",
      "File \u001b[0;32mpandas/_libs/hashtable_class_helper.pxi:5745\u001b[0m, in \u001b[0;36mpandas._libs.hashtable.PyObjectHashTable.get_item\u001b[0;34m()\u001b[0m\n",
      "File \u001b[0;32mpandas/_libs/hashtable_class_helper.pxi:5753\u001b[0m, in \u001b[0;36mpandas._libs.hashtable.PyObjectHashTable.get_item\u001b[0;34m()\u001b[0m\n",
      "\u001b[0;31mKeyError\u001b[0m: 'absent'",
      "\nThe above exception was the direct cause of the following exception:\n",
      "\u001b[0;31mKeyError\u001b[0m                                  Traceback (most recent call last)",
      "\u001b[1;32m/home/lhu/MetaMHN/src/data_analysis.ipynb Cell 8\u001b[0m in \u001b[0;36m1\n\u001b[0;32m----> <a href='vscode-notebook-cell://ssh-remote%2Br30/home/lhu/MetaMHN/src/data_analysis.ipynb#X11sdnNjb2RlLXJlbW90ZQ%3D%3D?line=0'>1</a>\u001b[0m utils\u001b[39m.\u001b[39mcross_val(cleaned, np\u001b[39m.\u001b[39mlinspace(\u001b[39m0.0001\u001b[39m, \u001b[39m0.01\u001b[39m, \u001b[39m5\u001b[39m), \u001b[39m5\u001b[39m, start_params, \u001b[39m0.8\u001b[39m, n)\n",
      "File \u001b[0;32m~/MetaMHN/src/Utilityfunctions.py:466\u001b[0m, in \u001b[0;36mcross_val\u001b[0;34m(dat, splits, nfolds, start_params, m_p_corr, n)\u001b[0m\n\u001b[1;32m    464\u001b[0m test \u001b[39m=\u001b[39m shuffled\u001b[39m.\u001b[39miloc[test_inds, :]\n\u001b[1;32m    465\u001b[0m test \u001b[39m=\u001b[39m test\u001b[39m.\u001b[39mset_index([\u001b[39m\"\u001b[39m\u001b[39mpaired\u001b[39m\u001b[39m\"\u001b[39m, \u001b[39m\"\u001b[39m\u001b[39mmetaStatus\u001b[39m\u001b[39m\"\u001b[39m])\n\u001b[0;32m--> 466\u001b[0m test_prim_only, test_met_only, test_prim_met, test_coupled \u001b[39m=\u001b[39m split_data(test)\n\u001b[1;32m    467\u001b[0m \u001b[39mfor\u001b[39;00m j \u001b[39min\u001b[39;00m \u001b[39mrange\u001b[39m(splits\u001b[39m.\u001b[39msize):\n\u001b[1;32m    468\u001b[0m     mhn_diag_con \u001b[39m=\u001b[39m opt\u001b[39m.\u001b[39mminimize(reg_opt\u001b[39m.\u001b[39mvalue_grad, x0 \u001b[39m=\u001b[39m start_params,\u001b[39m#\u001b[39;00m\n\u001b[1;32m    469\u001b[0m                      args \u001b[39m=\u001b[39m (train_prim_only, train_coupled, train_prim_met, train_met_only, n\u001b[39m-\u001b[39m\u001b[39m1\u001b[39m,\u001b[39m#\u001b[39;00m\n\u001b[1;32m    470\u001b[0m                              splits[j], splits[j], m_p_corr), method \u001b[39m=\u001b[39m \u001b[39m\"\u001b[39m\u001b[39mL-BFGS-B\u001b[39m\u001b[39m\"\u001b[39m, jac \u001b[39m=\u001b[39m \u001b[39mTrue\u001b[39;00m,\u001b[39m#\u001b[39;00m\n\u001b[1;32m    471\u001b[0m                      options\u001b[39m=\u001b[39m{\u001b[39m\"\u001b[39m\u001b[39mmaxiter\u001b[39m\u001b[39m\"\u001b[39m:\u001b[39m10000\u001b[39m, \u001b[39m\"\u001b[39m\u001b[39mdisp\u001b[39m\u001b[39m\"\u001b[39m:\u001b[39mFalse\u001b[39;00m, \u001b[39m\"\u001b[39m\u001b[39mftol\u001b[39m\u001b[39m\"\u001b[39m:\u001b[39m1e-04\u001b[39m})\n",
      "File \u001b[0;32m~/MetaMHN/src/Utilityfunctions.py:436\u001b[0m, in \u001b[0;36msplit_data\u001b[0;34m(dat)\u001b[0m\n\u001b[1;32m    435\u001b[0m \u001b[39mdef\u001b[39;00m \u001b[39msplit_data\u001b[39m(dat: pd\u001b[39m.\u001b[39mDataFrame):\n\u001b[0;32m--> 436\u001b[0m     prim_only \u001b[39m=\u001b[39m  dat\u001b[39m.\u001b[39;49mloc[(\u001b[39m0\u001b[39;49m, \u001b[39m\"\u001b[39;49m\u001b[39mabsent\u001b[39;49m\u001b[39m\"\u001b[39;49m)]\u001b[39m.\u001b[39mto_numpy(dtype\u001b[39m=\u001b[39mnp\u001b[39m.\u001b[39mint8)\n\u001b[1;32m    437\u001b[0m     met_only \u001b[39m=\u001b[39m dat\u001b[39m.\u001b[39mloc[(\u001b[39m0\u001b[39m, \u001b[39m\"\u001b[39m\u001b[39misMetastasis\u001b[39m\u001b[39m\"\u001b[39m)]\u001b[39m.\u001b[39mto_numpy(dtype\u001b[39m=\u001b[39mnp\u001b[39m.\u001b[39mint8)\n\u001b[1;32m    438\u001b[0m     prim_met \u001b[39m=\u001b[39m dat\u001b[39m.\u001b[39mloc[(\u001b[39m0\u001b[39m, \u001b[39m\"\u001b[39m\u001b[39mpresent\u001b[39m\u001b[39m\"\u001b[39m)]\u001b[39m.\u001b[39mto_numpy(dtype\u001b[39m=\u001b[39mnp\u001b[39m.\u001b[39mint8)\n",
      "File \u001b[0;32m~/vanilla/mhn_env/lib/python3.10/site-packages/pandas/core/indexing.py:1067\u001b[0m, in \u001b[0;36m_LocationIndexer.__getitem__\u001b[0;34m(self, key)\u001b[0m\n\u001b[1;32m   1065\u001b[0m     \u001b[39mif\u001b[39;00m \u001b[39mself\u001b[39m\u001b[39m.\u001b[39m_is_scalar_access(key):\n\u001b[1;32m   1066\u001b[0m         \u001b[39mreturn\u001b[39;00m \u001b[39mself\u001b[39m\u001b[39m.\u001b[39mobj\u001b[39m.\u001b[39m_get_value(\u001b[39m*\u001b[39mkey, takeable\u001b[39m=\u001b[39m\u001b[39mself\u001b[39m\u001b[39m.\u001b[39m_takeable)\n\u001b[0;32m-> 1067\u001b[0m     \u001b[39mreturn\u001b[39;00m \u001b[39mself\u001b[39;49m\u001b[39m.\u001b[39;49m_getitem_tuple(key)\n\u001b[1;32m   1068\u001b[0m \u001b[39melse\u001b[39;00m:\n\u001b[1;32m   1069\u001b[0m     \u001b[39m# we by definition only have the 0th axis\u001b[39;00m\n\u001b[1;32m   1070\u001b[0m     axis \u001b[39m=\u001b[39m \u001b[39mself\u001b[39m\u001b[39m.\u001b[39maxis \u001b[39mor\u001b[39;00m \u001b[39m0\u001b[39m\n",
      "File \u001b[0;32m~/vanilla/mhn_env/lib/python3.10/site-packages/pandas/core/indexing.py:1247\u001b[0m, in \u001b[0;36m_LocIndexer._getitem_tuple\u001b[0;34m(self, tup)\u001b[0m\n\u001b[1;32m   1245\u001b[0m \u001b[39mwith\u001b[39;00m suppress(IndexingError):\n\u001b[1;32m   1246\u001b[0m     tup \u001b[39m=\u001b[39m \u001b[39mself\u001b[39m\u001b[39m.\u001b[39m_expand_ellipsis(tup)\n\u001b[0;32m-> 1247\u001b[0m     \u001b[39mreturn\u001b[39;00m \u001b[39mself\u001b[39;49m\u001b[39m.\u001b[39;49m_getitem_lowerdim(tup)\n\u001b[1;32m   1249\u001b[0m \u001b[39m# no multi-index, so validate all of the indexers\u001b[39;00m\n\u001b[1;32m   1250\u001b[0m tup \u001b[39m=\u001b[39m \u001b[39mself\u001b[39m\u001b[39m.\u001b[39m_validate_tuple_indexer(tup)\n",
      "File \u001b[0;32m~/vanilla/mhn_env/lib/python3.10/site-packages/pandas/core/indexing.py:991\u001b[0m, in \u001b[0;36m_LocationIndexer._getitem_lowerdim\u001b[0;34m(self, tup)\u001b[0m\n\u001b[1;32m    989\u001b[0m             \u001b[39mreturn\u001b[39;00m section\n\u001b[1;32m    990\u001b[0m         \u001b[39m# This is an elided recursive call to iloc/loc\u001b[39;00m\n\u001b[0;32m--> 991\u001b[0m         \u001b[39mreturn\u001b[39;00m \u001b[39mgetattr\u001b[39;49m(section, \u001b[39mself\u001b[39;49m\u001b[39m.\u001b[39;49mname)[new_key]\n\u001b[1;32m    993\u001b[0m \u001b[39mraise\u001b[39;00m IndexingError(\u001b[39m\"\u001b[39m\u001b[39mnot applicable\u001b[39m\u001b[39m\"\u001b[39m)\n",
      "File \u001b[0;32m~/vanilla/mhn_env/lib/python3.10/site-packages/pandas/core/indexing.py:1067\u001b[0m, in \u001b[0;36m_LocationIndexer.__getitem__\u001b[0;34m(self, key)\u001b[0m\n\u001b[1;32m   1065\u001b[0m     \u001b[39mif\u001b[39;00m \u001b[39mself\u001b[39m\u001b[39m.\u001b[39m_is_scalar_access(key):\n\u001b[1;32m   1066\u001b[0m         \u001b[39mreturn\u001b[39;00m \u001b[39mself\u001b[39m\u001b[39m.\u001b[39mobj\u001b[39m.\u001b[39m_get_value(\u001b[39m*\u001b[39mkey, takeable\u001b[39m=\u001b[39m\u001b[39mself\u001b[39m\u001b[39m.\u001b[39m_takeable)\n\u001b[0;32m-> 1067\u001b[0m     \u001b[39mreturn\u001b[39;00m \u001b[39mself\u001b[39;49m\u001b[39m.\u001b[39;49m_getitem_tuple(key)\n\u001b[1;32m   1068\u001b[0m \u001b[39melse\u001b[39;00m:\n\u001b[1;32m   1069\u001b[0m     \u001b[39m# we by definition only have the 0th axis\u001b[39;00m\n\u001b[1;32m   1070\u001b[0m     axis \u001b[39m=\u001b[39m \u001b[39mself\u001b[39m\u001b[39m.\u001b[39maxis \u001b[39mor\u001b[39;00m \u001b[39m0\u001b[39m\n",
      "File \u001b[0;32m~/vanilla/mhn_env/lib/python3.10/site-packages/pandas/core/indexing.py:1247\u001b[0m, in \u001b[0;36m_LocIndexer._getitem_tuple\u001b[0;34m(self, tup)\u001b[0m\n\u001b[1;32m   1245\u001b[0m \u001b[39mwith\u001b[39;00m suppress(IndexingError):\n\u001b[1;32m   1246\u001b[0m     tup \u001b[39m=\u001b[39m \u001b[39mself\u001b[39m\u001b[39m.\u001b[39m_expand_ellipsis(tup)\n\u001b[0;32m-> 1247\u001b[0m     \u001b[39mreturn\u001b[39;00m \u001b[39mself\u001b[39;49m\u001b[39m.\u001b[39;49m_getitem_lowerdim(tup)\n\u001b[1;32m   1249\u001b[0m \u001b[39m# no multi-index, so validate all of the indexers\u001b[39;00m\n\u001b[1;32m   1250\u001b[0m tup \u001b[39m=\u001b[39m \u001b[39mself\u001b[39m\u001b[39m.\u001b[39m_validate_tuple_indexer(tup)\n",
      "File \u001b[0;32m~/vanilla/mhn_env/lib/python3.10/site-packages/pandas/core/indexing.py:967\u001b[0m, in \u001b[0;36m_LocationIndexer._getitem_lowerdim\u001b[0;34m(self, tup)\u001b[0m\n\u001b[1;32m    963\u001b[0m \u001b[39mfor\u001b[39;00m i, key \u001b[39min\u001b[39;00m \u001b[39menumerate\u001b[39m(tup):\n\u001b[1;32m    964\u001b[0m     \u001b[39mif\u001b[39;00m is_label_like(key):\n\u001b[1;32m    965\u001b[0m         \u001b[39m# We don't need to check for tuples here because those are\u001b[39;00m\n\u001b[1;32m    966\u001b[0m         \u001b[39m#  caught by the _is_nested_tuple_indexer check above.\u001b[39;00m\n\u001b[0;32m--> 967\u001b[0m         section \u001b[39m=\u001b[39m \u001b[39mself\u001b[39;49m\u001b[39m.\u001b[39;49m_getitem_axis(key, axis\u001b[39m=\u001b[39;49mi)\n\u001b[1;32m    969\u001b[0m         \u001b[39m# We should never have a scalar section here, because\u001b[39;00m\n\u001b[1;32m    970\u001b[0m         \u001b[39m#  _getitem_lowerdim is only called after a check for\u001b[39;00m\n\u001b[1;32m    971\u001b[0m         \u001b[39m#  is_scalar_access, which that would be.\u001b[39;00m\n\u001b[1;32m    972\u001b[0m         \u001b[39mif\u001b[39;00m section\u001b[39m.\u001b[39mndim \u001b[39m==\u001b[39m \u001b[39mself\u001b[39m\u001b[39m.\u001b[39mndim:\n\u001b[1;32m    973\u001b[0m             \u001b[39m# we're in the middle of slicing through a MultiIndex\u001b[39;00m\n\u001b[1;32m    974\u001b[0m             \u001b[39m# revise the key wrt to `section` by inserting an _NS\u001b[39;00m\n",
      "File \u001b[0;32m~/vanilla/mhn_env/lib/python3.10/site-packages/pandas/core/indexing.py:1312\u001b[0m, in \u001b[0;36m_LocIndexer._getitem_axis\u001b[0;34m(self, key, axis)\u001b[0m\n\u001b[1;32m   1310\u001b[0m \u001b[39m# fall thru to straight lookup\u001b[39;00m\n\u001b[1;32m   1311\u001b[0m \u001b[39mself\u001b[39m\u001b[39m.\u001b[39m_validate_key(key, axis)\n\u001b[0;32m-> 1312\u001b[0m \u001b[39mreturn\u001b[39;00m \u001b[39mself\u001b[39;49m\u001b[39m.\u001b[39;49m_get_label(key, axis\u001b[39m=\u001b[39;49maxis)\n",
      "File \u001b[0;32m~/vanilla/mhn_env/lib/python3.10/site-packages/pandas/core/indexing.py:1260\u001b[0m, in \u001b[0;36m_LocIndexer._get_label\u001b[0;34m(self, label, axis)\u001b[0m\n\u001b[1;32m   1258\u001b[0m \u001b[39mdef\u001b[39;00m \u001b[39m_get_label\u001b[39m(\u001b[39mself\u001b[39m, label, axis: \u001b[39mint\u001b[39m):\n\u001b[1;32m   1259\u001b[0m     \u001b[39m# GH#5567 this will fail if the label is not present in the axis.\u001b[39;00m\n\u001b[0;32m-> 1260\u001b[0m     \u001b[39mreturn\u001b[39;00m \u001b[39mself\u001b[39;49m\u001b[39m.\u001b[39;49mobj\u001b[39m.\u001b[39;49mxs(label, axis\u001b[39m=\u001b[39;49maxis)\n",
      "File \u001b[0;32m~/vanilla/mhn_env/lib/python3.10/site-packages/pandas/core/generic.py:4041\u001b[0m, in \u001b[0;36mNDFrame.xs\u001b[0;34m(self, key, axis, level, drop_level)\u001b[0m\n\u001b[1;32m   4039\u001b[0m \u001b[39mif\u001b[39;00m axis \u001b[39m==\u001b[39m \u001b[39m1\u001b[39m:\n\u001b[1;32m   4040\u001b[0m     \u001b[39mif\u001b[39;00m drop_level:\n\u001b[0;32m-> 4041\u001b[0m         \u001b[39mreturn\u001b[39;00m \u001b[39mself\u001b[39;49m[key]\n\u001b[1;32m   4042\u001b[0m     index \u001b[39m=\u001b[39m \u001b[39mself\u001b[39m\u001b[39m.\u001b[39mcolumns\n\u001b[1;32m   4043\u001b[0m \u001b[39melse\u001b[39;00m:\n",
      "File \u001b[0;32m~/vanilla/mhn_env/lib/python3.10/site-packages/pandas/core/frame.py:3807\u001b[0m, in \u001b[0;36mDataFrame.__getitem__\u001b[0;34m(self, key)\u001b[0m\n\u001b[1;32m   3805\u001b[0m \u001b[39mif\u001b[39;00m \u001b[39mself\u001b[39m\u001b[39m.\u001b[39mcolumns\u001b[39m.\u001b[39mnlevels \u001b[39m>\u001b[39m \u001b[39m1\u001b[39m:\n\u001b[1;32m   3806\u001b[0m     \u001b[39mreturn\u001b[39;00m \u001b[39mself\u001b[39m\u001b[39m.\u001b[39m_getitem_multilevel(key)\n\u001b[0;32m-> 3807\u001b[0m indexer \u001b[39m=\u001b[39m \u001b[39mself\u001b[39;49m\u001b[39m.\u001b[39;49mcolumns\u001b[39m.\u001b[39;49mget_loc(key)\n\u001b[1;32m   3808\u001b[0m \u001b[39mif\u001b[39;00m is_integer(indexer):\n\u001b[1;32m   3809\u001b[0m     indexer \u001b[39m=\u001b[39m [indexer]\n",
      "File \u001b[0;32m~/vanilla/mhn_env/lib/python3.10/site-packages/pandas/core/indexes/base.py:3804\u001b[0m, in \u001b[0;36mIndex.get_loc\u001b[0;34m(self, key, method, tolerance)\u001b[0m\n\u001b[1;32m   3802\u001b[0m     \u001b[39mreturn\u001b[39;00m \u001b[39mself\u001b[39m\u001b[39m.\u001b[39m_engine\u001b[39m.\u001b[39mget_loc(casted_key)\n\u001b[1;32m   3803\u001b[0m \u001b[39mexcept\u001b[39;00m \u001b[39mKeyError\u001b[39;00m \u001b[39mas\u001b[39;00m err:\n\u001b[0;32m-> 3804\u001b[0m     \u001b[39mraise\u001b[39;00m \u001b[39mKeyError\u001b[39;00m(key) \u001b[39mfrom\u001b[39;00m \u001b[39merr\u001b[39;00m\n\u001b[1;32m   3805\u001b[0m \u001b[39mexcept\u001b[39;00m \u001b[39mTypeError\u001b[39;00m:\n\u001b[1;32m   3806\u001b[0m     \u001b[39m# If we have a listlike key, _check_indexing_error will raise\u001b[39;00m\n\u001b[1;32m   3807\u001b[0m     \u001b[39m#  InvalidIndexError. Otherwise we fall through and re-raise\u001b[39;00m\n\u001b[1;32m   3808\u001b[0m     \u001b[39m#  the TypeError.\u001b[39;00m\n\u001b[1;32m   3809\u001b[0m     \u001b[39mself\u001b[39m\u001b[39m.\u001b[39m_check_indexing_error(key)\n",
      "\u001b[0;31mKeyError\u001b[0m: 'absent'"
     ]
    }
   ],
   "source": [
    "utils.cross_val(cleaned, np.linspace(0.0001, 0.01, 5), 5, start_params, 0.8, n)"
   ]
  },
  {
   "cell_type": "code",
   "execution_count": 9,
   "metadata": {},
   "outputs": [
    {
     "data": {
      "text/html": [
       "<div>\n",
       "<style scoped>\n",
       "    .dataframe tbody tr th:only-of-type {\n",
       "        vertical-align: middle;\n",
       "    }\n",
       "\n",
       "    .dataframe tbody tr th {\n",
       "        vertical-align: top;\n",
       "    }\n",
       "\n",
       "    .dataframe thead tr th {\n",
       "        text-align: left;\n",
       "    }\n",
       "</style>\n",
       "<table border=\"1\" class=\"dataframe\">\n",
       "  <thead>\n",
       "    <tr>\n",
       "      <th></th>\n",
       "      <th colspan=\"3\" halign=\"left\">Coupled (19)</th>\n",
       "      <th>NM (6)</th>\n",
       "      <th>EM-PT (92)</th>\n",
       "      <th>EM-MT (74)</th>\n",
       "    </tr>\n",
       "    <tr>\n",
       "      <th></th>\n",
       "      <th>PT-Private</th>\n",
       "      <th>MT-Private</th>\n",
       "      <th>Shared</th>\n",
       "      <th>Present</th>\n",
       "      <th>Present</th>\n",
       "      <th>Present</th>\n",
       "    </tr>\n",
       "  </thead>\n",
       "  <tbody>\n",
       "    <tr>\n",
       "      <th>TP53 (M)</th>\n",
       "      <td>0.05</td>\n",
       "      <td>0.11</td>\n",
       "      <td>0.58</td>\n",
       "      <td>0.50</td>\n",
       "      <td>0.68</td>\n",
       "      <td>0.70</td>\n",
       "    </tr>\n",
       "    <tr>\n",
       "      <th>KRAS (M)</th>\n",
       "      <td>0.11</td>\n",
       "      <td>0.05</td>\n",
       "      <td>0.05</td>\n",
       "      <td>0.50</td>\n",
       "      <td>0.34</td>\n",
       "      <td>0.23</td>\n",
       "    </tr>\n",
       "    <tr>\n",
       "      <th>chr5 (amp)</th>\n",
       "      <td>0.16</td>\n",
       "      <td>0.42</td>\n",
       "      <td>0.26</td>\n",
       "      <td>0.33</td>\n",
       "      <td>0.41</td>\n",
       "      <td>0.41</td>\n",
       "    </tr>\n",
       "    <tr>\n",
       "      <th>Seeding</th>\n",
       "      <td>1.00</td>\n",
       "      <td>0.00</td>\n",
       "      <td>0.00</td>\n",
       "      <td>0.00</td>\n",
       "      <td>1.00</td>\n",
       "      <td>1.00</td>\n",
       "    </tr>\n",
       "  </tbody>\n",
       "</table>\n",
       "</div>"
      ],
      "text/plain": [
       "           Coupled (19)                    NM (6) EM-PT (92) EM-MT (74)\n",
       "             PT-Private MT-Private Shared Present    Present    Present\n",
       "TP53 (M)           0.05       0.11   0.58    0.50       0.68       0.70\n",
       "KRAS (M)           0.11       0.05   0.05    0.50       0.34       0.23\n",
       "chr5 (amp)         0.16       0.42   0.26    0.33       0.41       0.41\n",
       "Seeding            1.00       0.00   0.00    0.00       1.00       1.00"
      ]
     },
     "execution_count": 9,
     "metadata": {},
     "output_type": "execute_result"
    }
   ],
   "source": [
    "n_mod = n-1\n",
    "arr = dat_coupled * np.array([1,2]*n_mod+[1])\n",
    "arr = arr @ (np.diag([1,0]*n_mod+[1]) + np.diag([1,0]*n_mod, -1))\n",
    "counts = np.zeros((6, n))\n",
    "for i in range(0,2*n,2):\n",
    "    i_h = int(i/2)\n",
    "    for j in range(1,4):\n",
    "        counts[j-1, i_h] = np.count_nonzero(arr[:,i]==j)/dat_coupled.shape[0]\n",
    "    counts[3, i_h] = np.sum(dat_prim_nomet[:, i], axis=0)/dat_prim_nomet.shape[0]\n",
    "    counts[4, i_h] = (np.sum(dat_prim_met[:, i], axis=0))/dat_prim_met.shape[0]\n",
    "    counts[5, i_h] = (np.sum(dat_met_only[:, i+1], axis=0))/dat_met_only.shape[0]\n",
    "\n",
    "labels = [[\"Coupled (\"+str(dat_coupled.shape[0])+\")\"]*3 +\\\n",
    "          [\"NM (\"+str(dat_prim_nomet.shape[0])+\")\"] +\\\n",
    "          [\"EM-PT (\"+str(dat_prim_met.shape[0])+\")\"] +\\\n",
    "          [\"EM-MT (\"+str(dat_met_only.shape[0])+\")\"],\n",
    "          [\"PT-Private\", \"MT-Private\", \"Shared\"] + [\"Present\"]*3]\n",
    "       \n",
    "inds =  pd.MultiIndex.from_tuples(list(zip(*labels)))\n",
    "iwas = pd.DataFrame(np.around(counts, 2), columns=events, index=inds).T\n",
    "#iwas.to_latex(\"luad_samples.tex\")\n",
    "iwas"
   ]
  },
  {
   "cell_type": "code",
   "execution_count": 10,
   "metadata": {},
   "outputs": [
    {
     "name": "stdout",
     "output_type": "stream",
     "text": [
      "RUNNING THE L-BFGS-B CODE\n",
      "\n",
      "           * * *\n",
      "\n",
      "Machine precision = 2.220D-16\n",
      " N =           18     M =           10\n",
      "\n",
      "At X0         0 variables are exactly at the bounds\n",
      "\n",
      "At iterate    0    f=  1.02797D+01    |proj g|=  9.93120D+00\n"
     ]
    },
    {
     "name": "stderr",
     "output_type": "stream",
     "text": [
      " This problem is unconstrained.\n"
     ]
    },
    {
     "name": "stdout",
     "output_type": "stream",
     "text": [
      "\n",
      "At iterate    1    f=  5.65083D+00    |proj g|=  1.65685D+00\n",
      "\n",
      "At iterate    2    f=  5.16557D+00    |proj g|=  1.17952D+00\n",
      "\n",
      "At iterate    3    f=  3.65084D+00    |proj g|=  3.99997D-01\n",
      "\n",
      "At iterate    4    f=  3.13223D+00    |proj g|=  1.48598D-01\n",
      "\n",
      "At iterate    5    f=  3.04530D+00    |proj g|=  1.33878D-01\n",
      "\n",
      "At iterate    6    f=  2.86596D+00    |proj g|=  1.04315D-01\n",
      "\n",
      "At iterate    7    f=  2.81164D+00    |proj g|=  5.32437D-02\n",
      "\n",
      "At iterate    8    f=  2.79778D+00    |proj g|=  3.24660D-02\n",
      "\n",
      "At iterate    9    f=  2.78208D+00    |proj g|=  1.64299D-02\n",
      "\n",
      "At iterate   10    f=  2.77670D+00    |proj g|=  1.68078D-02\n",
      "\n",
      "At iterate   11    f=  2.77475D+00    |proj g|=  2.43852D-02\n",
      "\n",
      "At iterate   12    f=  2.77234D+00    |proj g|=  1.19947D-02\n",
      "\n",
      "At iterate   13    f=  2.77034D+00    |proj g|=  1.11598D-02\n",
      "\n",
      "At iterate   14    f=  2.76754D+00    |proj g|=  9.02773D-03\n",
      "\n",
      "At iterate   15    f=  2.76302D+00    |proj g|=  2.37365D-02\n",
      "\n",
      "At iterate   16    f=  2.75936D+00    |proj g|=  1.83860D-02\n",
      "\n",
      "At iterate   17    f=  2.75725D+00    |proj g|=  1.08765D-02\n",
      "\n",
      "At iterate   18    f=  2.75537D+00    |proj g|=  7.74180D-03\n",
      "\n",
      "At iterate   19    f=  2.75489D+00    |proj g|=  1.37230D-02\n",
      "\n",
      "At iterate   20    f=  2.75438D+00    |proj g|=  5.03674D-03\n",
      "\n",
      "At iterate   21    f=  2.75382D+00    |proj g|=  3.54687D-03\n",
      "\n",
      "At iterate   22    f=  2.75336D+00    |proj g|=  8.37666D-03\n",
      "\n",
      "At iterate   23    f=  2.75296D+00    |proj g|=  6.58525D-03\n",
      "\n",
      "At iterate   24    f=  2.75262D+00    |proj g|=  3.02927D-03\n",
      "\n",
      "At iterate   25    f=  2.75246D+00    |proj g|=  3.28677D-03\n",
      "\n",
      "           * * *\n",
      "\n",
      "Tit   = total number of iterations\n",
      "Tnf   = total number of function evaluations\n",
      "Tnint = total number of segments explored during Cauchy searches\n",
      "Skip  = number of BFGS updates skipped\n",
      "Nact  = number of active bounds at final generalized Cauchy point\n",
      "Projg = norm of the final projected gradient\n",
      "F     = final function value\n",
      "\n",
      "           * * *\n",
      "\n",
      "   N    Tit     Tnf  Tnint  Skip  Nact     Projg        F\n",
      "   18     25     27      1     0     0   3.287D-03   2.752D+00\n",
      "  F =   2.7524575394979767     \n",
      "\n",
      "CONVERGENCE: REL_REDUCTION_OF_F_<=_FACTR*EPSMCH             \n"
     ]
    }
   ],
   "source": [
    "penal1 = 0.005 # L1 penalty on off-diagonals\n",
    "penal2 = 0.005 # L2 penalty on diagonals\n",
    "m_p_corr = 0.8\n",
    "x = opt.minimize(reg_opt.value_grad, x0 = start_params, args = (dat_prim_nomet, dat_coupled, dat_prim_met, dat_met_only, n-1, penal1, penal2,  m_p_corr), \n",
    "                method = \"L-BFGS-B\", jac = True, options={\"maxiter\":10000, \"disp\":True, \"ftol\":1e-04})"
   ]
  },
  {
   "cell_type": "code",
   "execution_count": null,
   "metadata": {},
   "outputs": [],
   "source": [
    "print(1/jnp.exp(x.x[-2]))\n",
    "df2 = pd.DataFrame(x.x[:-2].reshape((n, n)), columns=events, index=events)\n",
    "theta = df2.copy()\n",
    "df2[\"Sampling\"] = np.append(np.array(x.x[-2:]), np.zeros(n-2))\n",
    "df2.to_csv(\"../results/test.csv\")\n",
    "df2.round(3)"
   ]
  },
  {
   "cell_type": "code",
   "execution_count": null,
   "metadata": {},
   "outputs": [],
   "source": [
    "utils.plot_theta(theta, 0.5)"
   ]
  }
 ],
 "metadata": {
  "kernelspec": {
   "display_name": "Python 3",
   "language": "python",
   "name": "python3"
  },
  "language_info": {
   "codemirror_mode": {
    "name": "ipython",
    "version": 3
   },
   "file_extension": ".py",
   "mimetype": "text/x-python",
   "name": "python",
   "nbconvert_exporter": "python",
   "pygments_lexer": "ipython3",
   "version": "3.10.4"
  },
  "orig_nbformat": 4,
  "vscode": {
   "interpreter": {
    "hash": "aee8b7b246df8f9039afb4144a1f6fd8d2ca17a180786b69acc140d282b71a49"
   }
  }
 },
 "nbformat": 4,
 "nbformat_minor": 2
}
