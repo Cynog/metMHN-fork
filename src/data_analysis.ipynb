{
 "cells": [
  {
   "cell_type": "code",
   "execution_count": null,
   "metadata": {},
   "outputs": [],
   "source": [
    "%env XLA_PYTHON_CLIENT_ALLOCATOR=platform"
   ]
  },
  {
   "cell_type": "code",
   "execution_count": null,
   "metadata": {},
   "outputs": [],
   "source": [
    "import pandas as pd\n",
    "import warnings\n",
    "warnings.simplefilter(action='ignore', category=pd.errors.PerformanceWarning)\n",
    "import scipy.optimize as opt\n",
    "import regularized_optimization as reg_opt\n",
    "import Utilityfunctions as utils\n",
    "import jax.numpy as jnp\n",
    "import numpy as np\n",
    "import jax as jax\n",
    "jax.config.update(\"jax_enable_x64\", True)\n",
    "import matplotlib.pyplot as plt\n",
    "import logging\n",
    "logging.basicConfig(filename='example.log', filemode='w', level=logging.INFO, force=True)"
   ]
  },
  {
   "cell_type": "code",
   "execution_count": null,
   "metadata": {},
   "outputs": [],
   "source": [
    "#mut_handle = \"../data/paad/G12_PAADPANET_PM_z10_EventsAEP.csv\"\n",
    "#mut_handle = \"../data/paad/G12_PAADPANET_PM_z10_Events_Mut50_Full.csv\"\n",
    "#mut_handle = \"../data/paad/G12_PAADPANET_PM_z10_Events_30and5_Full.csv\"\n",
    "#annot_handle = \"../data/paad/sampleSelection.txt\"\n",
    "mut_handle = \"../data/luad/G13_LUAD_PM_v2_Events_20and15_Full.csv\"\n",
    "annot_handle = \"../data/luad/G13_LUAD_PM_v2_sampleSelection_20and15.csv\"\n",
    "annot_data = pd.read_csv(annot_handle)\n",
    "mut_data = pd.read_csv(mut_handle)\n",
    "mut_data.rename(columns={\"Unnamed: 0\":\"patientID\"}, inplace = True)\n",
    "dat = pd.merge(mut_data, annot_data.loc[:, ['patientID', 'metaStatus']], on=[\"patientID\", \"patientID\"])\n",
    "\n",
    "# Remove datapoints, that consist solely of NaNs\n",
    "dat = dat.loc[dat.iloc[:,1:-3].isna().all(axis=1) == False, :]\n",
    "dat = dat.loc[(dat.iloc[:,1:-3].sum(axis=1) > 0), :]\n",
    "dat.columns"
   ]
  },
  {
   "cell_type": "code",
   "execution_count": null,
   "metadata": {},
   "outputs": [],
   "source": [
    "start = 'P.TP53 (M)'\n",
    "stop = 'M.PTPRD/9p (Amp)'\n",
    "mult = dat.set_index([\"paired\", \"metaStatus\"])\n",
    "cleaned = mult.loc[zip(*[[0,0,0,1],[\"present\", \"absent\", \"isMetastasis\", \"isPaired\"]]), start:stop]\n",
    "cleaned = cleaned.sort_index()\n",
    "cleaned.loc[(0, [\"present\", \"isMetastasis\"]), \"Seeding\"] = 1\n",
    "cleaned.loc[(0, \"absent\"), \"Seeding\"] = 0\n",
    "cleaned.loc[(1, \"isPaired\"), \"Seeding\"] = 1\n",
    "dat_prim_nomet, dat_met_only, dat_prim_met, dat_coupled = utils.split_data(cleaned)\n",
    "print(dat_prim_nomet.shape[0], dat_prim_met.shape[0], dat_coupled.shape[0], dat_met_only.shape[0])"
   ]
  },
  {
   "cell_type": "code",
   "execution_count": null,
   "metadata": {},
   "outputs": [],
   "source": [
    "events = []\n",
    "for elem in cleaned.columns.to_list()[::2]:\n",
    "    iwas = elem.split(\".\")\n",
    "    if len(iwas) > 2:\n",
    "        if iwas[1]  == 'Mut':\n",
    "            events.append(iwas[2] + \" (M)\")\n",
    "        else:\n",
    "            events.append(iwas[1] + \" (\" + iwas[2] + \")\")\n",
    "    elif len(iwas) == 2:\n",
    "        events.append(iwas[1])\n",
    "    else:\n",
    "        events.append(\"Seeding\")"
   ]
  },
  {
   "cell_type": "code",
   "execution_count": null,
   "metadata": {},
   "outputs": [],
   "source": [
    "iwas = {\"EM_Met\":cleaned.loc[(0, \"isMetastasis\")].iloc[:, 1::2].sum(axis=1), \n",
    "        \"EM_Prim\":cleaned.loc[(0, \"present\")].iloc[:, 0:-1:2].sum(axis=1),\n",
    "        \"NM\":cleaned.loc[(0, \"absent\")].iloc[:, 0:-1:2].sum(axis=1)}\n",
    "\n",
    "fig, ax = plt.subplots()\n",
    "ax.boxplot(iwas.values())\n",
    "ax.set_xticklabels(iwas.keys())\n",
    "plt.show()"
   ]
  },
  {
   "cell_type": "code",
   "execution_count": null,
   "metadata": {},
   "outputs": [],
   "source": [
    "n = (cleaned.shape[1]-1)//2\n",
    "n += 1\n",
    "lam1_start = np.log(30/87)\n",
    "lam2_start = np.log(30/87) # observed mean time to second diagnosis is 87/162 days\n",
    "indep = utils.indep(jnp.vstack((dat_met_only, dat_prim_met, dat_prim_nomet)), dat_coupled)\n",
    "start_params = np.append(indep, [lam1_start, lam2_start])"
   ]
  },
  {
   "cell_type": "code",
   "execution_count": null,
   "metadata": {},
   "outputs": [],
   "source": [
    "n_mod = n-1\n",
    "arr = dat_coupled * np.array([1,2]*n_mod+[1])\n",
    "arr = arr @ (np.diag([1,0]*n_mod+[1]) + np.diag([1,0]*n_mod, -1))\n",
    "counts = np.zeros((6, n))\n",
    "for i in range(0,2*n,2):\n",
    "    i_h = int(i/2)\n",
    "    for j in range(1,4):\n",
    "        counts[j-1, i_h] = np.count_nonzero(arr[:,i]==j)/dat_coupled.shape[0]\n",
    "    counts[3, i_h] = np.sum(dat_prim_nomet[:, i], axis=0)/dat_prim_nomet.shape[0]\n",
    "    counts[4, i_h] = (np.sum(dat_prim_met[:, i], axis=0))/dat_prim_met.shape[0]\n",
    "    counts[5, i_h] = (np.sum(dat_met_only[:, i+1], axis=0))/dat_met_only.shape[0]\n",
    "\n",
    "labels = [[\"Coupled (\"+str(dat_coupled.shape[0])+\")\"]*3 +\\\n",
    "          [\"NM (\"+str(dat_prim_nomet.shape[0])+\")\"] +\\\n",
    "          [\"EM-PT (\"+str(dat_prim_met.shape[0])+\")\"] +\\\n",
    "          [\"EM-MT (\"+str(dat_met_only.shape[0])+\")\"],\n",
    "          [\"PT-Private\", \"MT-Private\", \"Shared\"] + [\"Present\"]*3]\n",
    "       \n",
    "inds =  pd.MultiIndex.from_tuples(list(zip(*labels)))\n",
    "iwas = pd.DataFrame(np.around(counts, 2), columns=events, index=inds).T\n",
    "#iwas.to_latex(\"luad_samples.tex\")\n",
    "iwas"
   ]
  },
  {
   "cell_type": "code",
   "execution_count": null,
   "metadata": {},
   "outputs": [],
   "source": [
    "#utils.cross_val(cleaned, np.linspace(0.0001, 0.01, 5), 5, start_params, 0.65, n)"
   ]
  },
  {
   "cell_type": "code",
   "execution_count": null,
   "metadata": {},
   "outputs": [],
   "source": [
    "z = jnp.arange(0, 20).reshape((4,5))\n",
    "print(z)\n",
    "z.sum(axis=0)"
   ]
  },
  {
   "cell_type": "code",
   "execution_count": 10,
   "metadata": {},
   "outputs": [],
   "source": [
    "penal1 = 1/900 # L1 penalty on off-diagonals\n",
    "penal2 = 0.00 # L2 penalty on diagonals\n",
    "m_p_corr = 0.65\n",
    "reg_opt.value_grad(start_params ,dat_prim_nomet, dat_coupled, dat_prim_met, dat_met_only, n-1, penal1, penal2,  m_p_corr)"
   ]
  },
  {
   "cell_type": "code",
   "execution_count": null,
   "metadata": {},
   "outputs": [],
   "source": [
    "penal1 = 1/900 # L1 penalty on off-diagonals\n",
    "penal2 = 0.00 # L2 penalty on diagonals\n",
    "m_p_corr = 0.65\n",
    "x = opt.minimize(reg_opt.value_grad, x0 = start_params, args = (dat_prim_nomet, dat_coupled, dat_prim_met, dat_met_only, n-1, penal1, penal2,  m_p_corr), \n",
    "                method = \"L-BFGS-B\", jac = True, options={\"maxiter\":10000, \"disp\":True, \"ftol\":1e-04})"
   ]
  },
  {
   "cell_type": "code",
   "execution_count": null,
   "metadata": {},
   "outputs": [],
   "source": [
    "print(1/jnp.exp(x.x[-2]))\n",
    "df2 = pd.DataFrame(x.x[:-2].reshape((n, n)), columns=events, index=events)\n",
    "theta = df2.copy()\n",
    "df2[\"Sampling\"] = np.append(np.array(x.x[-2:]), np.zeros(n-2))\n",
    "df2.to_csv(\"../results/luad/luad_paired_only_20_15_0011.csv\")\n",
    "df2.round(3)"
   ]
  },
  {
   "cell_type": "code",
   "execution_count": null,
   "metadata": {},
   "outputs": [],
   "source": [
    "utils.plot_theta(df2, 0.4)"
   ]
  }
 ],
 "metadata": {
  "kernelspec": {
   "display_name": "Python 3",
   "language": "python",
   "name": "python3"
  },
  "language_info": {
   "codemirror_mode": {
    "name": "ipython",
    "version": 3
   },
   "file_extension": ".py",
   "mimetype": "text/x-python",
   "name": "python",
   "nbconvert_exporter": "python",
   "pygments_lexer": "ipython3",
   "version": "3.11.1"
  },
  "orig_nbformat": 4,
  "vscode": {
   "interpreter": {
    "hash": "aee8b7b246df8f9039afb4144a1f6fd8d2ca17a180786b69acc140d282b71a49"
   }
  }
 },
 "nbformat": 4,
 "nbformat_minor": 2
}
